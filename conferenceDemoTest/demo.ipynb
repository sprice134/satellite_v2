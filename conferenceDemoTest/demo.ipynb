{
 "cells": [
  {
   "cell_type": "code",
   "execution_count": 1,
   "metadata": {},
   "outputs": [],
   "source": [
    "from roboflow import Roboflow\n",
    "from ultralytics import YOLO  # Import the YOLO class from the ultralytics package\n"
   ]
  },
  {
   "cell_type": "code",
   "execution_count": 26,
   "metadata": {},
   "outputs": [
    {
     "name": "stdout",
     "output_type": "stream",
     "text": [
      "New https://pypi.org/project/ultralytics/8.1.30 available 😃 Update with 'pip install -U ultralytics'\n",
      "Ultralytics YOLOv8.1.24 🚀 Python-3.11.7 torch-2.2.1 CPU (Apple M3 Pro)\n",
      "\u001b[34m\u001b[1mengine/trainer: \u001b[0mtask=segment, mode=train, model=yolov8s-seg.pt, data=demo3-1/data.yaml, epochs=50, time=None, patience=100, batch=16, imgsz=640, save=True, save_period=-1, cache=False, device=None, workers=8, project=models, name=train4, exist_ok=False, pretrained=True, optimizer=auto, verbose=True, seed=0, deterministic=True, single_cls=False, rect=False, cos_lr=False, close_mosaic=10, resume=False, amp=True, fraction=1.0, profile=False, freeze=None, multi_scale=False, overlap_mask=True, mask_ratio=4, dropout=0.0, val=True, split=val, save_json=False, save_hybrid=False, conf=None, iou=0.7, max_det=300, half=False, dnn=False, plots=True, source=None, vid_stride=1, stream_buffer=False, visualize=False, augment=False, agnostic_nms=False, classes=None, retina_masks=False, embed=None, show=False, save_frames=False, save_txt=False, save_conf=False, save_crop=False, show_labels=True, show_conf=True, show_boxes=True, line_width=None, format=torchscript, keras=False, optimize=False, int8=False, dynamic=False, simplify=False, opset=None, workspace=4, nms=False, lr0=0.01, lrf=0.01, momentum=0.937, weight_decay=0.0005, warmup_epochs=3.0, warmup_momentum=0.8, warmup_bias_lr=0.1, box=7.5, cls=0.5, dfl=1.5, pose=12.0, kobj=1.0, label_smoothing=0.0, nbs=64, hsv_h=0.015, hsv_s=0.7, hsv_v=0.4, degrees=0.0, translate=0.1, scale=0.5, shear=0.0, perspective=0.0, flipud=0.0, fliplr=0.5, mosaic=1.0, mixup=0.0, copy_paste=0.0, auto_augment=randaugment, erasing=0.4, crop_fraction=1.0, cfg=None, tracker=botsort.yaml, save_dir=models/train4\n",
      "Overriding model.yaml nc=80 with nc=1\n",
      "\n",
      "                   from  n    params  module                                       arguments                     \n",
      "  0                  -1  1       928  ultralytics.nn.modules.conv.Conv             [3, 32, 3, 2]                 \n",
      "  1                  -1  1     18560  ultralytics.nn.modules.conv.Conv             [32, 64, 3, 2]                \n",
      "  2                  -1  1     29056  ultralytics.nn.modules.block.C2f             [64, 64, 1, True]             \n",
      "  3                  -1  1     73984  ultralytics.nn.modules.conv.Conv             [64, 128, 3, 2]               \n",
      "  4                  -1  2    197632  ultralytics.nn.modules.block.C2f             [128, 128, 2, True]           \n",
      "  5                  -1  1    295424  ultralytics.nn.modules.conv.Conv             [128, 256, 3, 2]              \n",
      "  6                  -1  2    788480  ultralytics.nn.modules.block.C2f             [256, 256, 2, True]           \n",
      "  7                  -1  1   1180672  ultralytics.nn.modules.conv.Conv             [256, 512, 3, 2]              \n",
      "  8                  -1  1   1838080  ultralytics.nn.modules.block.C2f             [512, 512, 1, True]           \n",
      "  9                  -1  1    656896  ultralytics.nn.modules.block.SPPF            [512, 512, 5]                 \n",
      " 10                  -1  1         0  torch.nn.modules.upsampling.Upsample         [None, 2, 'nearest']          \n",
      " 11             [-1, 6]  1         0  ultralytics.nn.modules.conv.Concat           [1]                           \n",
      " 12                  -1  1    591360  ultralytics.nn.modules.block.C2f             [768, 256, 1]                 \n",
      " 13                  -1  1         0  torch.nn.modules.upsampling.Upsample         [None, 2, 'nearest']          \n",
      " 14             [-1, 4]  1         0  ultralytics.nn.modules.conv.Concat           [1]                           \n",
      " 15                  -1  1    148224  ultralytics.nn.modules.block.C2f             [384, 128, 1]                 \n",
      " 16                  -1  1    147712  ultralytics.nn.modules.conv.Conv             [128, 128, 3, 2]              \n",
      " 17            [-1, 12]  1         0  ultralytics.nn.modules.conv.Concat           [1]                           \n",
      " 18                  -1  1    493056  ultralytics.nn.modules.block.C2f             [384, 256, 1]                 \n",
      " 19                  -1  1    590336  ultralytics.nn.modules.conv.Conv             [256, 256, 3, 2]              \n",
      " 20             [-1, 9]  1         0  ultralytics.nn.modules.conv.Concat           [1]                           \n",
      " 21                  -1  1   1969152  ultralytics.nn.modules.block.C2f             [768, 512, 1]                 \n",
      " 22        [15, 18, 21]  1   2770931  ultralytics.nn.modules.head.Segment          [1, 32, 128, [128, 256, 512]] \n",
      "YOLOv8s-seg summary: 261 layers, 11790483 parameters, 11790467 gradients, 42.7 GFLOPs\n",
      "\n",
      "Transferred 411/417 items from pretrained weights\n",
      "Freezing layer 'model.22.dfl.conv.weight'\n"
     ]
    },
    {
     "name": "stderr",
     "output_type": "stream",
     "text": [
      "\u001b[34m\u001b[1mtrain: \u001b[0mScanning /Users/sprice/Documents/GitHub/satellite_v2/conferenceDemoTest/demo3-1/train/labels.cache... 18 images, 0 backgrounds, 0 corrupt: 100%|██████████| 18/18 [00:00<?, ?it/s]\n",
      "\u001b[34m\u001b[1mval: \u001b[0mScanning /Users/sprice/Documents/GitHub/satellite_v2/conferenceDemoTest/demo3-1/valid/labels.cache... 5 images, 0 backgrounds, 0 corrupt: 100%|██████████| 5/5 [00:00<?, ?it/s]"
     ]
    },
    {
     "name": "stdout",
     "output_type": "stream",
     "text": [
      "Plotting labels to models/train4/labels.jpg... \n"
     ]
    },
    {
     "name": "stderr",
     "output_type": "stream",
     "text": [
      "\n"
     ]
    },
    {
     "name": "stdout",
     "output_type": "stream",
     "text": [
      "\u001b[34m\u001b[1moptimizer:\u001b[0m 'optimizer=auto' found, ignoring 'lr0=0.01' and 'momentum=0.937' and determining best 'optimizer', 'lr0' and 'momentum' automatically... \n",
      "\u001b[34m\u001b[1moptimizer:\u001b[0m AdamW(lr=0.002, momentum=0.9) with parameter groups 66 weight(decay=0.0), 77 weight(decay=0.0005), 76 bias(decay=0.0)\n",
      "Image sizes 640 train, 640 val\n",
      "Using 0 dataloader workers\n",
      "Logging results to \u001b[1mmodels/train4\u001b[0m\n",
      "Starting training for 50 epochs...\n",
      "\n",
      "      Epoch    GPU_mem   box_loss   seg_loss   cls_loss   dfl_loss  Instances       Size\n"
     ]
    },
    {
     "name": "stderr",
     "output_type": "stream",
     "text": [
      "       1/50         0G      3.414      5.083      6.575      1.477        320        640: 100%|██████████| 2/2 [00:21<00:00, 10.83s/it]\n",
      "                 Class     Images  Instances      Box(P          R      mAP50  mAP50-95)     Mask(P          R      mAP50  mAP50-95): 100%|██████████| 1/1 [00:01<00:00,  1.12s/it]"
     ]
    },
    {
     "name": "stdout",
     "output_type": "stream",
     "text": [
      "                   all          5        334          0          0          0          0          0          0          0          0\n"
     ]
    },
    {
     "name": "stderr",
     "output_type": "stream",
     "text": [
      "\n"
     ]
    },
    {
     "name": "stdout",
     "output_type": "stream",
     "text": [
      "\n",
      "      Epoch    GPU_mem   box_loss   seg_loss   cls_loss   dfl_loss  Instances       Size\n"
     ]
    },
    {
     "name": "stderr",
     "output_type": "stream",
     "text": [
      "       2/50         0G      2.676      4.087      5.052      1.203        243        640: 100%|██████████| 2/2 [00:18<00:00,  9.48s/it]\n",
      "                 Class     Images  Instances      Box(P          R      mAP50  mAP50-95)     Mask(P          R      mAP50  mAP50-95): 100%|██████████| 1/1 [00:01<00:00,  1.18s/it]"
     ]
    },
    {
     "name": "stdout",
     "output_type": "stream",
     "text": [
      "                   all          5        334          0          0          0          0          0          0          0          0\n"
     ]
    },
    {
     "name": "stderr",
     "output_type": "stream",
     "text": [
      "\n"
     ]
    },
    {
     "name": "stdout",
     "output_type": "stream",
     "text": [
      "\n",
      "      Epoch    GPU_mem   box_loss   seg_loss   cls_loss   dfl_loss  Instances       Size\n"
     ]
    },
    {
     "name": "stderr",
     "output_type": "stream",
     "text": [
      "       3/50         0G      2.311      3.925      3.916      1.147        194        640: 100%|██████████| 2/2 [00:18<00:00,  9.35s/it]\n",
      "                 Class     Images  Instances      Box(P          R      mAP50  mAP50-95)     Mask(P          R      mAP50  mAP50-95): 100%|██████████| 1/1 [00:01<00:00,  1.07s/it]"
     ]
    },
    {
     "name": "stdout",
     "output_type": "stream",
     "text": [
      "                   all          5        334     0.0178     0.0329    0.00757     0.0049     0.0133     0.0599    0.00791    0.00265\n"
     ]
    },
    {
     "name": "stderr",
     "output_type": "stream",
     "text": [
      "\n"
     ]
    },
    {
     "name": "stdout",
     "output_type": "stream",
     "text": [
      "\n",
      "      Epoch    GPU_mem   box_loss   seg_loss   cls_loss   dfl_loss  Instances       Size\n"
     ]
    },
    {
     "name": "stderr",
     "output_type": "stream",
     "text": [
      "       4/50         0G      2.274       3.42      2.835      1.027        255        640: 100%|██████████| 2/2 [00:18<00:00,  9.40s/it]\n",
      "                 Class     Images  Instances      Box(P          R      mAP50  mAP50-95)     Mask(P          R      mAP50  mAP50-95): 100%|██████████| 1/1 [00:01<00:00,  1.09s/it]"
     ]
    },
    {
     "name": "stdout",
     "output_type": "stream",
     "text": [
      "                   all          5        334       0.32       0.15       0.11     0.0541      0.304      0.123     0.0959     0.0321\n"
     ]
    },
    {
     "name": "stderr",
     "output_type": "stream",
     "text": [
      "\n"
     ]
    },
    {
     "name": "stdout",
     "output_type": "stream",
     "text": [
      "\n",
      "      Epoch    GPU_mem   box_loss   seg_loss   cls_loss   dfl_loss  Instances       Size\n"
     ]
    },
    {
     "name": "stderr",
     "output_type": "stream",
     "text": [
      "       5/50         0G      2.033      2.824      2.225     0.9624        232        640: 100%|██████████| 2/2 [00:18<00:00,  9.31s/it]\n",
      "                 Class     Images  Instances      Box(P          R      mAP50  mAP50-95)     Mask(P          R      mAP50  mAP50-95): 100%|██████████| 1/1 [00:01<00:00,  1.05s/it]"
     ]
    },
    {
     "name": "stdout",
     "output_type": "stream",
     "text": [
      "                   all          5        334      0.431      0.228      0.193     0.0859      0.399      0.223      0.172     0.0603\n"
     ]
    },
    {
     "name": "stderr",
     "output_type": "stream",
     "text": [
      "\n"
     ]
    },
    {
     "name": "stdout",
     "output_type": "stream",
     "text": [
      "\n",
      "      Epoch    GPU_mem   box_loss   seg_loss   cls_loss   dfl_loss  Instances       Size\n"
     ]
    },
    {
     "name": "stderr",
     "output_type": "stream",
     "text": [
      "       6/50         0G      2.106      2.679      2.028     0.9643        119        640: 100%|██████████| 2/2 [00:18<00:00,  9.29s/it]\n",
      "                 Class     Images  Instances      Box(P          R      mAP50  mAP50-95)     Mask(P          R      mAP50  mAP50-95): 100%|██████████| 1/1 [00:01<00:00,  1.01s/it]"
     ]
    },
    {
     "name": "stdout",
     "output_type": "stream",
     "text": [
      "                   all          5        334      0.342      0.263      0.195     0.0775      0.415      0.272       0.21     0.0671\n"
     ]
    },
    {
     "name": "stderr",
     "output_type": "stream",
     "text": [
      "\n"
     ]
    },
    {
     "name": "stdout",
     "output_type": "stream",
     "text": [
      "\n",
      "      Epoch    GPU_mem   box_loss   seg_loss   cls_loss   dfl_loss  Instances       Size\n"
     ]
    },
    {
     "name": "stderr",
     "output_type": "stream",
     "text": [
      "       7/50         0G      2.243      3.615      2.297     0.9448        355        640: 100%|██████████| 2/2 [00:18<00:00,  9.02s/it]\n",
      "                 Class     Images  Instances      Box(P          R      mAP50  mAP50-95)     Mask(P          R      mAP50  mAP50-95): 100%|██████████| 1/1 [00:01<00:00,  1.06s/it]"
     ]
    },
    {
     "name": "stdout",
     "output_type": "stream",
     "text": [
      "                   all          5        334      0.435      0.249      0.249     0.0982      0.264      0.329      0.175     0.0557\n"
     ]
    },
    {
     "name": "stderr",
     "output_type": "stream",
     "text": [
      "\n"
     ]
    },
    {
     "name": "stdout",
     "output_type": "stream",
     "text": [
      "\n",
      "      Epoch    GPU_mem   box_loss   seg_loss   cls_loss   dfl_loss  Instances       Size\n"
     ]
    },
    {
     "name": "stderr",
     "output_type": "stream",
     "text": [
      "       8/50         0G      1.974      2.509      1.705     0.9279        133        640: 100%|██████████| 2/2 [00:19<00:00,  9.56s/it]\n",
      "                 Class     Images  Instances      Box(P          R      mAP50  mAP50-95)     Mask(P          R      mAP50  mAP50-95): 100%|██████████| 1/1 [00:00<00:00,  1.02it/s]"
     ]
    },
    {
     "name": "stdout",
     "output_type": "stream",
     "text": [
      "                   all          5        334       0.41      0.325      0.303      0.117      0.284      0.254      0.171     0.0548\n"
     ]
    },
    {
     "name": "stderr",
     "output_type": "stream",
     "text": [
      "\n"
     ]
    },
    {
     "name": "stdout",
     "output_type": "stream",
     "text": [
      "\n",
      "      Epoch    GPU_mem   box_loss   seg_loss   cls_loss   dfl_loss  Instances       Size\n"
     ]
    },
    {
     "name": "stderr",
     "output_type": "stream",
     "text": [
      "       9/50         0G      1.938      2.538      1.492     0.9095        150        640: 100%|██████████| 2/2 [00:18<00:00,  9.10s/it]\n",
      "                 Class     Images  Instances      Box(P          R      mAP50  mAP50-95)     Mask(P          R      mAP50  mAP50-95): 100%|██████████| 1/1 [00:01<00:00,  1.13s/it]"
     ]
    },
    {
     "name": "stdout",
     "output_type": "stream",
     "text": [
      "                   all          5        334      0.432      0.368      0.317      0.122      0.235      0.359      0.185     0.0575\n"
     ]
    },
    {
     "name": "stderr",
     "output_type": "stream",
     "text": [
      "\n"
     ]
    },
    {
     "name": "stdout",
     "output_type": "stream",
     "text": [
      "\n",
      "      Epoch    GPU_mem   box_loss   seg_loss   cls_loss   dfl_loss  Instances       Size\n"
     ]
    },
    {
     "name": "stderr",
     "output_type": "stream",
     "text": [
      "      10/50         0G      1.919      2.471      1.486     0.9067        232        640: 100%|██████████| 2/2 [00:19<00:00,  9.64s/it]\n",
      "                 Class     Images  Instances      Box(P          R      mAP50  mAP50-95)     Mask(P          R      mAP50  mAP50-95): 100%|██████████| 1/1 [00:01<00:00,  1.08s/it]"
     ]
    },
    {
     "name": "stdout",
     "output_type": "stream",
     "text": [
      "                   all          5        334      0.436      0.386      0.332      0.123        0.3      0.304       0.21     0.0568\n"
     ]
    },
    {
     "name": "stderr",
     "output_type": "stream",
     "text": [
      "\n"
     ]
    },
    {
     "name": "stdout",
     "output_type": "stream",
     "text": [
      "\n",
      "      Epoch    GPU_mem   box_loss   seg_loss   cls_loss   dfl_loss  Instances       Size\n"
     ]
    },
    {
     "name": "stderr",
     "output_type": "stream",
     "text": [
      "      11/50         0G      2.089      2.851      1.663     0.9116        204        640: 100%|██████████| 2/2 [00:18<00:00,  9.37s/it]\n",
      "                 Class     Images  Instances      Box(P          R      mAP50  mAP50-95)     Mask(P          R      mAP50  mAP50-95): 100%|██████████| 1/1 [00:00<00:00,  1.01it/s]"
     ]
    },
    {
     "name": "stdout",
     "output_type": "stream",
     "text": [
      "                   all          5        334      0.415      0.392      0.367      0.134      0.293      0.302      0.205     0.0563\n"
     ]
    },
    {
     "name": "stderr",
     "output_type": "stream",
     "text": [
      "\n"
     ]
    },
    {
     "name": "stdout",
     "output_type": "stream",
     "text": [
      "\n",
      "      Epoch    GPU_mem   box_loss   seg_loss   cls_loss   dfl_loss  Instances       Size\n"
     ]
    },
    {
     "name": "stderr",
     "output_type": "stream",
     "text": [
      "      12/50         0G      1.663      2.229      1.266     0.9006        134        640: 100%|██████████| 2/2 [00:18<00:00,  9.32s/it]\n",
      "                 Class     Images  Instances      Box(P          R      mAP50  mAP50-95)     Mask(P          R      mAP50  mAP50-95): 100%|██████████| 1/1 [00:01<00:00,  1.01s/it]"
     ]
    },
    {
     "name": "stdout",
     "output_type": "stream",
     "text": [
      "                   all          5        334      0.451      0.413      0.366      0.133      0.299      0.308      0.216      0.063\n"
     ]
    },
    {
     "name": "stderr",
     "output_type": "stream",
     "text": [
      "\n"
     ]
    },
    {
     "name": "stdout",
     "output_type": "stream",
     "text": [
      "\n",
      "      Epoch    GPU_mem   box_loss   seg_loss   cls_loss   dfl_loss  Instances       Size\n"
     ]
    },
    {
     "name": "stderr",
     "output_type": "stream",
     "text": [
      "      13/50         0G      1.882      2.305      1.424     0.9058        111        640: 100%|██████████| 2/2 [00:18<00:00,  9.15s/it]\n",
      "                 Class     Images  Instances      Box(P          R      mAP50  mAP50-95)     Mask(P          R      mAP50  mAP50-95): 100%|██████████| 1/1 [00:00<00:00,  1.02it/s]"
     ]
    },
    {
     "name": "stdout",
     "output_type": "stream",
     "text": [
      "                   all          5        334      0.466      0.395       0.37      0.144      0.267      0.305      0.205      0.066\n"
     ]
    },
    {
     "name": "stderr",
     "output_type": "stream",
     "text": [
      "\n"
     ]
    },
    {
     "name": "stdout",
     "output_type": "stream",
     "text": [
      "\n",
      "      Epoch    GPU_mem   box_loss   seg_loss   cls_loss   dfl_loss  Instances       Size\n"
     ]
    },
    {
     "name": "stderr",
     "output_type": "stream",
     "text": [
      "      14/50         0G      1.865       2.13      1.303     0.8792        190        640: 100%|██████████| 2/2 [00:18<00:00,  9.39s/it]\n",
      "                 Class     Images  Instances      Box(P          R      mAP50  mAP50-95)     Mask(P          R      mAP50  mAP50-95): 100%|██████████| 1/1 [00:01<00:00,  1.00s/it]"
     ]
    },
    {
     "name": "stdout",
     "output_type": "stream",
     "text": [
      "                   all          5        334      0.439      0.416      0.374      0.141       0.29      0.314      0.218     0.0582\n"
     ]
    },
    {
     "name": "stderr",
     "output_type": "stream",
     "text": [
      "\n"
     ]
    },
    {
     "name": "stdout",
     "output_type": "stream",
     "text": [
      "\n",
      "      Epoch    GPU_mem   box_loss   seg_loss   cls_loss   dfl_loss  Instances       Size\n"
     ]
    },
    {
     "name": "stderr",
     "output_type": "stream",
     "text": [
      "      15/50         0G      1.663      2.122      1.323     0.9079        167        640: 100%|██████████| 2/2 [00:18<00:00,  9.33s/it]\n",
      "                 Class     Images  Instances      Box(P          R      mAP50  mAP50-95)     Mask(P          R      mAP50  mAP50-95): 100%|██████████| 1/1 [00:00<00:00,  1.00it/s]"
     ]
    },
    {
     "name": "stdout",
     "output_type": "stream",
     "text": [
      "                   all          5        334      0.439      0.386      0.364      0.138      0.312      0.305      0.219     0.0616\n"
     ]
    },
    {
     "name": "stderr",
     "output_type": "stream",
     "text": [
      "\n"
     ]
    },
    {
     "name": "stdout",
     "output_type": "stream",
     "text": [
      "\n",
      "      Epoch    GPU_mem   box_loss   seg_loss   cls_loss   dfl_loss  Instances       Size\n"
     ]
    },
    {
     "name": "stderr",
     "output_type": "stream",
     "text": [
      "      16/50         0G      1.906       2.77      1.436     0.8799        222        640: 100%|██████████| 2/2 [00:18<00:00,  9.37s/it]\n",
      "                 Class     Images  Instances      Box(P          R      mAP50  mAP50-95)     Mask(P          R      mAP50  mAP50-95): 100%|██████████| 1/1 [00:01<00:00,  1.00s/it]"
     ]
    },
    {
     "name": "stdout",
     "output_type": "stream",
     "text": [
      "                   all          5        334      0.485      0.374      0.363      0.139      0.354      0.308      0.231     0.0687\n"
     ]
    },
    {
     "name": "stderr",
     "output_type": "stream",
     "text": [
      "\n"
     ]
    },
    {
     "name": "stdout",
     "output_type": "stream",
     "text": [
      "\n",
      "      Epoch    GPU_mem   box_loss   seg_loss   cls_loss   dfl_loss  Instances       Size\n"
     ]
    },
    {
     "name": "stderr",
     "output_type": "stream",
     "text": [
      "      17/50         0G       1.83      2.373        1.3     0.8818        227        640: 100%|██████████| 2/2 [00:18<00:00,  9.37s/it]\n",
      "                 Class     Images  Instances      Box(P          R      mAP50  mAP50-95)     Mask(P          R      mAP50  mAP50-95): 100%|██████████| 1/1 [00:06<00:00,  6.97s/it]"
     ]
    },
    {
     "name": "stdout",
     "output_type": "stream",
     "text": [
      "                   all          5        334      0.544      0.386      0.408      0.158      0.473      0.338        0.3     0.0823\n"
     ]
    },
    {
     "name": "stderr",
     "output_type": "stream",
     "text": [
      "\n"
     ]
    },
    {
     "name": "stdout",
     "output_type": "stream",
     "text": [
      "\n",
      "      Epoch    GPU_mem   box_loss   seg_loss   cls_loss   dfl_loss  Instances       Size\n"
     ]
    },
    {
     "name": "stderr",
     "output_type": "stream",
     "text": [
      "      18/50         0G      1.662      2.082      1.169     0.8686        144        640: 100%|██████████| 2/2 [00:33<00:00, 16.61s/it]\n",
      "                 Class     Images  Instances      Box(P          R      mAP50  mAP50-95)     Mask(P          R      mAP50  mAP50-95): 100%|██████████| 1/1 [00:01<00:00,  1.06s/it]"
     ]
    },
    {
     "name": "stdout",
     "output_type": "stream",
     "text": [
      "                   all          5        334      0.546      0.407      0.429      0.179      0.444      0.329      0.313     0.0842\n"
     ]
    },
    {
     "name": "stderr",
     "output_type": "stream",
     "text": [
      "\n"
     ]
    },
    {
     "name": "stdout",
     "output_type": "stream",
     "text": [
      "\n",
      "      Epoch    GPU_mem   box_loss   seg_loss   cls_loss   dfl_loss  Instances       Size\n"
     ]
    },
    {
     "name": "stderr",
     "output_type": "stream",
     "text": [
      "      19/50         0G      1.842       2.18      1.246     0.8683        312        640: 100%|██████████| 2/2 [00:18<00:00,  9.32s/it]\n",
      "                 Class     Images  Instances      Box(P          R      mAP50  mAP50-95)     Mask(P          R      mAP50  mAP50-95): 100%|██████████| 1/1 [00:01<00:00,  1.04s/it]"
     ]
    },
    {
     "name": "stdout",
     "output_type": "stream",
     "text": [
      "                   all          5        334      0.472      0.476      0.439      0.183      0.421      0.317      0.295     0.0865\n"
     ]
    },
    {
     "name": "stderr",
     "output_type": "stream",
     "text": [
      "\n"
     ]
    },
    {
     "name": "stdout",
     "output_type": "stream",
     "text": [
      "\n",
      "      Epoch    GPU_mem   box_loss   seg_loss   cls_loss   dfl_loss  Instances       Size\n"
     ]
    },
    {
     "name": "stderr",
     "output_type": "stream",
     "text": [
      "      20/50         0G      1.768      2.075      1.208      0.888        209        640: 100%|██████████| 2/2 [00:18<00:00,  9.47s/it]\n",
      "                 Class     Images  Instances      Box(P          R      mAP50  mAP50-95)     Mask(P          R      mAP50  mAP50-95): 100%|██████████| 1/1 [00:01<00:00,  1.08s/it]"
     ]
    },
    {
     "name": "stdout",
     "output_type": "stream",
     "text": [
      "                   all          5        334      0.624       0.38      0.426       0.18      0.441      0.353      0.332      0.094\n"
     ]
    },
    {
     "name": "stderr",
     "output_type": "stream",
     "text": [
      "\n"
     ]
    },
    {
     "name": "stdout",
     "output_type": "stream",
     "text": [
      "\n",
      "      Epoch    GPU_mem   box_loss   seg_loss   cls_loss   dfl_loss  Instances       Size\n"
     ]
    },
    {
     "name": "stderr",
     "output_type": "stream",
     "text": [
      "      21/50         0G      1.718      1.947      1.169     0.8572        171        640: 100%|██████████| 2/2 [00:19<00:00,  9.55s/it]\n",
      "                 Class     Images  Instances      Box(P          R      mAP50  mAP50-95)     Mask(P          R      mAP50  mAP50-95): 100%|██████████| 1/1 [00:01<00:00,  1.07s/it]"
     ]
    },
    {
     "name": "stdout",
     "output_type": "stream",
     "text": [
      "                   all          5        334      0.496      0.424      0.406      0.168      0.411      0.359      0.317     0.0876\n"
     ]
    },
    {
     "name": "stderr",
     "output_type": "stream",
     "text": [
      "\n"
     ]
    },
    {
     "name": "stdout",
     "output_type": "stream",
     "text": [
      "\n",
      "      Epoch    GPU_mem   box_loss   seg_loss   cls_loss   dfl_loss  Instances       Size\n"
     ]
    },
    {
     "name": "stderr",
     "output_type": "stream",
     "text": [
      "      22/50         0G      1.648      2.088      1.308     0.8783        114        640: 100%|██████████| 2/2 [00:18<00:00,  9.38s/it]\n",
      "                 Class     Images  Instances      Box(P          R      mAP50  mAP50-95)     Mask(P          R      mAP50  mAP50-95): 100%|██████████| 1/1 [00:01<00:00,  1.03s/it]"
     ]
    },
    {
     "name": "stdout",
     "output_type": "stream",
     "text": [
      "                   all          5        334       0.54      0.392      0.403      0.165      0.351      0.382      0.296     0.0777\n"
     ]
    },
    {
     "name": "stderr",
     "output_type": "stream",
     "text": [
      "\n"
     ]
    },
    {
     "name": "stdout",
     "output_type": "stream",
     "text": [
      "\n",
      "      Epoch    GPU_mem   box_loss   seg_loss   cls_loss   dfl_loss  Instances       Size\n"
     ]
    },
    {
     "name": "stderr",
     "output_type": "stream",
     "text": [
      "      23/50         0G      1.697      2.257      1.165     0.8752        163        640: 100%|██████████| 2/2 [00:18<00:00,  9.46s/it]\n",
      "                 Class     Images  Instances      Box(P          R      mAP50  mAP50-95)     Mask(P          R      mAP50  mAP50-95): 100%|██████████| 1/1 [00:01<00:00,  1.11s/it]"
     ]
    },
    {
     "name": "stdout",
     "output_type": "stream",
     "text": [
      "                   all          5        334      0.534       0.39      0.411      0.167      0.369      0.377      0.309     0.0869\n"
     ]
    },
    {
     "name": "stderr",
     "output_type": "stream",
     "text": [
      "\n"
     ]
    },
    {
     "name": "stdout",
     "output_type": "stream",
     "text": [
      "\n",
      "      Epoch    GPU_mem   box_loss   seg_loss   cls_loss   dfl_loss  Instances       Size\n"
     ]
    },
    {
     "name": "stderr",
     "output_type": "stream",
     "text": [
      "      24/50         0G      1.852      2.324      1.143     0.8591        198        640: 100%|██████████| 2/2 [00:19<00:00,  9.56s/it]\n",
      "                 Class     Images  Instances      Box(P          R      mAP50  mAP50-95)     Mask(P          R      mAP50  mAP50-95): 100%|██████████| 1/1 [00:01<00:00,  1.06s/it]"
     ]
    },
    {
     "name": "stdout",
     "output_type": "stream",
     "text": [
      "                   all          5        334      0.515      0.404      0.418      0.157      0.377      0.389      0.307     0.0862\n"
     ]
    },
    {
     "name": "stderr",
     "output_type": "stream",
     "text": [
      "\n"
     ]
    },
    {
     "name": "stdout",
     "output_type": "stream",
     "text": [
      "\n",
      "      Epoch    GPU_mem   box_loss   seg_loss   cls_loss   dfl_loss  Instances       Size\n"
     ]
    },
    {
     "name": "stderr",
     "output_type": "stream",
     "text": [
      "      25/50         0G      1.666      1.987       1.09     0.8653        161        640: 100%|██████████| 2/2 [00:18<00:00,  9.24s/it]\n",
      "                 Class     Images  Instances      Box(P          R      mAP50  mAP50-95)     Mask(P          R      mAP50  mAP50-95): 100%|██████████| 1/1 [00:01<00:00,  1.05s/it]"
     ]
    },
    {
     "name": "stdout",
     "output_type": "stream",
     "text": [
      "                   all          5        334      0.486      0.413      0.406      0.158       0.34      0.359      0.261     0.0773\n"
     ]
    },
    {
     "name": "stderr",
     "output_type": "stream",
     "text": [
      "\n"
     ]
    },
    {
     "name": "stdout",
     "output_type": "stream",
     "text": [
      "\n",
      "      Epoch    GPU_mem   box_loss   seg_loss   cls_loss   dfl_loss  Instances       Size\n"
     ]
    },
    {
     "name": "stderr",
     "output_type": "stream",
     "text": [
      "      26/50         0G      1.865      2.485      1.265     0.8638        379        640: 100%|██████████| 2/2 [00:18<00:00,  9.06s/it]\n",
      "                 Class     Images  Instances      Box(P          R      mAP50  mAP50-95)     Mask(P          R      mAP50  mAP50-95): 100%|██████████| 1/1 [00:00<00:00,  1.05it/s]"
     ]
    },
    {
     "name": "stdout",
     "output_type": "stream",
     "text": [
      "                   all          5        334      0.542      0.398      0.409      0.165      0.387      0.297      0.239     0.0727\n"
     ]
    },
    {
     "name": "stderr",
     "output_type": "stream",
     "text": [
      "\n"
     ]
    },
    {
     "name": "stdout",
     "output_type": "stream",
     "text": [
      "\n",
      "      Epoch    GPU_mem   box_loss   seg_loss   cls_loss   dfl_loss  Instances       Size\n"
     ]
    },
    {
     "name": "stderr",
     "output_type": "stream",
     "text": [
      "      27/50         0G      1.624      1.939      1.106     0.8746        102        640: 100%|██████████| 2/2 [00:18<00:00,  9.15s/it]\n",
      "                 Class     Images  Instances      Box(P          R      mAP50  mAP50-95)     Mask(P          R      mAP50  mAP50-95): 100%|██████████| 1/1 [00:01<00:00,  1.07s/it]"
     ]
    },
    {
     "name": "stdout",
     "output_type": "stream",
     "text": [
      "                   all          5        334      0.559      0.431      0.462      0.179      0.427      0.308      0.287     0.0776\n"
     ]
    },
    {
     "name": "stderr",
     "output_type": "stream",
     "text": [
      "\n"
     ]
    },
    {
     "name": "stdout",
     "output_type": "stream",
     "text": [
      "\n",
      "      Epoch    GPU_mem   box_loss   seg_loss   cls_loss   dfl_loss  Instances       Size\n"
     ]
    },
    {
     "name": "stderr",
     "output_type": "stream",
     "text": [
      "      28/50         0G      1.791       2.79      1.201     0.8596        307        640: 100%|██████████| 2/2 [00:19<00:00,  9.53s/it]\n",
      "                 Class     Images  Instances      Box(P          R      mAP50  mAP50-95)     Mask(P          R      mAP50  mAP50-95): 100%|██████████| 1/1 [00:01<00:00,  1.16s/it]"
     ]
    },
    {
     "name": "stdout",
     "output_type": "stream",
     "text": [
      "                   all          5        334      0.559      0.431      0.462      0.179      0.427      0.308      0.287     0.0776\n"
     ]
    },
    {
     "name": "stderr",
     "output_type": "stream",
     "text": [
      "\n"
     ]
    },
    {
     "name": "stdout",
     "output_type": "stream",
     "text": [
      "\n",
      "      Epoch    GPU_mem   box_loss   seg_loss   cls_loss   dfl_loss  Instances       Size\n"
     ]
    },
    {
     "name": "stderr",
     "output_type": "stream",
     "text": [
      "      29/50         0G      1.502      1.824      1.021     0.8469        168        640: 100%|██████████| 2/2 [00:18<00:00,  9.41s/it]\n",
      "                 Class     Images  Instances      Box(P          R      mAP50  mAP50-95)     Mask(P          R      mAP50  mAP50-95): 100%|██████████| 1/1 [00:01<00:00,  1.07s/it]"
     ]
    },
    {
     "name": "stdout",
     "output_type": "stream",
     "text": [
      "                   all          5        334      0.601      0.431      0.461      0.188      0.427      0.323      0.295     0.0828\n"
     ]
    },
    {
     "name": "stderr",
     "output_type": "stream",
     "text": [
      "\n"
     ]
    },
    {
     "name": "stdout",
     "output_type": "stream",
     "text": [
      "\n",
      "      Epoch    GPU_mem   box_loss   seg_loss   cls_loss   dfl_loss  Instances       Size\n"
     ]
    },
    {
     "name": "stderr",
     "output_type": "stream",
     "text": [
      "      30/50         0G      1.784      2.211      1.135     0.8615        252        640: 100%|██████████| 2/2 [00:18<00:00,  9.36s/it]\n",
      "                 Class     Images  Instances      Box(P          R      mAP50  mAP50-95)     Mask(P          R      mAP50  mAP50-95): 100%|██████████| 1/1 [00:01<00:00,  1.10s/it]"
     ]
    },
    {
     "name": "stdout",
     "output_type": "stream",
     "text": [
      "                   all          5        334      0.609      0.434      0.465      0.186      0.445      0.344      0.312     0.0952\n"
     ]
    },
    {
     "name": "stderr",
     "output_type": "stream",
     "text": [
      "\n"
     ]
    },
    {
     "name": "stdout",
     "output_type": "stream",
     "text": [
      "\n",
      "      Epoch    GPU_mem   box_loss   seg_loss   cls_loss   dfl_loss  Instances       Size\n"
     ]
    },
    {
     "name": "stderr",
     "output_type": "stream",
     "text": [
      "      31/50         0G        1.6      1.898      1.058     0.8718         95        640: 100%|██████████| 2/2 [00:18<00:00,  9.28s/it]\n",
      "                 Class     Images  Instances      Box(P          R      mAP50  mAP50-95)     Mask(P          R      mAP50  mAP50-95): 100%|██████████| 1/1 [00:01<00:00,  1.05s/it]"
     ]
    },
    {
     "name": "stdout",
     "output_type": "stream",
     "text": [
      "                   all          5        334      0.609      0.434      0.465      0.186      0.445      0.344      0.312     0.0952\n"
     ]
    },
    {
     "name": "stderr",
     "output_type": "stream",
     "text": [
      "\n"
     ]
    },
    {
     "name": "stdout",
     "output_type": "stream",
     "text": [
      "\n",
      "      Epoch    GPU_mem   box_loss   seg_loss   cls_loss   dfl_loss  Instances       Size\n"
     ]
    },
    {
     "name": "stderr",
     "output_type": "stream",
     "text": [
      "      32/50         0G       1.72      1.842      1.092     0.8473        190        640: 100%|██████████| 2/2 [00:19<00:00,  9.53s/it]\n",
      "                 Class     Images  Instances      Box(P          R      mAP50  mAP50-95)     Mask(P          R      mAP50  mAP50-95): 100%|██████████| 1/1 [00:01<00:00,  1.04s/it]"
     ]
    },
    {
     "name": "stdout",
     "output_type": "stream",
     "text": [
      "                   all          5        334      0.585      0.425      0.436      0.175      0.403      0.353      0.302     0.0962\n"
     ]
    },
    {
     "name": "stderr",
     "output_type": "stream",
     "text": [
      "\n"
     ]
    },
    {
     "name": "stdout",
     "output_type": "stream",
     "text": [
      "\n",
      "      Epoch    GPU_mem   box_loss   seg_loss   cls_loss   dfl_loss  Instances       Size\n"
     ]
    },
    {
     "name": "stderr",
     "output_type": "stream",
     "text": [
      "      33/50         0G        1.7       2.04       1.05     0.8704        201        640: 100%|██████████| 2/2 [00:18<00:00,  9.28s/it]\n",
      "                 Class     Images  Instances      Box(P          R      mAP50  mAP50-95)     Mask(P          R      mAP50  mAP50-95): 100%|██████████| 1/1 [00:01<00:00,  1.11s/it]"
     ]
    },
    {
     "name": "stdout",
     "output_type": "stream",
     "text": [
      "                   all          5        334      0.585      0.428       0.45       0.18      0.365       0.35       0.28     0.0832\n"
     ]
    },
    {
     "name": "stderr",
     "output_type": "stream",
     "text": [
      "\n"
     ]
    },
    {
     "name": "stdout",
     "output_type": "stream",
     "text": [
      "\n",
      "      Epoch    GPU_mem   box_loss   seg_loss   cls_loss   dfl_loss  Instances       Size\n"
     ]
    },
    {
     "name": "stderr",
     "output_type": "stream",
     "text": [
      "      34/50         0G      1.728      2.344      1.167     0.8523        297        640: 100%|██████████| 2/2 [00:18<00:00,  9.07s/it]\n",
      "                 Class     Images  Instances      Box(P          R      mAP50  mAP50-95)     Mask(P          R      mAP50  mAP50-95): 100%|██████████| 1/1 [00:01<00:00,  1.08s/it]"
     ]
    },
    {
     "name": "stdout",
     "output_type": "stream",
     "text": [
      "                   all          5        334      0.585      0.428       0.45       0.18      0.365       0.35       0.28     0.0832\n"
     ]
    },
    {
     "name": "stderr",
     "output_type": "stream",
     "text": [
      "\n"
     ]
    },
    {
     "name": "stdout",
     "output_type": "stream",
     "text": [
      "\n",
      "      Epoch    GPU_mem   box_loss   seg_loss   cls_loss   dfl_loss  Instances       Size\n"
     ]
    },
    {
     "name": "stderr",
     "output_type": "stream",
     "text": [
      "      35/50         0G      1.645      1.864      1.048     0.8588        251        640: 100%|██████████| 2/2 [00:18<00:00,  9.27s/it]\n",
      "                 Class     Images  Instances      Box(P          R      mAP50  mAP50-95)     Mask(P          R      mAP50  mAP50-95): 100%|██████████| 1/1 [00:00<00:00,  1.02it/s]"
     ]
    },
    {
     "name": "stdout",
     "output_type": "stream",
     "text": [
      "                   all          5        334      0.587      0.431      0.474      0.199      0.376      0.314      0.273     0.0787\n"
     ]
    },
    {
     "name": "stderr",
     "output_type": "stream",
     "text": [
      "\n"
     ]
    },
    {
     "name": "stdout",
     "output_type": "stream",
     "text": [
      "\n",
      "      Epoch    GPU_mem   box_loss   seg_loss   cls_loss   dfl_loss  Instances       Size\n"
     ]
    },
    {
     "name": "stderr",
     "output_type": "stream",
     "text": [
      "      36/50         0G      1.776      2.208      1.123     0.8654        277        640: 100%|██████████| 2/2 [00:18<00:00,  9.05s/it]\n",
      "                 Class     Images  Instances      Box(P          R      mAP50  mAP50-95)     Mask(P          R      mAP50  mAP50-95): 100%|██████████| 1/1 [00:01<00:00,  1.03s/it]"
     ]
    },
    {
     "name": "stdout",
     "output_type": "stream",
     "text": [
      "                   all          5        334      0.602      0.437      0.474      0.212       0.43      0.323      0.313      0.088\n"
     ]
    },
    {
     "name": "stderr",
     "output_type": "stream",
     "text": [
      "\n"
     ]
    },
    {
     "name": "stdout",
     "output_type": "stream",
     "text": [
      "\n",
      "      Epoch    GPU_mem   box_loss   seg_loss   cls_loss   dfl_loss  Instances       Size\n"
     ]
    },
    {
     "name": "stderr",
     "output_type": "stream",
     "text": [
      "      37/50         0G      1.635      2.064      1.035     0.8442        169        640: 100%|██████████| 2/2 [00:18<00:00,  9.17s/it]\n",
      "                 Class     Images  Instances      Box(P          R      mAP50  mAP50-95)     Mask(P          R      mAP50  mAP50-95): 100%|██████████| 1/1 [00:00<00:00,  1.07it/s]"
     ]
    },
    {
     "name": "stdout",
     "output_type": "stream",
     "text": [
      "                   all          5        334      0.602      0.437      0.474      0.212       0.43      0.323      0.313      0.088\n"
     ]
    },
    {
     "name": "stderr",
     "output_type": "stream",
     "text": [
      "\n"
     ]
    },
    {
     "name": "stdout",
     "output_type": "stream",
     "text": [
      "\n",
      "      Epoch    GPU_mem   box_loss   seg_loss   cls_loss   dfl_loss  Instances       Size\n"
     ]
    },
    {
     "name": "stderr",
     "output_type": "stream",
     "text": [
      "      38/50         0G      1.863      2.405      1.354     0.8465        338        640: 100%|██████████| 2/2 [00:18<00:00,  9.08s/it]\n",
      "                 Class     Images  Instances      Box(P          R      mAP50  mAP50-95)     Mask(P          R      mAP50  mAP50-95): 100%|██████████| 1/1 [00:01<00:00,  1.01s/it]"
     ]
    },
    {
     "name": "stdout",
     "output_type": "stream",
     "text": [
      "                   all          5        334      0.591       0.44      0.473       0.21      0.414      0.344      0.326     0.0936\n"
     ]
    },
    {
     "name": "stderr",
     "output_type": "stream",
     "text": [
      "\n"
     ]
    },
    {
     "name": "stdout",
     "output_type": "stream",
     "text": [
      "\n",
      "      Epoch    GPU_mem   box_loss   seg_loss   cls_loss   dfl_loss  Instances       Size\n"
     ]
    },
    {
     "name": "stderr",
     "output_type": "stream",
     "text": [
      "      39/50         0G      1.553      1.835      1.131     0.8361         84        640: 100%|██████████| 2/2 [00:19<00:00,  9.55s/it]\n",
      "                 Class     Images  Instances      Box(P          R      mAP50  mAP50-95)     Mask(P          R      mAP50  mAP50-95): 100%|██████████| 1/1 [00:01<00:00,  1.02s/it]"
     ]
    },
    {
     "name": "stdout",
     "output_type": "stream",
     "text": [
      "                   all          5        334      0.557      0.428      0.435      0.189      0.446      0.323      0.319     0.0943\n"
     ]
    },
    {
     "name": "stderr",
     "output_type": "stream",
     "text": [
      "\n"
     ]
    },
    {
     "name": "stdout",
     "output_type": "stream",
     "text": [
      "\n",
      "      Epoch    GPU_mem   box_loss   seg_loss   cls_loss   dfl_loss  Instances       Size\n"
     ]
    },
    {
     "name": "stderr",
     "output_type": "stream",
     "text": [
      "      40/50         0G      1.598      1.854      1.003      0.872        121        640: 100%|██████████| 2/2 [00:18<00:00,  9.17s/it]\n",
      "                 Class     Images  Instances      Box(P          R      mAP50  mAP50-95)     Mask(P          R      mAP50  mAP50-95): 100%|██████████| 1/1 [00:00<00:00,  1.07it/s]"
     ]
    },
    {
     "name": "stdout",
     "output_type": "stream",
     "text": [
      "                   all          5        334      0.557      0.428      0.435      0.189      0.446      0.323      0.319     0.0943\n"
     ]
    },
    {
     "name": "stderr",
     "output_type": "stream",
     "text": [
      "\n"
     ]
    },
    {
     "name": "stdout",
     "output_type": "stream",
     "text": [
      "Closing dataloader mosaic\n",
      "\n",
      "      Epoch    GPU_mem   box_loss   seg_loss   cls_loss   dfl_loss  Instances       Size\n"
     ]
    },
    {
     "name": "stderr",
     "output_type": "stream",
     "text": [
      "      41/50         0G       1.67      2.092      1.154      0.869        106        640: 100%|██████████| 2/2 [00:19<00:00,  9.58s/it]\n",
      "                 Class     Images  Instances      Box(P          R      mAP50  mAP50-95)     Mask(P          R      mAP50  mAP50-95): 100%|██████████| 1/1 [00:01<00:00,  1.21s/it]"
     ]
    },
    {
     "name": "stdout",
     "output_type": "stream",
     "text": [
      "                   all          5        334      0.508      0.437      0.402      0.173      0.403      0.342        0.3     0.0919\n"
     ]
    },
    {
     "name": "stderr",
     "output_type": "stream",
     "text": [
      "\n"
     ]
    },
    {
     "name": "stdout",
     "output_type": "stream",
     "text": [
      "\n",
      "      Epoch    GPU_mem   box_loss   seg_loss   cls_loss   dfl_loss  Instances       Size\n"
     ]
    },
    {
     "name": "stderr",
     "output_type": "stream",
     "text": [
      "      42/50         0G      1.495       1.84     0.9073     0.8423        140        640: 100%|██████████| 2/2 [00:17<00:00,  8.90s/it]\n",
      "                 Class     Images  Instances      Box(P          R      mAP50  mAP50-95)     Mask(P          R      mAP50  mAP50-95): 100%|██████████| 1/1 [00:01<00:00,  1.03s/it]"
     ]
    },
    {
     "name": "stdout",
     "output_type": "stream",
     "text": [
      "                   all          5        334      0.451      0.446      0.337      0.146       0.31      0.347      0.233     0.0726\n"
     ]
    },
    {
     "name": "stderr",
     "output_type": "stream",
     "text": [
      "\n"
     ]
    },
    {
     "name": "stdout",
     "output_type": "stream",
     "text": [
      "\n",
      "      Epoch    GPU_mem   box_loss   seg_loss   cls_loss   dfl_loss  Instances       Size\n"
     ]
    },
    {
     "name": "stderr",
     "output_type": "stream",
     "text": [
      "      43/50         0G      1.632      1.832      1.045     0.8711         85        640: 100%|██████████| 2/2 [00:17<00:00,  8.71s/it]\n",
      "                 Class     Images  Instances      Box(P          R      mAP50  mAP50-95)     Mask(P          R      mAP50  mAP50-95): 100%|██████████| 1/1 [00:00<00:00,  1.03it/s]"
     ]
    },
    {
     "name": "stdout",
     "output_type": "stream",
     "text": [
      "                   all          5        334      0.451      0.446      0.337      0.146       0.31      0.347      0.233     0.0726\n"
     ]
    },
    {
     "name": "stderr",
     "output_type": "stream",
     "text": [
      "\n"
     ]
    },
    {
     "name": "stdout",
     "output_type": "stream",
     "text": [
      "\n",
      "      Epoch    GPU_mem   box_loss   seg_loss   cls_loss   dfl_loss  Instances       Size\n"
     ]
    },
    {
     "name": "stderr",
     "output_type": "stream",
     "text": [
      "      44/50         0G      1.549      1.573      1.042      0.854         82        640: 100%|██████████| 2/2 [00:17<00:00,  8.72s/it]\n",
      "                 Class     Images  Instances      Box(P          R      mAP50  mAP50-95)     Mask(P          R      mAP50  mAP50-95): 100%|██████████| 1/1 [00:01<00:00,  1.02s/it]"
     ]
    },
    {
     "name": "stdout",
     "output_type": "stream",
     "text": [
      "                   all          5        334      0.453      0.419      0.326      0.145      0.302      0.335      0.223     0.0667\n"
     ]
    },
    {
     "name": "stderr",
     "output_type": "stream",
     "text": [
      "\n"
     ]
    },
    {
     "name": "stdout",
     "output_type": "stream",
     "text": [
      "\n",
      "      Epoch    GPU_mem   box_loss   seg_loss   cls_loss   dfl_loss  Instances       Size\n"
     ]
    },
    {
     "name": "stderr",
     "output_type": "stream",
     "text": [
      "      45/50         0G      1.556      1.788      1.198     0.8535         58        640: 100%|██████████| 2/2 [00:18<00:00,  9.32s/it]\n",
      "                 Class     Images  Instances      Box(P          R      mAP50  mAP50-95)     Mask(P          R      mAP50  mAP50-95): 100%|██████████| 1/1 [00:01<00:00,  1.18s/it]"
     ]
    },
    {
     "name": "stdout",
     "output_type": "stream",
     "text": [
      "                   all          5        334      0.453      0.419      0.326      0.145      0.302      0.335      0.223     0.0667\n"
     ]
    },
    {
     "name": "stderr",
     "output_type": "stream",
     "text": [
      "\n"
     ]
    },
    {
     "name": "stdout",
     "output_type": "stream",
     "text": [
      "\n",
      "      Epoch    GPU_mem   box_loss   seg_loss   cls_loss   dfl_loss  Instances       Size\n"
     ]
    },
    {
     "name": "stderr",
     "output_type": "stream",
     "text": [
      "      46/50         0G      1.602      1.746      1.009     0.8577        121        640: 100%|██████████| 2/2 [00:18<00:00,  9.19s/it]\n",
      "                 Class     Images  Instances      Box(P          R      mAP50  mAP50-95)     Mask(P          R      mAP50  mAP50-95): 100%|██████████| 1/1 [00:01<00:00,  1.14s/it]"
     ]
    },
    {
     "name": "stdout",
     "output_type": "stream",
     "text": [
      "                   all          5        334      0.546       0.41      0.402      0.181       0.39      0.281      0.263      0.079\n"
     ]
    },
    {
     "name": "stderr",
     "output_type": "stream",
     "text": [
      "\n"
     ]
    },
    {
     "name": "stdout",
     "output_type": "stream",
     "text": [
      "\n",
      "      Epoch    GPU_mem   box_loss   seg_loss   cls_loss   dfl_loss  Instances       Size\n"
     ]
    },
    {
     "name": "stderr",
     "output_type": "stream",
     "text": [
      "      47/50         0G      1.547      1.777     0.9646     0.8531        157        640: 100%|██████████| 2/2 [00:18<00:00,  9.24s/it]\n",
      "                 Class     Images  Instances      Box(P          R      mAP50  mAP50-95)     Mask(P          R      mAP50  mAP50-95): 100%|██████████| 1/1 [00:01<00:00,  1.17s/it]"
     ]
    },
    {
     "name": "stdout",
     "output_type": "stream",
     "text": [
      "                   all          5        334      0.546       0.41      0.402      0.181       0.39      0.281      0.263      0.079\n"
     ]
    },
    {
     "name": "stderr",
     "output_type": "stream",
     "text": [
      "\n"
     ]
    },
    {
     "name": "stdout",
     "output_type": "stream",
     "text": [
      "\n",
      "      Epoch    GPU_mem   box_loss   seg_loss   cls_loss   dfl_loss  Instances       Size\n"
     ]
    },
    {
     "name": "stderr",
     "output_type": "stream",
     "text": [
      "      48/50         0G      1.586      1.866      1.058     0.8548        159        640: 100%|██████████| 2/2 [00:18<00:00,  9.11s/it]\n",
      "                 Class     Images  Instances      Box(P          R      mAP50  mAP50-95)     Mask(P          R      mAP50  mAP50-95): 100%|██████████| 1/1 [00:01<00:00,  1.14s/it]"
     ]
    },
    {
     "name": "stdout",
     "output_type": "stream",
     "text": [
      "                   all          5        334      0.537      0.437      0.454      0.211      0.362      0.329      0.308     0.0891\n"
     ]
    },
    {
     "name": "stderr",
     "output_type": "stream",
     "text": [
      "\n"
     ]
    },
    {
     "name": "stdout",
     "output_type": "stream",
     "text": [
      "\n",
      "      Epoch    GPU_mem   box_loss   seg_loss   cls_loss   dfl_loss  Instances       Size\n"
     ]
    },
    {
     "name": "stderr",
     "output_type": "stream",
     "text": [
      "      49/50         0G      1.486      1.756     0.9142       0.85        127        640: 100%|██████████| 2/2 [00:18<00:00,  9.18s/it]\n",
      "                 Class     Images  Instances      Box(P          R      mAP50  mAP50-95)     Mask(P          R      mAP50  mAP50-95): 100%|██████████| 1/1 [00:01<00:00,  1.13s/it]"
     ]
    },
    {
     "name": "stdout",
     "output_type": "stream",
     "text": [
      "                   all          5        334      0.537      0.437      0.454      0.211      0.362      0.329      0.308     0.0891\n"
     ]
    },
    {
     "name": "stderr",
     "output_type": "stream",
     "text": [
      "\n"
     ]
    },
    {
     "name": "stdout",
     "output_type": "stream",
     "text": [
      "\n",
      "      Epoch    GPU_mem   box_loss   seg_loss   cls_loss   dfl_loss  Instances       Size\n"
     ]
    },
    {
     "name": "stderr",
     "output_type": "stream",
     "text": [
      "      50/50         0G      1.506       1.78     0.8988     0.8448        120        640: 100%|██████████| 2/2 [00:18<00:00,  9.33s/it]\n",
      "                 Class     Images  Instances      Box(P          R      mAP50  mAP50-95)     Mask(P          R      mAP50  mAP50-95): 100%|██████████| 1/1 [00:01<00:00,  1.12s/it]"
     ]
    },
    {
     "name": "stdout",
     "output_type": "stream",
     "text": [
      "                   all          5        334      0.571      0.438       0.47      0.217      0.383      0.335      0.316     0.0897\n"
     ]
    },
    {
     "name": "stderr",
     "output_type": "stream",
     "text": [
      "\n"
     ]
    },
    {
     "name": "stdout",
     "output_type": "stream",
     "text": [
      "\n",
      "50 epochs completed in 0.284 hours.\n",
      "Optimizer stripped from models/train4/weights/last.pt, 23.8MB\n",
      "Optimizer stripped from models/train4/weights/best.pt, 23.8MB\n",
      "\n",
      "Validating models/train4/weights/best.pt...\n",
      "Ultralytics YOLOv8.1.24 🚀 Python-3.11.7 torch-2.2.1 CPU (Apple M3 Pro)\n",
      "YOLOv8s-seg summary (fused): 195 layers, 11779987 parameters, 0 gradients, 42.4 GFLOPs\n"
     ]
    },
    {
     "name": "stderr",
     "output_type": "stream",
     "text": [
      "                 Class     Images  Instances      Box(P          R      mAP50  mAP50-95)     Mask(P          R      mAP50  mAP50-95): 100%|██████████| 1/1 [00:01<00:00,  1.08s/it]\n"
     ]
    },
    {
     "name": "stdout",
     "output_type": "stream",
     "text": [
      "                   all          5        334       0.57      0.437      0.469      0.217      0.383      0.335      0.316     0.0897\n",
      "Speed: 1.3ms preprocess, 172.6ms inference, 0.0ms loss, 1.8ms postprocess per image\n",
      "Results saved to \u001b[1mmodels/train4\u001b[0m\n",
      "Ultralytics YOLOv8.1.24 🚀 Python-3.11.7 torch-2.2.1 CPU (Apple M3 Pro)\n",
      "YOLOv8s-seg summary (fused): 195 layers, 11779987 parameters, 0 gradients, 42.4 GFLOPs\n"
     ]
    },
    {
     "name": "stderr",
     "output_type": "stream",
     "text": [
      "\u001b[34m\u001b[1mval: \u001b[0mScanning /Users/sprice/Documents/GitHub/satellite_v2/conferenceDemoTest/demo3-1/valid/labels.cache... 5 images, 0 backgrounds, 0 corrupt: 100%|██████████| 5/5 [00:00<?, ?it/s]\n",
      "                 Class     Images  Instances      Box(P          R      mAP50  mAP50-95)     Mask(P          R      mAP50  mAP50-95): 100%|██████████| 1/1 [00:01<00:00,  1.04s/it]\n"
     ]
    },
    {
     "name": "stdout",
     "output_type": "stream",
     "text": [
      "                   all          5        334       0.57      0.437      0.469      0.217      0.383      0.335      0.316     0.0897\n",
      "Speed: 1.2ms preprocess, 169.8ms inference, 0.0ms loss, 1.5ms postprocess per image\n",
      "Results saved to \u001b[1mmodels/train42\u001b[0m\n",
      "ultralytics.utils.metrics.SegmentMetrics object with attributes:\n",
      "\n",
      "ap_class_index: array([0])\n",
      "box: ultralytics.utils.metrics.Metric object\n",
      "confusion_matrix: <ultralytics.utils.metrics.ConfusionMatrix object at 0x2dbc49490>\n",
      "curves: ['Precision-Recall(B)', 'F1-Confidence(B)', 'Precision-Confidence(B)', 'Recall-Confidence(B)', 'Precision-Recall(M)', 'F1-Confidence(M)', 'Precision-Confidence(M)', 'Recall-Confidence(M)']\n",
      "curves_results: [[array([          0,    0.001001,    0.002002,    0.003003,    0.004004,    0.005005,    0.006006,    0.007007,    0.008008,    0.009009,     0.01001,    0.011011,    0.012012,    0.013013,    0.014014,    0.015015,    0.016016,    0.017017,    0.018018,    0.019019,     0.02002,    0.021021,    0.022022,    0.023023,\n",
      "          0.024024,    0.025025,    0.026026,    0.027027,    0.028028,    0.029029,     0.03003,    0.031031,    0.032032,    0.033033,    0.034034,    0.035035,    0.036036,    0.037037,    0.038038,    0.039039,     0.04004,    0.041041,    0.042042,    0.043043,    0.044044,    0.045045,    0.046046,    0.047047,\n",
      "          0.048048,    0.049049,     0.05005,    0.051051,    0.052052,    0.053053,    0.054054,    0.055055,    0.056056,    0.057057,    0.058058,    0.059059,     0.06006,    0.061061,    0.062062,    0.063063,    0.064064,    0.065065,    0.066066,    0.067067,    0.068068,    0.069069,     0.07007,    0.071071,\n",
      "          0.072072,    0.073073,    0.074074,    0.075075,    0.076076,    0.077077,    0.078078,    0.079079,     0.08008,    0.081081,    0.082082,    0.083083,    0.084084,    0.085085,    0.086086,    0.087087,    0.088088,    0.089089,     0.09009,    0.091091,    0.092092,    0.093093,    0.094094,    0.095095,\n",
      "          0.096096,    0.097097,    0.098098,    0.099099,      0.1001,      0.1011,      0.1021,      0.1031,      0.1041,     0.10511,     0.10611,     0.10711,     0.10811,     0.10911,     0.11011,     0.11111,     0.11211,     0.11311,     0.11411,     0.11512,     0.11612,     0.11712,     0.11812,     0.11912,\n",
      "           0.12012,     0.12112,     0.12212,     0.12312,     0.12412,     0.12513,     0.12613,     0.12713,     0.12813,     0.12913,     0.13013,     0.13113,     0.13213,     0.13313,     0.13413,     0.13514,     0.13614,     0.13714,     0.13814,     0.13914,     0.14014,     0.14114,     0.14214,     0.14314,\n",
      "           0.14414,     0.14515,     0.14615,     0.14715,     0.14815,     0.14915,     0.15015,     0.15115,     0.15215,     0.15315,     0.15415,     0.15516,     0.15616,     0.15716,     0.15816,     0.15916,     0.16016,     0.16116,     0.16216,     0.16316,     0.16416,     0.16517,     0.16617,     0.16717,\n",
      "           0.16817,     0.16917,     0.17017,     0.17117,     0.17217,     0.17317,     0.17417,     0.17518,     0.17618,     0.17718,     0.17818,     0.17918,     0.18018,     0.18118,     0.18218,     0.18318,     0.18418,     0.18519,     0.18619,     0.18719,     0.18819,     0.18919,     0.19019,     0.19119,\n",
      "           0.19219,     0.19319,     0.19419,      0.1952,      0.1962,      0.1972,      0.1982,      0.1992,      0.2002,      0.2012,      0.2022,      0.2032,      0.2042,     0.20521,     0.20621,     0.20721,     0.20821,     0.20921,     0.21021,     0.21121,     0.21221,     0.21321,     0.21421,     0.21522,\n",
      "           0.21622,     0.21722,     0.21822,     0.21922,     0.22022,     0.22122,     0.22222,     0.22322,     0.22422,     0.22523,     0.22623,     0.22723,     0.22823,     0.22923,     0.23023,     0.23123,     0.23223,     0.23323,     0.23423,     0.23524,     0.23624,     0.23724,     0.23824,     0.23924,\n",
      "           0.24024,     0.24124,     0.24224,     0.24324,     0.24424,     0.24525,     0.24625,     0.24725,     0.24825,     0.24925,     0.25025,     0.25125,     0.25225,     0.25325,     0.25425,     0.25526,     0.25626,     0.25726,     0.25826,     0.25926,     0.26026,     0.26126,     0.26226,     0.26326,\n",
      "           0.26426,     0.26527,     0.26627,     0.26727,     0.26827,     0.26927,     0.27027,     0.27127,     0.27227,     0.27327,     0.27427,     0.27528,     0.27628,     0.27728,     0.27828,     0.27928,     0.28028,     0.28128,     0.28228,     0.28328,     0.28428,     0.28529,     0.28629,     0.28729,\n",
      "           0.28829,     0.28929,     0.29029,     0.29129,     0.29229,     0.29329,     0.29429,      0.2953,      0.2963,      0.2973,      0.2983,      0.2993,      0.3003,      0.3013,      0.3023,      0.3033,      0.3043,     0.30531,     0.30631,     0.30731,     0.30831,     0.30931,     0.31031,     0.31131,\n",
      "           0.31231,     0.31331,     0.31431,     0.31532,     0.31632,     0.31732,     0.31832,     0.31932,     0.32032,     0.32132,     0.32232,     0.32332,     0.32432,     0.32533,     0.32633,     0.32733,     0.32833,     0.32933,     0.33033,     0.33133,     0.33233,     0.33333,     0.33433,     0.33534,\n",
      "           0.33634,     0.33734,     0.33834,     0.33934,     0.34034,     0.34134,     0.34234,     0.34334,     0.34434,     0.34535,     0.34635,     0.34735,     0.34835,     0.34935,     0.35035,     0.35135,     0.35235,     0.35335,     0.35435,     0.35536,     0.35636,     0.35736,     0.35836,     0.35936,\n",
      "           0.36036,     0.36136,     0.36236,     0.36336,     0.36436,     0.36537,     0.36637,     0.36737,     0.36837,     0.36937,     0.37037,     0.37137,     0.37237,     0.37337,     0.37437,     0.37538,     0.37638,     0.37738,     0.37838,     0.37938,     0.38038,     0.38138,     0.38238,     0.38338,\n",
      "           0.38438,     0.38539,     0.38639,     0.38739,     0.38839,     0.38939,     0.39039,     0.39139,     0.39239,     0.39339,     0.39439,      0.3954,      0.3964,      0.3974,      0.3984,      0.3994,      0.4004,      0.4014,      0.4024,      0.4034,      0.4044,     0.40541,     0.40641,     0.40741,\n",
      "           0.40841,     0.40941,     0.41041,     0.41141,     0.41241,     0.41341,     0.41441,     0.41542,     0.41642,     0.41742,     0.41842,     0.41942,     0.42042,     0.42142,     0.42242,     0.42342,     0.42442,     0.42543,     0.42643,     0.42743,     0.42843,     0.42943,     0.43043,     0.43143,\n",
      "           0.43243,     0.43343,     0.43443,     0.43544,     0.43644,     0.43744,     0.43844,     0.43944,     0.44044,     0.44144,     0.44244,     0.44344,     0.44444,     0.44545,     0.44645,     0.44745,     0.44845,     0.44945,     0.45045,     0.45145,     0.45245,     0.45345,     0.45445,     0.45546,\n",
      "           0.45646,     0.45746,     0.45846,     0.45946,     0.46046,     0.46146,     0.46246,     0.46346,     0.46446,     0.46547,     0.46647,     0.46747,     0.46847,     0.46947,     0.47047,     0.47147,     0.47247,     0.47347,     0.47447,     0.47548,     0.47648,     0.47748,     0.47848,     0.47948,\n",
      "           0.48048,     0.48148,     0.48248,     0.48348,     0.48448,     0.48549,     0.48649,     0.48749,     0.48849,     0.48949,     0.49049,     0.49149,     0.49249,     0.49349,     0.49449,      0.4955,      0.4965,      0.4975,      0.4985,      0.4995,      0.5005,      0.5015,      0.5025,      0.5035,\n",
      "            0.5045,     0.50551,     0.50651,     0.50751,     0.50851,     0.50951,     0.51051,     0.51151,     0.51251,     0.51351,     0.51451,     0.51552,     0.51652,     0.51752,     0.51852,     0.51952,     0.52052,     0.52152,     0.52252,     0.52352,     0.52452,     0.52553,     0.52653,     0.52753,\n",
      "           0.52853,     0.52953,     0.53053,     0.53153,     0.53253,     0.53353,     0.53453,     0.53554,     0.53654,     0.53754,     0.53854,     0.53954,     0.54054,     0.54154,     0.54254,     0.54354,     0.54454,     0.54555,     0.54655,     0.54755,     0.54855,     0.54955,     0.55055,     0.55155,\n",
      "           0.55255,     0.55355,     0.55455,     0.55556,     0.55656,     0.55756,     0.55856,     0.55956,     0.56056,     0.56156,     0.56256,     0.56356,     0.56456,     0.56557,     0.56657,     0.56757,     0.56857,     0.56957,     0.57057,     0.57157,     0.57257,     0.57357,     0.57457,     0.57558,\n",
      "           0.57658,     0.57758,     0.57858,     0.57958,     0.58058,     0.58158,     0.58258,     0.58358,     0.58458,     0.58559,     0.58659,     0.58759,     0.58859,     0.58959,     0.59059,     0.59159,     0.59259,     0.59359,     0.59459,      0.5956,      0.5966,      0.5976,      0.5986,      0.5996,\n",
      "            0.6006,      0.6016,      0.6026,      0.6036,      0.6046,     0.60561,     0.60661,     0.60761,     0.60861,     0.60961,     0.61061,     0.61161,     0.61261,     0.61361,     0.61461,     0.61562,     0.61662,     0.61762,     0.61862,     0.61962,     0.62062,     0.62162,     0.62262,     0.62362,\n",
      "           0.62462,     0.62563,     0.62663,     0.62763,     0.62863,     0.62963,     0.63063,     0.63163,     0.63263,     0.63363,     0.63463,     0.63564,     0.63664,     0.63764,     0.63864,     0.63964,     0.64064,     0.64164,     0.64264,     0.64364,     0.64464,     0.64565,     0.64665,     0.64765,\n",
      "           0.64865,     0.64965,     0.65065,     0.65165,     0.65265,     0.65365,     0.65465,     0.65566,     0.65666,     0.65766,     0.65866,     0.65966,     0.66066,     0.66166,     0.66266,     0.66366,     0.66466,     0.66567,     0.66667,     0.66767,     0.66867,     0.66967,     0.67067,     0.67167,\n",
      "           0.67267,     0.67367,     0.67467,     0.67568,     0.67668,     0.67768,     0.67868,     0.67968,     0.68068,     0.68168,     0.68268,     0.68368,     0.68468,     0.68569,     0.68669,     0.68769,     0.68869,     0.68969,     0.69069,     0.69169,     0.69269,     0.69369,     0.69469,      0.6957,\n",
      "            0.6967,      0.6977,      0.6987,      0.6997,      0.7007,      0.7017,      0.7027,      0.7037,      0.7047,     0.70571,     0.70671,     0.70771,     0.70871,     0.70971,     0.71071,     0.71171,     0.71271,     0.71371,     0.71471,     0.71572,     0.71672,     0.71772,     0.71872,     0.71972,\n",
      "           0.72072,     0.72172,     0.72272,     0.72372,     0.72472,     0.72573,     0.72673,     0.72773,     0.72873,     0.72973,     0.73073,     0.73173,     0.73273,     0.73373,     0.73473,     0.73574,     0.73674,     0.73774,     0.73874,     0.73974,     0.74074,     0.74174,     0.74274,     0.74374,\n",
      "           0.74474,     0.74575,     0.74675,     0.74775,     0.74875,     0.74975,     0.75075,     0.75175,     0.75275,     0.75375,     0.75475,     0.75576,     0.75676,     0.75776,     0.75876,     0.75976,     0.76076,     0.76176,     0.76276,     0.76376,     0.76476,     0.76577,     0.76677,     0.76777,\n",
      "           0.76877,     0.76977,     0.77077,     0.77177,     0.77277,     0.77377,     0.77477,     0.77578,     0.77678,     0.77778,     0.77878,     0.77978,     0.78078,     0.78178,     0.78278,     0.78378,     0.78478,     0.78579,     0.78679,     0.78779,     0.78879,     0.78979,     0.79079,     0.79179,\n",
      "           0.79279,     0.79379,     0.79479,      0.7958,      0.7968,      0.7978,      0.7988,      0.7998,      0.8008,      0.8018,      0.8028,      0.8038,      0.8048,     0.80581,     0.80681,     0.80781,     0.80881,     0.80981,     0.81081,     0.81181,     0.81281,     0.81381,     0.81481,     0.81582,\n",
      "           0.81682,     0.81782,     0.81882,     0.81982,     0.82082,     0.82182,     0.82282,     0.82382,     0.82482,     0.82583,     0.82683,     0.82783,     0.82883,     0.82983,     0.83083,     0.83183,     0.83283,     0.83383,     0.83483,     0.83584,     0.83684,     0.83784,     0.83884,     0.83984,\n",
      "           0.84084,     0.84184,     0.84284,     0.84384,     0.84484,     0.84585,     0.84685,     0.84785,     0.84885,     0.84985,     0.85085,     0.85185,     0.85285,     0.85385,     0.85485,     0.85586,     0.85686,     0.85786,     0.85886,     0.85986,     0.86086,     0.86186,     0.86286,     0.86386,\n",
      "           0.86486,     0.86587,     0.86687,     0.86787,     0.86887,     0.86987,     0.87087,     0.87187,     0.87287,     0.87387,     0.87487,     0.87588,     0.87688,     0.87788,     0.87888,     0.87988,     0.88088,     0.88188,     0.88288,     0.88388,     0.88488,     0.88589,     0.88689,     0.88789,\n",
      "           0.88889,     0.88989,     0.89089,     0.89189,     0.89289,     0.89389,     0.89489,      0.8959,      0.8969,      0.8979,      0.8989,      0.8999,      0.9009,      0.9019,      0.9029,      0.9039,      0.9049,     0.90591,     0.90691,     0.90791,     0.90891,     0.90991,     0.91091,     0.91191,\n",
      "           0.91291,     0.91391,     0.91491,     0.91592,     0.91692,     0.91792,     0.91892,     0.91992,     0.92092,     0.92192,     0.92292,     0.92392,     0.92492,     0.92593,     0.92693,     0.92793,     0.92893,     0.92993,     0.93093,     0.93193,     0.93293,     0.93393,     0.93493,     0.93594,\n",
      "           0.93694,     0.93794,     0.93894,     0.93994,     0.94094,     0.94194,     0.94294,     0.94394,     0.94494,     0.94595,     0.94695,     0.94795,     0.94895,     0.94995,     0.95095,     0.95195,     0.95295,     0.95395,     0.95495,     0.95596,     0.95696,     0.95796,     0.95896,     0.95996,\n",
      "           0.96096,     0.96196,     0.96296,     0.96396,     0.96496,     0.96597,     0.96697,     0.96797,     0.96897,     0.96997,     0.97097,     0.97197,     0.97297,     0.97397,     0.97497,     0.97598,     0.97698,     0.97798,     0.97898,     0.97998,     0.98098,     0.98198,     0.98298,     0.98398,\n",
      "           0.98498,     0.98599,     0.98699,     0.98799,     0.98899,     0.98999,     0.99099,     0.99199,     0.99299,     0.99399,     0.99499,       0.996,       0.997,       0.998,       0.999,           1]), array([[          1,           1,           1,           1,           1,           1,           1,           1,           1,           1,           1,           1,           1,           1,           1,           1,           1,           1,           1,           1,           1,           1,           1,\n",
      "                  1,           1,           1,           1,           1,           1,           1,           1,           1,           1,           1,           1,           1,           1,           1,           1,           1,           1,           1,           1,           1,           1,           1,\n",
      "                  1,           1,           1,           1,           1,           1,           1,           1,           1,           1,           1,           1,           1,           1,           1,           1,           1,           1,           1,           1,           1,           1,           1,\n",
      "                  1,           1,           1,           1,           1,           1,           1,           1,           1,           1,           1,           1,           1,           1,           1,           1,           1,           1,           1,           1,           1,           1,           1,\n",
      "                  1,           1,           1,           1,           1,           1,           1,           1,           1,           1,           1,           1,           1,           1,           1,           1,           1,           1,           1,           1,           1,           1,           1,\n",
      "                  1,           1,           1,           1,           1,           1,           1,           1,     0.98276,     0.98276,     0.98276,     0.98276,     0.98276,     0.98276,     0.98276,     0.98276,     0.98276,     0.98276,     0.98276,     0.98276,     0.98276,     0.98276,     0.98276,\n",
      "            0.98276,     0.98276,     0.98276,     0.98276,     0.98276,     0.98276,     0.98276,     0.98276,     0.98276,     0.98276,     0.98276,     0.98276,     0.98276,     0.98276,     0.98276,     0.98276,     0.98276,     0.98276,     0.98276,     0.98276,     0.98276,     0.98276,     0.98276,\n",
      "            0.98276,     0.98276,     0.98276,     0.98276,     0.98276,     0.98276,     0.98276,     0.98276,     0.98276,     0.98276,     0.96667,     0.96667,     0.96667,     0.95161,     0.95161,     0.95161,      0.9375,      0.9375,      0.9375,     0.92857,     0.92857,     0.92857,     0.92857,\n",
      "            0.92857,     0.92857,     0.92857,     0.92857,     0.92857,     0.92857,     0.92857,     0.92857,     0.92857,     0.92857,     0.92857,     0.91667,     0.91667,     0.91667,     0.90667,     0.90667,     0.90667,     0.90667,     0.90667,     0.90667,     0.90588,     0.90588,     0.90588,\n",
      "            0.90588,     0.90588,     0.90588,     0.90588,     0.90588,     0.90588,     0.90588,     0.90588,     0.90588,     0.90588,     0.90588,     0.90588,     0.90588,     0.90588,     0.90588,     0.90588,     0.90588,     0.90588,     0.90588,     0.90588,     0.90588,     0.90588,     0.90588,\n",
      "            0.90588,     0.89655,     0.89655,     0.89655,      0.8913,      0.8913,      0.8913,      0.8913,      0.8913,      0.8913,      0.8913,      0.8913,      0.8913,      0.8913,      0.8913,      0.8913,        0.84,        0.84,        0.84,        0.84,        0.84,        0.84,     0.83495,\n",
      "            0.83495,     0.83495,     0.83495,     0.83495,     0.83495,     0.82857,     0.82857,     0.82857,     0.82407,     0.82407,     0.82407,     0.82407,     0.82407,     0.82407,     0.81982,     0.81982,     0.81982,     0.81982,     0.81982,     0.81982,     0.80172,     0.80172,     0.80172,\n",
      "            0.80172,     0.80172,     0.80172,         0.8,         0.8,         0.8,         0.8,         0.8,         0.8,         0.8,         0.8,         0.8,     0.79508,     0.79508,     0.79508,     0.79365,     0.79365,     0.79365,     0.79365,     0.79365,     0.79365,     0.79365,     0.79365,\n",
      "            0.79365,     0.78906,     0.78906,     0.78906,     0.78626,     0.78626,     0.78626,     0.78626,     0.78626,     0.78626,     0.77612,     0.77612,     0.77612,     0.77536,     0.77536,     0.77536,     0.77536,     0.77536,     0.77536,     0.77536,     0.77536,     0.77536,     0.77143,\n",
      "            0.77143,     0.77143,     0.75676,     0.75676,     0.75676,     0.75676,     0.75676,     0.75676,     0.75676,     0.75676,     0.75676,     0.75676,     0.75676,     0.75497,     0.75497,     0.75497,     0.75497,     0.75497,     0.75497,     0.73248,     0.73248,     0.73248,     0.72956,\n",
      "            0.72956,     0.72956,     0.68571,     0.68571,     0.68571,     0.68571,     0.68571,     0.68571,     0.68571,     0.68571,     0.68571,     0.68571,     0.68571,     0.68571,     0.67978,     0.67978,     0.67978,     0.67956,     0.67956,     0.67956,     0.67956,     0.67956,     0.67956,\n",
      "            0.67391,     0.67391,     0.67391,     0.66845,     0.66845,     0.66845,     0.66667,     0.66667,     0.66667,     0.66146,     0.66146,     0.66146,     0.65979,     0.65979,     0.65979,     0.64356,     0.64356,     0.64356,     0.64356,     0.64356,     0.64356,     0.63285,     0.63285,\n",
      "            0.63285,     0.62212,     0.62212,     0.62212,     0.62212,     0.62212,     0.62212,     0.62212,     0.62212,     0.62212,     0.62212,     0.62212,     0.62212,     0.61818,     0.61818,     0.61818,     0.61712,     0.61712,     0.61712,     0.61233,     0.61233,     0.61233,     0.61233,\n",
      "            0.61233,     0.61233,      0.6087,      0.6087,      0.6087,     0.60256,     0.60256,     0.60256,     0.59664,     0.59664,     0.59664,     0.59091,     0.59091,     0.59091,     0.58943,     0.58943,     0.58943,     0.58943,     0.58943,     0.58943,     0.57255,     0.57255,     0.57255,\n",
      "            0.57198,     0.57198,     0.57198,     0.55849,     0.55849,     0.55849,     0.55597,     0.55597,     0.55597,     0.55556,     0.55556,     0.55556,     0.54874,     0.54874,     0.54874,     0.54874,     0.54874,     0.54874,     0.54448,     0.54448,     0.54448,     0.54035,     0.54035,\n",
      "            0.54035,     0.53979,     0.53979,     0.53979,     0.53979,     0.53979,     0.53979,      0.5322,      0.5322,      0.5322,     0.51803,     0.51803,     0.51803,     0.49689,     0.49689,     0.49689,     0.49689,     0.49689,     0.49689,     0.47507,     0.47507,     0.47507,     0.47507,\n",
      "            0.47507,     0.47507,     0.47384,     0.47384,     0.47384,     0.46459,     0.46459,     0.46459,     0.46089,     0.46089,     0.46089,     0.44772,     0.44772,     0.44772,     0.44772,     0.44772,     0.44772,      0.4264,      0.4264,      0.4264,     0.41606,     0.41606,     0.41606,\n",
      "            0.41606,     0.41606,     0.41606,     0.41606,     0.41606,     0.41606,     0.41546,     0.41546,     0.41546,     0.41093,     0.41093,     0.41093,     0.40185,     0.40185,     0.40185,     0.38717,     0.38717,     0.38717,     0.37931,     0.37931,     0.37931,     0.37342,     0.37342,\n",
      "            0.37342,     0.37317,     0.37317,     0.37317,     0.35409,     0.35409,     0.35409,     0.35409,     0.35409,     0.35409,     0.35409,     0.35409,     0.35409,     0.35409,     0.35409,     0.35409,     0.34924,     0.34924,     0.34924,     0.33824,     0.33824,     0.33824,     0.33821,\n",
      "            0.33821,     0.33821,     0.32804,     0.32804,     0.32804,     0.32522,     0.32522,     0.32522,     0.32143,     0.32143,     0.32143,     0.32143,     0.32143,     0.32143,     0.30207,     0.30207,     0.30207,     0.29072,     0.29072,     0.29072,     0.28529,     0.28529,     0.28529,\n",
      "            0.24871,     0.24871,     0.24871,     0.24159,     0.24159,     0.24159,     0.24134,     0.24134,     0.24134,     0.23786,     0.23786,     0.23786,      0.2086,      0.2086,      0.2086,      0.2086,      0.2086,      0.2086,      0.2086,      0.2086,      0.2086,     0.19589,     0.19589,\n",
      "            0.19589,      0.1682,      0.1682,      0.1682,     0.14853,     0.14853,     0.14853,     0.14764,     0.14764,     0.14764,     0.14458,     0.14458,     0.14458,     0.13745,      0.1371,     0.13674,     0.13639,     0.13603,     0.13568,     0.13532,     0.13497,     0.13462,     0.13426,\n",
      "            0.13391,     0.13355,      0.1332,     0.13284,     0.13249,     0.13214,     0.13178,     0.13143,     0.13107,     0.13072,     0.13036,     0.13001,     0.12966,      0.1293,     0.12895,     0.12859,     0.12824,     0.12789,     0.12753,     0.12718,     0.12682,     0.12647,     0.12611,\n",
      "            0.12576,     0.12541,     0.12505,      0.1247,     0.12434,     0.12399,     0.12363,     0.12328,     0.12293,     0.12257,     0.12222,     0.12186,     0.12151,     0.12115,      0.1208,     0.12045,     0.12009,     0.11974,     0.11938,     0.11903,     0.11867,     0.11832,     0.11797,\n",
      "            0.11761,     0.11726,      0.1169,     0.11655,     0.11619,     0.11584,     0.11549,     0.11513,     0.11478,     0.11442,     0.11407,     0.11372,     0.11336,     0.11301,     0.11265,      0.1123,     0.11194,     0.11159,     0.11124,     0.11088,     0.11053,     0.11017,     0.10982,\n",
      "            0.10946,     0.10911,     0.10876,      0.1084,     0.10805,     0.10769,     0.10734,     0.10698,     0.10663,     0.10628,     0.10592,     0.10557,     0.10521,     0.10486,      0.1045,     0.10415,      0.1038,     0.10344,     0.10309,     0.10273,     0.10238,     0.10202,     0.10167,\n",
      "            0.10132,     0.10096,     0.10061,     0.10025,    0.099899,    0.099545,    0.099191,    0.098836,    0.098482,    0.098128,    0.097774,    0.097419,    0.097065,    0.096711,    0.096357,    0.096002,    0.095648,    0.095294,     0.09494,    0.094585,    0.094231,    0.093877,    0.093523,\n",
      "           0.093168,    0.092814,     0.09246,    0.092106,    0.091751,    0.091397,    0.091043,    0.090689,    0.090334,     0.08998,    0.089626,    0.089272,    0.088917,    0.088563,    0.088209,    0.087855,      0.0875,    0.087146,    0.086792,    0.086438,    0.086083,    0.085729,    0.085375,\n",
      "           0.085021,    0.084666,    0.084312,    0.083958,    0.083604,    0.083249,    0.082895,    0.082541,    0.082187,    0.081832,    0.081478,    0.081124,     0.08077,    0.080415,    0.080061,    0.079707,    0.079353,    0.078998,    0.078644,     0.07829,    0.077936,    0.077581,    0.077227,\n",
      "           0.076873,    0.076519,    0.076164,     0.07581,    0.075456,    0.075101,    0.074747,    0.074393,    0.074039,    0.073684,     0.07333,    0.072976,    0.072622,    0.072267,    0.071913,    0.071559,    0.071205,     0.07085,    0.070496,    0.070142,    0.069788,    0.069433,    0.069079,\n",
      "           0.068725,    0.068371,    0.068016,    0.067662,    0.067308,    0.066954,    0.066599,    0.066245,    0.065891,    0.065537,    0.065182,    0.064828,    0.064474,     0.06412,    0.063765,    0.063411,    0.063057,    0.062703,    0.062348,    0.061994,     0.06164,    0.061286,    0.060931,\n",
      "           0.060577,    0.060223,    0.059869,    0.059514,     0.05916,    0.058806,    0.058452,    0.058097,    0.057743,    0.057389,    0.057035,     0.05668,    0.056326,    0.055972,    0.055618,    0.055263,    0.054909,    0.054555,    0.054201,    0.053846,    0.053492,    0.053138,    0.052784,\n",
      "           0.052429,    0.052075,    0.051721,    0.051367,    0.051012,    0.050658,    0.050304,     0.04995,    0.049595,    0.049241,    0.048887,    0.048533,    0.048178,    0.047824,     0.04747,    0.047116,    0.046761,    0.046407,    0.046053,    0.045699,    0.045344,     0.04499,    0.044636,\n",
      "           0.044282,    0.043927,    0.043573,    0.043219,    0.042865,     0.04251,    0.042156,    0.041802,    0.041448,    0.041093,    0.040739,    0.040385,    0.040031,    0.039676,    0.039322,    0.038968,    0.038614,    0.038259,    0.037905,    0.037551,    0.037196,    0.036842,    0.036488,\n",
      "           0.036134,    0.035779,    0.035425,    0.035071,    0.034717,    0.034362,    0.034008,    0.033654,      0.0333,    0.032945,    0.032591,    0.032237,    0.031883,    0.031528,    0.031174,     0.03082,    0.030466,    0.030111,    0.029757,    0.029403,    0.029049,    0.028694,     0.02834,\n",
      "           0.027986,    0.027632,    0.027277,    0.026923,    0.026569,    0.026215,     0.02586,    0.025506,    0.025152,    0.024798,    0.024443,    0.024089,    0.023735,    0.023381,    0.023026,    0.022672,    0.022318,    0.021964,    0.021609,    0.021255,    0.020901,    0.020547,    0.020192,\n",
      "           0.019838,    0.019484,     0.01913,    0.018775,    0.018421,    0.018067,    0.017713,    0.017358,    0.017004,     0.01665,    0.016296,    0.015941,    0.015587,    0.015233,    0.014879,    0.014524,     0.01417,    0.013816,    0.013462,    0.013107,    0.012753,    0.012399,    0.012045,\n",
      "            0.01169,    0.011336,    0.010982,    0.010628,    0.010273,   0.0099191,   0.0095648,   0.0092106,   0.0088563,   0.0085021,   0.0081478,   0.0077936,   0.0074393,    0.007085,   0.0067308,   0.0063765,   0.0060223,    0.005668,   0.0053138,   0.0049595,   0.0046053,    0.004251,   0.0038968,\n",
      "          0.0035425,   0.0031883,    0.002834,   0.0024798,   0.0021255,   0.0017713,    0.001417,   0.0010628,   0.0007085,  0.00035425,           0]]), 'Recall', 'Precision'], [array([          0,    0.001001,    0.002002,    0.003003,    0.004004,    0.005005,    0.006006,    0.007007,    0.008008,    0.009009,     0.01001,    0.011011,    0.012012,    0.013013,    0.014014,    0.015015,    0.016016,    0.017017,    0.018018,    0.019019,     0.02002,    0.021021,    0.022022,    0.023023,\n",
      "          0.024024,    0.025025,    0.026026,    0.027027,    0.028028,    0.029029,     0.03003,    0.031031,    0.032032,    0.033033,    0.034034,    0.035035,    0.036036,    0.037037,    0.038038,    0.039039,     0.04004,    0.041041,    0.042042,    0.043043,    0.044044,    0.045045,    0.046046,    0.047047,\n",
      "          0.048048,    0.049049,     0.05005,    0.051051,    0.052052,    0.053053,    0.054054,    0.055055,    0.056056,    0.057057,    0.058058,    0.059059,     0.06006,    0.061061,    0.062062,    0.063063,    0.064064,    0.065065,    0.066066,    0.067067,    0.068068,    0.069069,     0.07007,    0.071071,\n",
      "          0.072072,    0.073073,    0.074074,    0.075075,    0.076076,    0.077077,    0.078078,    0.079079,     0.08008,    0.081081,    0.082082,    0.083083,    0.084084,    0.085085,    0.086086,    0.087087,    0.088088,    0.089089,     0.09009,    0.091091,    0.092092,    0.093093,    0.094094,    0.095095,\n",
      "          0.096096,    0.097097,    0.098098,    0.099099,      0.1001,      0.1011,      0.1021,      0.1031,      0.1041,     0.10511,     0.10611,     0.10711,     0.10811,     0.10911,     0.11011,     0.11111,     0.11211,     0.11311,     0.11411,     0.11512,     0.11612,     0.11712,     0.11812,     0.11912,\n",
      "           0.12012,     0.12112,     0.12212,     0.12312,     0.12412,     0.12513,     0.12613,     0.12713,     0.12813,     0.12913,     0.13013,     0.13113,     0.13213,     0.13313,     0.13413,     0.13514,     0.13614,     0.13714,     0.13814,     0.13914,     0.14014,     0.14114,     0.14214,     0.14314,\n",
      "           0.14414,     0.14515,     0.14615,     0.14715,     0.14815,     0.14915,     0.15015,     0.15115,     0.15215,     0.15315,     0.15415,     0.15516,     0.15616,     0.15716,     0.15816,     0.15916,     0.16016,     0.16116,     0.16216,     0.16316,     0.16416,     0.16517,     0.16617,     0.16717,\n",
      "           0.16817,     0.16917,     0.17017,     0.17117,     0.17217,     0.17317,     0.17417,     0.17518,     0.17618,     0.17718,     0.17818,     0.17918,     0.18018,     0.18118,     0.18218,     0.18318,     0.18418,     0.18519,     0.18619,     0.18719,     0.18819,     0.18919,     0.19019,     0.19119,\n",
      "           0.19219,     0.19319,     0.19419,      0.1952,      0.1962,      0.1972,      0.1982,      0.1992,      0.2002,      0.2012,      0.2022,      0.2032,      0.2042,     0.20521,     0.20621,     0.20721,     0.20821,     0.20921,     0.21021,     0.21121,     0.21221,     0.21321,     0.21421,     0.21522,\n",
      "           0.21622,     0.21722,     0.21822,     0.21922,     0.22022,     0.22122,     0.22222,     0.22322,     0.22422,     0.22523,     0.22623,     0.22723,     0.22823,     0.22923,     0.23023,     0.23123,     0.23223,     0.23323,     0.23423,     0.23524,     0.23624,     0.23724,     0.23824,     0.23924,\n",
      "           0.24024,     0.24124,     0.24224,     0.24324,     0.24424,     0.24525,     0.24625,     0.24725,     0.24825,     0.24925,     0.25025,     0.25125,     0.25225,     0.25325,     0.25425,     0.25526,     0.25626,     0.25726,     0.25826,     0.25926,     0.26026,     0.26126,     0.26226,     0.26326,\n",
      "           0.26426,     0.26527,     0.26627,     0.26727,     0.26827,     0.26927,     0.27027,     0.27127,     0.27227,     0.27327,     0.27427,     0.27528,     0.27628,     0.27728,     0.27828,     0.27928,     0.28028,     0.28128,     0.28228,     0.28328,     0.28428,     0.28529,     0.28629,     0.28729,\n",
      "           0.28829,     0.28929,     0.29029,     0.29129,     0.29229,     0.29329,     0.29429,      0.2953,      0.2963,      0.2973,      0.2983,      0.2993,      0.3003,      0.3013,      0.3023,      0.3033,      0.3043,     0.30531,     0.30631,     0.30731,     0.30831,     0.30931,     0.31031,     0.31131,\n",
      "           0.31231,     0.31331,     0.31431,     0.31532,     0.31632,     0.31732,     0.31832,     0.31932,     0.32032,     0.32132,     0.32232,     0.32332,     0.32432,     0.32533,     0.32633,     0.32733,     0.32833,     0.32933,     0.33033,     0.33133,     0.33233,     0.33333,     0.33433,     0.33534,\n",
      "           0.33634,     0.33734,     0.33834,     0.33934,     0.34034,     0.34134,     0.34234,     0.34334,     0.34434,     0.34535,     0.34635,     0.34735,     0.34835,     0.34935,     0.35035,     0.35135,     0.35235,     0.35335,     0.35435,     0.35536,     0.35636,     0.35736,     0.35836,     0.35936,\n",
      "           0.36036,     0.36136,     0.36236,     0.36336,     0.36436,     0.36537,     0.36637,     0.36737,     0.36837,     0.36937,     0.37037,     0.37137,     0.37237,     0.37337,     0.37437,     0.37538,     0.37638,     0.37738,     0.37838,     0.37938,     0.38038,     0.38138,     0.38238,     0.38338,\n",
      "           0.38438,     0.38539,     0.38639,     0.38739,     0.38839,     0.38939,     0.39039,     0.39139,     0.39239,     0.39339,     0.39439,      0.3954,      0.3964,      0.3974,      0.3984,      0.3994,      0.4004,      0.4014,      0.4024,      0.4034,      0.4044,     0.40541,     0.40641,     0.40741,\n",
      "           0.40841,     0.40941,     0.41041,     0.41141,     0.41241,     0.41341,     0.41441,     0.41542,     0.41642,     0.41742,     0.41842,     0.41942,     0.42042,     0.42142,     0.42242,     0.42342,     0.42442,     0.42543,     0.42643,     0.42743,     0.42843,     0.42943,     0.43043,     0.43143,\n",
      "           0.43243,     0.43343,     0.43443,     0.43544,     0.43644,     0.43744,     0.43844,     0.43944,     0.44044,     0.44144,     0.44244,     0.44344,     0.44444,     0.44545,     0.44645,     0.44745,     0.44845,     0.44945,     0.45045,     0.45145,     0.45245,     0.45345,     0.45445,     0.45546,\n",
      "           0.45646,     0.45746,     0.45846,     0.45946,     0.46046,     0.46146,     0.46246,     0.46346,     0.46446,     0.46547,     0.46647,     0.46747,     0.46847,     0.46947,     0.47047,     0.47147,     0.47247,     0.47347,     0.47447,     0.47548,     0.47648,     0.47748,     0.47848,     0.47948,\n",
      "           0.48048,     0.48148,     0.48248,     0.48348,     0.48448,     0.48549,     0.48649,     0.48749,     0.48849,     0.48949,     0.49049,     0.49149,     0.49249,     0.49349,     0.49449,      0.4955,      0.4965,      0.4975,      0.4985,      0.4995,      0.5005,      0.5015,      0.5025,      0.5035,\n",
      "            0.5045,     0.50551,     0.50651,     0.50751,     0.50851,     0.50951,     0.51051,     0.51151,     0.51251,     0.51351,     0.51451,     0.51552,     0.51652,     0.51752,     0.51852,     0.51952,     0.52052,     0.52152,     0.52252,     0.52352,     0.52452,     0.52553,     0.52653,     0.52753,\n",
      "           0.52853,     0.52953,     0.53053,     0.53153,     0.53253,     0.53353,     0.53453,     0.53554,     0.53654,     0.53754,     0.53854,     0.53954,     0.54054,     0.54154,     0.54254,     0.54354,     0.54454,     0.54555,     0.54655,     0.54755,     0.54855,     0.54955,     0.55055,     0.55155,\n",
      "           0.55255,     0.55355,     0.55455,     0.55556,     0.55656,     0.55756,     0.55856,     0.55956,     0.56056,     0.56156,     0.56256,     0.56356,     0.56456,     0.56557,     0.56657,     0.56757,     0.56857,     0.56957,     0.57057,     0.57157,     0.57257,     0.57357,     0.57457,     0.57558,\n",
      "           0.57658,     0.57758,     0.57858,     0.57958,     0.58058,     0.58158,     0.58258,     0.58358,     0.58458,     0.58559,     0.58659,     0.58759,     0.58859,     0.58959,     0.59059,     0.59159,     0.59259,     0.59359,     0.59459,      0.5956,      0.5966,      0.5976,      0.5986,      0.5996,\n",
      "            0.6006,      0.6016,      0.6026,      0.6036,      0.6046,     0.60561,     0.60661,     0.60761,     0.60861,     0.60961,     0.61061,     0.61161,     0.61261,     0.61361,     0.61461,     0.61562,     0.61662,     0.61762,     0.61862,     0.61962,     0.62062,     0.62162,     0.62262,     0.62362,\n",
      "           0.62462,     0.62563,     0.62663,     0.62763,     0.62863,     0.62963,     0.63063,     0.63163,     0.63263,     0.63363,     0.63463,     0.63564,     0.63664,     0.63764,     0.63864,     0.63964,     0.64064,     0.64164,     0.64264,     0.64364,     0.64464,     0.64565,     0.64665,     0.64765,\n",
      "           0.64865,     0.64965,     0.65065,     0.65165,     0.65265,     0.65365,     0.65465,     0.65566,     0.65666,     0.65766,     0.65866,     0.65966,     0.66066,     0.66166,     0.66266,     0.66366,     0.66466,     0.66567,     0.66667,     0.66767,     0.66867,     0.66967,     0.67067,     0.67167,\n",
      "           0.67267,     0.67367,     0.67467,     0.67568,     0.67668,     0.67768,     0.67868,     0.67968,     0.68068,     0.68168,     0.68268,     0.68368,     0.68468,     0.68569,     0.68669,     0.68769,     0.68869,     0.68969,     0.69069,     0.69169,     0.69269,     0.69369,     0.69469,      0.6957,\n",
      "            0.6967,      0.6977,      0.6987,      0.6997,      0.7007,      0.7017,      0.7027,      0.7037,      0.7047,     0.70571,     0.70671,     0.70771,     0.70871,     0.70971,     0.71071,     0.71171,     0.71271,     0.71371,     0.71471,     0.71572,     0.71672,     0.71772,     0.71872,     0.71972,\n",
      "           0.72072,     0.72172,     0.72272,     0.72372,     0.72472,     0.72573,     0.72673,     0.72773,     0.72873,     0.72973,     0.73073,     0.73173,     0.73273,     0.73373,     0.73473,     0.73574,     0.73674,     0.73774,     0.73874,     0.73974,     0.74074,     0.74174,     0.74274,     0.74374,\n",
      "           0.74474,     0.74575,     0.74675,     0.74775,     0.74875,     0.74975,     0.75075,     0.75175,     0.75275,     0.75375,     0.75475,     0.75576,     0.75676,     0.75776,     0.75876,     0.75976,     0.76076,     0.76176,     0.76276,     0.76376,     0.76476,     0.76577,     0.76677,     0.76777,\n",
      "           0.76877,     0.76977,     0.77077,     0.77177,     0.77277,     0.77377,     0.77477,     0.77578,     0.77678,     0.77778,     0.77878,     0.77978,     0.78078,     0.78178,     0.78278,     0.78378,     0.78478,     0.78579,     0.78679,     0.78779,     0.78879,     0.78979,     0.79079,     0.79179,\n",
      "           0.79279,     0.79379,     0.79479,      0.7958,      0.7968,      0.7978,      0.7988,      0.7998,      0.8008,      0.8018,      0.8028,      0.8038,      0.8048,     0.80581,     0.80681,     0.80781,     0.80881,     0.80981,     0.81081,     0.81181,     0.81281,     0.81381,     0.81481,     0.81582,\n",
      "           0.81682,     0.81782,     0.81882,     0.81982,     0.82082,     0.82182,     0.82282,     0.82382,     0.82482,     0.82583,     0.82683,     0.82783,     0.82883,     0.82983,     0.83083,     0.83183,     0.83283,     0.83383,     0.83483,     0.83584,     0.83684,     0.83784,     0.83884,     0.83984,\n",
      "           0.84084,     0.84184,     0.84284,     0.84384,     0.84484,     0.84585,     0.84685,     0.84785,     0.84885,     0.84985,     0.85085,     0.85185,     0.85285,     0.85385,     0.85485,     0.85586,     0.85686,     0.85786,     0.85886,     0.85986,     0.86086,     0.86186,     0.86286,     0.86386,\n",
      "           0.86486,     0.86587,     0.86687,     0.86787,     0.86887,     0.86987,     0.87087,     0.87187,     0.87287,     0.87387,     0.87487,     0.87588,     0.87688,     0.87788,     0.87888,     0.87988,     0.88088,     0.88188,     0.88288,     0.88388,     0.88488,     0.88589,     0.88689,     0.88789,\n",
      "           0.88889,     0.88989,     0.89089,     0.89189,     0.89289,     0.89389,     0.89489,      0.8959,      0.8969,      0.8979,      0.8989,      0.8999,      0.9009,      0.9019,      0.9029,      0.9039,      0.9049,     0.90591,     0.90691,     0.90791,     0.90891,     0.90991,     0.91091,     0.91191,\n",
      "           0.91291,     0.91391,     0.91491,     0.91592,     0.91692,     0.91792,     0.91892,     0.91992,     0.92092,     0.92192,     0.92292,     0.92392,     0.92492,     0.92593,     0.92693,     0.92793,     0.92893,     0.92993,     0.93093,     0.93193,     0.93293,     0.93393,     0.93493,     0.93594,\n",
      "           0.93694,     0.93794,     0.93894,     0.93994,     0.94094,     0.94194,     0.94294,     0.94394,     0.94494,     0.94595,     0.94695,     0.94795,     0.94895,     0.94995,     0.95095,     0.95195,     0.95295,     0.95395,     0.95495,     0.95596,     0.95696,     0.95796,     0.95896,     0.95996,\n",
      "           0.96096,     0.96196,     0.96296,     0.96396,     0.96496,     0.96597,     0.96697,     0.96797,     0.96897,     0.96997,     0.97097,     0.97197,     0.97297,     0.97397,     0.97497,     0.97598,     0.97698,     0.97798,     0.97898,     0.97998,     0.98098,     0.98198,     0.98298,     0.98398,\n",
      "           0.98498,     0.98599,     0.98699,     0.98799,     0.98899,     0.98999,     0.99099,     0.99199,     0.99299,     0.99399,     0.99499,       0.996,       0.997,       0.998,       0.999,           1]), array([[    0.22479,     0.22479,     0.23769,      0.2635,     0.28448,     0.30011,      0.3115,      0.3271,     0.33763,     0.34413,     0.35201,     0.35991,     0.36948,     0.37803,     0.38491,     0.38982,     0.39485,     0.39986,     0.40705,     0.41108,     0.41204,     0.41847,     0.42048,\n",
      "            0.42402,     0.42653,     0.42686,     0.42519,     0.42917,     0.43536,     0.43788,     0.43942,     0.44034,      0.4407,     0.44328,     0.44341,     0.44566,     0.45085,     0.45241,      0.4527,      0.4578,     0.45844,     0.45575,     0.45431,     0.45669,     0.45824,     0.46129,\n",
      "            0.46297,     0.46573,     0.46998,     0.46825,     0.47163,     0.47424,     0.47678,     0.47513,      0.4759,      0.4773,      0.4797,     0.48042,     0.48082,     0.47868,     0.47931,     0.47764,      0.4791,     0.48023,     0.48086,      0.4824,     0.48667,     0.48547,     0.48512,\n",
      "            0.48712,     0.48765,     0.48925,     0.49052,     0.49425,     0.49323,       0.494,     0.49524,     0.49661,     0.49844,     0.49879,     0.49758,     0.49793,     0.49825,     0.49961,     0.49631,     0.49695,     0.49656,     0.49559,     0.49706,     0.49572,     0.49647,     0.49696,\n",
      "            0.49736,     0.49292,     0.49379,     0.49487,     0.49432,     0.49452,     0.49473,     0.49493,     0.49446,     0.49351,     0.49255,     0.49303,       0.493,      0.4924,     0.49503,     0.49582,     0.49605,     0.49627,      0.4965,     0.49688,     0.49745,     0.49687,     0.49627,\n",
      "            0.49567,     0.49507,     0.49562,     0.49332,     0.49365,     0.49398,     0.49419,     0.49439,     0.49458,     0.49478,     0.49568,     0.49597,     0.49622,     0.49647,     0.49683,     0.49727,      0.4978,     0.49882,     0.49592,     0.49503,     0.49626,     0.49426,     0.49569,\n",
      "            0.49598,     0.49626,     0.49538,     0.49423,     0.49495,     0.49581,     0.49403,     0.49458,     0.49258,     0.49105,     0.49108,     0.49142,     0.49177,     0.49074,     0.48882,     0.48948,     0.48987,     0.48897,     0.48733,     0.48577,     0.48336,     0.47918,     0.48014,\n",
      "            0.48062,     0.48105,     0.48147,     0.48252,     0.48277,     0.48303,     0.48328,      0.4835,      0.4837,      0.4839,     0.48409,     0.48427,     0.48174,     0.48222,     0.48277,     0.48333,      0.4837,     0.48407,     0.48441,     0.48475,     0.48334,      0.4799,     0.48126,\n",
      "            0.48179,     0.48271,     0.48424,     0.48274,     0.48007,     0.48062,     0.48112,     0.48156,     0.48132,     0.47994,     0.47934,     0.47924,     0.47831,     0.47739,     0.47726,     0.47794,     0.47861,     0.47703,     0.47594,      0.4762,     0.47646,     0.47672,     0.47742,\n",
      "            0.47319,      0.4724,     0.46972,     0.47025,      0.4712,     0.46937,      0.4681,     0.46733,     0.46656,     0.46579,     0.46463,      0.4632,     0.46182,     0.46049,     0.45966,      0.4604,     0.46054,     0.46069,     0.46084,     0.46099,     0.46114,      0.4622,     0.46245,\n",
      "             0.4627,     0.46294,     0.46417,     0.46557,     0.46619,     0.46659,     0.46908,     0.47004,     0.47053,     0.46759,     0.46827,     0.46756,     0.46685,     0.46614,     0.46542,     0.46628,     0.46651,     0.46675,     0.46698,     0.46722,      0.4677,     0.46817,     0.46929,\n",
      "            0.46952,     0.46974,     0.46996,      0.4696,     0.46825,     0.46692,     0.46603,     0.46513,     0.46424,     0.46402,     0.46455,     0.46428,     0.46358,     0.46289,     0.46219,     0.45938,      0.4552,     0.45271,      0.4521,     0.45243,     0.45276,     0.45309,     0.45341,\n",
      "            0.45374,     0.45531,     0.45543,     0.45505,     0.45467,     0.45428,      0.4539,     0.45352,     0.45314,     0.45275,     0.45245,     0.45257,      0.4527,     0.45282,     0.45294,     0.45307,     0.45319,     0.45331,     0.45309,     0.45226,     0.45143,      0.4506,     0.44963,\n",
      "            0.44844,     0.44725,     0.44641,     0.44577,     0.44513,     0.44449,     0.44385,     0.44354,     0.44364,     0.44374,     0.44384,     0.44393,     0.44403,     0.44413,     0.44423,     0.44432,     0.44442,     0.44311,     0.44138,     0.44124,      0.4414,     0.44155,     0.44171,\n",
      "            0.44186,     0.44201,      0.4424,     0.44026,     0.43918,     0.43851,     0.43784,     0.43717,      0.4365,     0.43712,     0.43642,     0.43572,     0.43502,     0.43432,     0.43268,     0.43066,     0.42976,     0.42887,     0.42797,     0.42651,     0.42504,     0.42473,     0.42508,\n",
      "            0.42543,     0.42443,     0.42338,     0.42233,     0.41921,     0.41557,     0.41399,     0.41244,     0.41314,     0.41277,     0.41239,     0.41202,     0.41164,     0.41127,     0.41089,     0.41051,     0.41014,     0.40966,     0.40825,     0.40684,     0.40632,     0.40644,     0.40657,\n",
      "            0.40669,     0.40681,     0.40693,     0.40706,     0.40723,     0.40766,     0.40817,     0.40815,     0.40666,     0.40469,     0.40184,     0.40196,     0.40207,     0.40219,      0.4023,     0.40241,     0.40253,     0.40264,     0.40087,     0.39881,     0.39839,     0.39798,     0.39757,\n",
      "            0.39715,     0.39674,     0.39632,     0.39591,     0.39549,     0.39609,     0.39593,     0.39525,     0.39456,     0.39387,     0.39318,     0.39286,      0.3934,     0.38723,     0.38639,     0.38663,     0.38687,     0.38708,     0.38641,     0.38574,     0.38507,      0.3844,     0.38373,\n",
      "            0.38104,     0.37971,     0.37982,     0.37994,     0.38005,     0.38016,     0.38027,     0.38039,      0.3805,     0.38127,      0.3816,     0.38184,     0.38207,     0.38231,     0.38258,     0.38285,     0.38312,     0.38353,     0.38398,     0.38414,     0.38423,     0.38431,      0.3844,\n",
      "            0.38448,     0.38457,     0.38465,     0.38474,     0.38482,     0.38491,     0.38492,      0.3846,     0.38428,     0.38396,     0.38364,     0.38332,     0.38299,     0.38267,     0.38235,     0.38203,      0.3817,     0.38138,     0.38087,     0.38003,     0.37919,     0.37835,     0.37751,\n",
      "            0.37332,      0.3728,     0.37229,     0.37177,     0.37126,     0.37074,     0.37023,     0.36971,     0.37047,     0.36728,     0.36699,     0.36738,     0.36728,     0.36684,      0.3664,     0.36595,     0.36551,     0.36507,     0.36462,     0.36418,     0.36374,     0.36315,     0.36252,\n",
      "            0.36189,     0.36126,     0.36063,        0.36,     0.35938,     0.35877,     0.35815,     0.35754,     0.35692,     0.35631,     0.35179,     0.35123,     0.35066,      0.3501,     0.34953,     0.34897,      0.3484,     0.34784,     0.34343,     0.34059,     0.33773,     0.33414,     0.33187,\n",
      "            0.33219,      0.3325,     0.33191,     0.33127,     0.33063,     0.32999,     0.32935,      0.3287,     0.32766,     0.32632,     0.32499,     0.32444,     0.32467,      0.3249,      0.3249,     0.32174,     0.32084,     0.31993,     0.31902,     0.31811,     0.31315,     0.31121,     0.30926,\n",
      "            0.30858,     0.30792,     0.30725,     0.30659,     0.30593,     0.30527,     0.30298,     0.30079,     0.30089,       0.301,      0.3011,      0.3012,     0.30131,     0.30141,      0.3015,      0.3013,     0.30109,     0.30089,     0.30068,     0.30048,     0.30028,     0.30007,     0.29987,\n",
      "            0.29966,     0.29946,     0.29925,     0.29905,     0.29884,     0.29864,     0.29843,     0.29823,     0.29802,     0.29782,     0.29761,      0.2974,     0.29725,     0.29742,     0.29758,     0.29774,      0.2979,      0.2978,     0.29747,     0.29713,      0.2968,     0.29646,     0.29613,\n",
      "            0.29579,     0.29545,     0.29512,     0.29478,     0.29445,     0.29411,     0.29377,     0.29397,     0.29439,     0.29399,     0.29354,     0.29308,     0.29262,     0.29217,     0.29171,     0.29125,      0.2908,     0.29034,     0.29015,     0.29032,     0.29049,     0.29066,     0.29067,\n",
      "            0.28917,     0.28767,      0.2846,     0.28171,     0.28124,     0.28078,     0.28031,     0.27985,     0.27938,     0.27891,     0.27845,     0.27798,     0.27749,     0.27694,      0.2764,     0.27585,      0.2753,     0.27476,     0.27421,     0.27366,     0.27314,     0.27277,     0.27239,\n",
      "            0.27202,     0.27165,     0.27128,     0.27091,     0.27053,     0.27016,     0.26979,     0.26942,     0.26904,      0.2686,     0.26783,     0.26706,     0.26629,     0.26552,     0.26475,     0.26397,     0.26315,     0.26233,     0.26152,      0.2607,     0.25988,     0.25899,     0.25809,\n",
      "            0.25718,     0.25628,     0.25537,      0.2503,     0.24696,     0.24479,     0.24304,     0.24144,     0.24118,     0.24091,     0.24065,     0.24038,     0.24012,     0.23985,     0.23959,     0.23932,     0.23905,     0.23879,     0.23852,     0.23826,     0.23799,     0.23772,     0.23746,\n",
      "            0.23719,     0.23692,     0.23657,     0.23617,     0.23578,     0.23538,     0.23499,     0.23459,     0.23419,      0.2338,      0.2334,       0.233,     0.23261,     0.23221,      0.2306,     0.22892,      0.2265,     0.22193,     0.21986,     0.21809,     0.21816,     0.21822,     0.21828,\n",
      "            0.21835,     0.21841,     0.21847,     0.21853,     0.21859,     0.21865,     0.21203,     0.20882,     0.20754,     0.20626,     0.20498,     0.20318,      0.2008,      0.1982,     0.19529,     0.19427,     0.19385,     0.19343,     0.19301,     0.19258,     0.19216,     0.19174,     0.19131,\n",
      "            0.19089,     0.19047,     0.19004,     0.18477,     0.18416,     0.18356,     0.18295,     0.18234,     0.18173,     0.18112,     0.18051,      0.1799,     0.17915,      0.1784,     0.17764,     0.17688,     0.17612,     0.17536,     0.17404,     0.17163,     0.16938,     0.16759,     0.16579,\n",
      "            0.16458,     0.16404,     0.16351,     0.16297,     0.16243,     0.16189,     0.16135,     0.16081,     0.16027,      0.1597,     0.15892,     0.15814,     0.15736,     0.15658,     0.15579,     0.15501,     0.15367,     0.15195,     0.15022,     0.14602,     0.14278,     0.14048,     0.13865,\n",
      "            0.13733,       0.136,     0.13468,     0.13353,     0.13253,     0.13153,     0.13053,     0.12952,     0.12857,     0.12771,     0.12685,     0.12599,     0.12513,     0.12427,     0.12348,     0.12297,     0.12247,     0.12196,     0.12145,     0.12094,     0.12043,     0.11992,     0.11941,\n",
      "             0.1189,     0.11839,     0.11714,     0.11575,     0.11436,     0.11297,     0.11126,     0.10954,     0.10781,     0.10739,     0.10711,     0.10682,     0.10654,     0.10625,     0.10597,     0.10568,     0.10539,     0.10511,     0.10482,     0.10454,     0.10425,     0.10397,     0.10368,\n",
      "            0.10339,     0.10311,     0.10282,     0.10254,     0.10222,     0.10162,     0.10102,     0.10042,    0.099818,    0.099216,    0.098614,    0.098011,    0.097408,    0.096835,    0.096526,    0.096217,    0.095908,    0.095599,     0.09529,    0.094981,    0.094671,    0.094362,    0.094052,\n",
      "           0.093743,    0.093433,    0.093123,    0.092813,    0.092503,    0.092193,    0.091883,    0.091572,     0.09082,    0.089684,    0.088546,    0.087408,    0.086268,    0.084057,    0.081446,    0.074905,    0.068948,    0.064083,    0.062898,    0.061967,    0.061034,    0.060101,    0.059167,\n",
      "           0.058233,    0.057872,    0.057576,    0.057279,    0.056982,    0.056685,    0.056388,     0.05609,    0.055793,    0.055496,    0.055198,      0.0549,    0.054603,    0.054305,    0.054007,    0.053709,    0.053411,    0.053113,    0.052815,    0.052516,    0.051676,    0.050755,    0.049834,\n",
      "           0.048911,    0.047988,    0.047064,    0.046281,    0.045559,    0.044836,    0.044113,    0.043389,    0.042665,     0.04194,    0.041215,    0.038517,    0.035289,    0.034849,    0.034409,    0.033969,    0.033529,    0.033089,    0.032648,    0.032207,    0.031766,    0.031325,    0.030884,\n",
      "           0.030442,        0.03,    0.029558,    0.028967,    0.028351,    0.027736,    0.027119,    0.026503,    0.025886,    0.025269,    0.024651,    0.024033,    0.023546,    0.023247,    0.022949,     0.02265,    0.022351,    0.022052,    0.021753,    0.021454,    0.021155,    0.020855,    0.020556,\n",
      "           0.020256,    0.019957,    0.019657,    0.019357,    0.019057,    0.018758,    0.018457,    0.018157,    0.017857,    0.016682,    0.015317,    0.013951,    0.012582,    0.011698,     0.01129,    0.010881,    0.010473,    0.010064,   0.0096546,   0.0092453,   0.0088358,   0.0084262,   0.0080164,\n",
      "          0.0076065,   0.0071964,   0.0067861,   0.0063756,           0,           0,           0,           0,           0,           0,           0,           0,           0,           0,           0,           0,           0,           0,           0,           0,           0,           0,           0,\n",
      "                  0,           0,           0,           0,           0,           0,           0,           0,           0,           0,           0,           0,           0,           0,           0,           0,           0,           0,           0,           0,           0,           0,           0,\n",
      "                  0,           0,           0,           0,           0,           0,           0,           0,           0,           0,           0]]), 'Confidence', 'F1'], [array([          0,    0.001001,    0.002002,    0.003003,    0.004004,    0.005005,    0.006006,    0.007007,    0.008008,    0.009009,     0.01001,    0.011011,    0.012012,    0.013013,    0.014014,    0.015015,    0.016016,    0.017017,    0.018018,    0.019019,     0.02002,    0.021021,    0.022022,    0.023023,\n",
      "          0.024024,    0.025025,    0.026026,    0.027027,    0.028028,    0.029029,     0.03003,    0.031031,    0.032032,    0.033033,    0.034034,    0.035035,    0.036036,    0.037037,    0.038038,    0.039039,     0.04004,    0.041041,    0.042042,    0.043043,    0.044044,    0.045045,    0.046046,    0.047047,\n",
      "          0.048048,    0.049049,     0.05005,    0.051051,    0.052052,    0.053053,    0.054054,    0.055055,    0.056056,    0.057057,    0.058058,    0.059059,     0.06006,    0.061061,    0.062062,    0.063063,    0.064064,    0.065065,    0.066066,    0.067067,    0.068068,    0.069069,     0.07007,    0.071071,\n",
      "          0.072072,    0.073073,    0.074074,    0.075075,    0.076076,    0.077077,    0.078078,    0.079079,     0.08008,    0.081081,    0.082082,    0.083083,    0.084084,    0.085085,    0.086086,    0.087087,    0.088088,    0.089089,     0.09009,    0.091091,    0.092092,    0.093093,    0.094094,    0.095095,\n",
      "          0.096096,    0.097097,    0.098098,    0.099099,      0.1001,      0.1011,      0.1021,      0.1031,      0.1041,     0.10511,     0.10611,     0.10711,     0.10811,     0.10911,     0.11011,     0.11111,     0.11211,     0.11311,     0.11411,     0.11512,     0.11612,     0.11712,     0.11812,     0.11912,\n",
      "           0.12012,     0.12112,     0.12212,     0.12312,     0.12412,     0.12513,     0.12613,     0.12713,     0.12813,     0.12913,     0.13013,     0.13113,     0.13213,     0.13313,     0.13413,     0.13514,     0.13614,     0.13714,     0.13814,     0.13914,     0.14014,     0.14114,     0.14214,     0.14314,\n",
      "           0.14414,     0.14515,     0.14615,     0.14715,     0.14815,     0.14915,     0.15015,     0.15115,     0.15215,     0.15315,     0.15415,     0.15516,     0.15616,     0.15716,     0.15816,     0.15916,     0.16016,     0.16116,     0.16216,     0.16316,     0.16416,     0.16517,     0.16617,     0.16717,\n",
      "           0.16817,     0.16917,     0.17017,     0.17117,     0.17217,     0.17317,     0.17417,     0.17518,     0.17618,     0.17718,     0.17818,     0.17918,     0.18018,     0.18118,     0.18218,     0.18318,     0.18418,     0.18519,     0.18619,     0.18719,     0.18819,     0.18919,     0.19019,     0.19119,\n",
      "           0.19219,     0.19319,     0.19419,      0.1952,      0.1962,      0.1972,      0.1982,      0.1992,      0.2002,      0.2012,      0.2022,      0.2032,      0.2042,     0.20521,     0.20621,     0.20721,     0.20821,     0.20921,     0.21021,     0.21121,     0.21221,     0.21321,     0.21421,     0.21522,\n",
      "           0.21622,     0.21722,     0.21822,     0.21922,     0.22022,     0.22122,     0.22222,     0.22322,     0.22422,     0.22523,     0.22623,     0.22723,     0.22823,     0.22923,     0.23023,     0.23123,     0.23223,     0.23323,     0.23423,     0.23524,     0.23624,     0.23724,     0.23824,     0.23924,\n",
      "           0.24024,     0.24124,     0.24224,     0.24324,     0.24424,     0.24525,     0.24625,     0.24725,     0.24825,     0.24925,     0.25025,     0.25125,     0.25225,     0.25325,     0.25425,     0.25526,     0.25626,     0.25726,     0.25826,     0.25926,     0.26026,     0.26126,     0.26226,     0.26326,\n",
      "           0.26426,     0.26527,     0.26627,     0.26727,     0.26827,     0.26927,     0.27027,     0.27127,     0.27227,     0.27327,     0.27427,     0.27528,     0.27628,     0.27728,     0.27828,     0.27928,     0.28028,     0.28128,     0.28228,     0.28328,     0.28428,     0.28529,     0.28629,     0.28729,\n",
      "           0.28829,     0.28929,     0.29029,     0.29129,     0.29229,     0.29329,     0.29429,      0.2953,      0.2963,      0.2973,      0.2983,      0.2993,      0.3003,      0.3013,      0.3023,      0.3033,      0.3043,     0.30531,     0.30631,     0.30731,     0.30831,     0.30931,     0.31031,     0.31131,\n",
      "           0.31231,     0.31331,     0.31431,     0.31532,     0.31632,     0.31732,     0.31832,     0.31932,     0.32032,     0.32132,     0.32232,     0.32332,     0.32432,     0.32533,     0.32633,     0.32733,     0.32833,     0.32933,     0.33033,     0.33133,     0.33233,     0.33333,     0.33433,     0.33534,\n",
      "           0.33634,     0.33734,     0.33834,     0.33934,     0.34034,     0.34134,     0.34234,     0.34334,     0.34434,     0.34535,     0.34635,     0.34735,     0.34835,     0.34935,     0.35035,     0.35135,     0.35235,     0.35335,     0.35435,     0.35536,     0.35636,     0.35736,     0.35836,     0.35936,\n",
      "           0.36036,     0.36136,     0.36236,     0.36336,     0.36436,     0.36537,     0.36637,     0.36737,     0.36837,     0.36937,     0.37037,     0.37137,     0.37237,     0.37337,     0.37437,     0.37538,     0.37638,     0.37738,     0.37838,     0.37938,     0.38038,     0.38138,     0.38238,     0.38338,\n",
      "           0.38438,     0.38539,     0.38639,     0.38739,     0.38839,     0.38939,     0.39039,     0.39139,     0.39239,     0.39339,     0.39439,      0.3954,      0.3964,      0.3974,      0.3984,      0.3994,      0.4004,      0.4014,      0.4024,      0.4034,      0.4044,     0.40541,     0.40641,     0.40741,\n",
      "           0.40841,     0.40941,     0.41041,     0.41141,     0.41241,     0.41341,     0.41441,     0.41542,     0.41642,     0.41742,     0.41842,     0.41942,     0.42042,     0.42142,     0.42242,     0.42342,     0.42442,     0.42543,     0.42643,     0.42743,     0.42843,     0.42943,     0.43043,     0.43143,\n",
      "           0.43243,     0.43343,     0.43443,     0.43544,     0.43644,     0.43744,     0.43844,     0.43944,     0.44044,     0.44144,     0.44244,     0.44344,     0.44444,     0.44545,     0.44645,     0.44745,     0.44845,     0.44945,     0.45045,     0.45145,     0.45245,     0.45345,     0.45445,     0.45546,\n",
      "           0.45646,     0.45746,     0.45846,     0.45946,     0.46046,     0.46146,     0.46246,     0.46346,     0.46446,     0.46547,     0.46647,     0.46747,     0.46847,     0.46947,     0.47047,     0.47147,     0.47247,     0.47347,     0.47447,     0.47548,     0.47648,     0.47748,     0.47848,     0.47948,\n",
      "           0.48048,     0.48148,     0.48248,     0.48348,     0.48448,     0.48549,     0.48649,     0.48749,     0.48849,     0.48949,     0.49049,     0.49149,     0.49249,     0.49349,     0.49449,      0.4955,      0.4965,      0.4975,      0.4985,      0.4995,      0.5005,      0.5015,      0.5025,      0.5035,\n",
      "            0.5045,     0.50551,     0.50651,     0.50751,     0.50851,     0.50951,     0.51051,     0.51151,     0.51251,     0.51351,     0.51451,     0.51552,     0.51652,     0.51752,     0.51852,     0.51952,     0.52052,     0.52152,     0.52252,     0.52352,     0.52452,     0.52553,     0.52653,     0.52753,\n",
      "           0.52853,     0.52953,     0.53053,     0.53153,     0.53253,     0.53353,     0.53453,     0.53554,     0.53654,     0.53754,     0.53854,     0.53954,     0.54054,     0.54154,     0.54254,     0.54354,     0.54454,     0.54555,     0.54655,     0.54755,     0.54855,     0.54955,     0.55055,     0.55155,\n",
      "           0.55255,     0.55355,     0.55455,     0.55556,     0.55656,     0.55756,     0.55856,     0.55956,     0.56056,     0.56156,     0.56256,     0.56356,     0.56456,     0.56557,     0.56657,     0.56757,     0.56857,     0.56957,     0.57057,     0.57157,     0.57257,     0.57357,     0.57457,     0.57558,\n",
      "           0.57658,     0.57758,     0.57858,     0.57958,     0.58058,     0.58158,     0.58258,     0.58358,     0.58458,     0.58559,     0.58659,     0.58759,     0.58859,     0.58959,     0.59059,     0.59159,     0.59259,     0.59359,     0.59459,      0.5956,      0.5966,      0.5976,      0.5986,      0.5996,\n",
      "            0.6006,      0.6016,      0.6026,      0.6036,      0.6046,     0.60561,     0.60661,     0.60761,     0.60861,     0.60961,     0.61061,     0.61161,     0.61261,     0.61361,     0.61461,     0.61562,     0.61662,     0.61762,     0.61862,     0.61962,     0.62062,     0.62162,     0.62262,     0.62362,\n",
      "           0.62462,     0.62563,     0.62663,     0.62763,     0.62863,     0.62963,     0.63063,     0.63163,     0.63263,     0.63363,     0.63463,     0.63564,     0.63664,     0.63764,     0.63864,     0.63964,     0.64064,     0.64164,     0.64264,     0.64364,     0.64464,     0.64565,     0.64665,     0.64765,\n",
      "           0.64865,     0.64965,     0.65065,     0.65165,     0.65265,     0.65365,     0.65465,     0.65566,     0.65666,     0.65766,     0.65866,     0.65966,     0.66066,     0.66166,     0.66266,     0.66366,     0.66466,     0.66567,     0.66667,     0.66767,     0.66867,     0.66967,     0.67067,     0.67167,\n",
      "           0.67267,     0.67367,     0.67467,     0.67568,     0.67668,     0.67768,     0.67868,     0.67968,     0.68068,     0.68168,     0.68268,     0.68368,     0.68468,     0.68569,     0.68669,     0.68769,     0.68869,     0.68969,     0.69069,     0.69169,     0.69269,     0.69369,     0.69469,      0.6957,\n",
      "            0.6967,      0.6977,      0.6987,      0.6997,      0.7007,      0.7017,      0.7027,      0.7037,      0.7047,     0.70571,     0.70671,     0.70771,     0.70871,     0.70971,     0.71071,     0.71171,     0.71271,     0.71371,     0.71471,     0.71572,     0.71672,     0.71772,     0.71872,     0.71972,\n",
      "           0.72072,     0.72172,     0.72272,     0.72372,     0.72472,     0.72573,     0.72673,     0.72773,     0.72873,     0.72973,     0.73073,     0.73173,     0.73273,     0.73373,     0.73473,     0.73574,     0.73674,     0.73774,     0.73874,     0.73974,     0.74074,     0.74174,     0.74274,     0.74374,\n",
      "           0.74474,     0.74575,     0.74675,     0.74775,     0.74875,     0.74975,     0.75075,     0.75175,     0.75275,     0.75375,     0.75475,     0.75576,     0.75676,     0.75776,     0.75876,     0.75976,     0.76076,     0.76176,     0.76276,     0.76376,     0.76476,     0.76577,     0.76677,     0.76777,\n",
      "           0.76877,     0.76977,     0.77077,     0.77177,     0.77277,     0.77377,     0.77477,     0.77578,     0.77678,     0.77778,     0.77878,     0.77978,     0.78078,     0.78178,     0.78278,     0.78378,     0.78478,     0.78579,     0.78679,     0.78779,     0.78879,     0.78979,     0.79079,     0.79179,\n",
      "           0.79279,     0.79379,     0.79479,      0.7958,      0.7968,      0.7978,      0.7988,      0.7998,      0.8008,      0.8018,      0.8028,      0.8038,      0.8048,     0.80581,     0.80681,     0.80781,     0.80881,     0.80981,     0.81081,     0.81181,     0.81281,     0.81381,     0.81481,     0.81582,\n",
      "           0.81682,     0.81782,     0.81882,     0.81982,     0.82082,     0.82182,     0.82282,     0.82382,     0.82482,     0.82583,     0.82683,     0.82783,     0.82883,     0.82983,     0.83083,     0.83183,     0.83283,     0.83383,     0.83483,     0.83584,     0.83684,     0.83784,     0.83884,     0.83984,\n",
      "           0.84084,     0.84184,     0.84284,     0.84384,     0.84484,     0.84585,     0.84685,     0.84785,     0.84885,     0.84985,     0.85085,     0.85185,     0.85285,     0.85385,     0.85485,     0.85586,     0.85686,     0.85786,     0.85886,     0.85986,     0.86086,     0.86186,     0.86286,     0.86386,\n",
      "           0.86486,     0.86587,     0.86687,     0.86787,     0.86887,     0.86987,     0.87087,     0.87187,     0.87287,     0.87387,     0.87487,     0.87588,     0.87688,     0.87788,     0.87888,     0.87988,     0.88088,     0.88188,     0.88288,     0.88388,     0.88488,     0.88589,     0.88689,     0.88789,\n",
      "           0.88889,     0.88989,     0.89089,     0.89189,     0.89289,     0.89389,     0.89489,      0.8959,      0.8969,      0.8979,      0.8989,      0.8999,      0.9009,      0.9019,      0.9029,      0.9039,      0.9049,     0.90591,     0.90691,     0.90791,     0.90891,     0.90991,     0.91091,     0.91191,\n",
      "           0.91291,     0.91391,     0.91491,     0.91592,     0.91692,     0.91792,     0.91892,     0.91992,     0.92092,     0.92192,     0.92292,     0.92392,     0.92492,     0.92593,     0.92693,     0.92793,     0.92893,     0.92993,     0.93093,     0.93193,     0.93293,     0.93393,     0.93493,     0.93594,\n",
      "           0.93694,     0.93794,     0.93894,     0.93994,     0.94094,     0.94194,     0.94294,     0.94394,     0.94494,     0.94595,     0.94695,     0.94795,     0.94895,     0.94995,     0.95095,     0.95195,     0.95295,     0.95395,     0.95495,     0.95596,     0.95696,     0.95796,     0.95896,     0.95996,\n",
      "           0.96096,     0.96196,     0.96296,     0.96396,     0.96496,     0.96597,     0.96697,     0.96797,     0.96897,     0.96997,     0.97097,     0.97197,     0.97297,     0.97397,     0.97497,     0.97598,     0.97698,     0.97798,     0.97898,     0.97998,     0.98098,     0.98198,     0.98298,     0.98398,\n",
      "           0.98498,     0.98599,     0.98699,     0.98799,     0.98899,     0.98999,     0.99099,     0.99199,     0.99299,     0.99399,     0.99499,       0.996,       0.997,       0.998,       0.999,           1]), array([[    0.13774,     0.13774,     0.14809,     0.16891,     0.18655,     0.20056,     0.21202,     0.22674,     0.23699,     0.24503,     0.25368,     0.26196,     0.27223,     0.28161,     0.29008,      0.2965,     0.30322,     0.30916,     0.31784,     0.32476,     0.32803,     0.33625,     0.34114,\n",
      "            0.34583,     0.34918,     0.35085,     0.35369,     0.35922,     0.36799,     0.37325,     0.37683,     0.37975,     0.38028,     0.38414,     0.38596,     0.38937,     0.39737,      0.3998,     0.40205,     0.41206,     0.41504,     0.41459,     0.41422,     0.41819,      0.4208,     0.42815,\n",
      "            0.43104,     0.43586,     0.44336,     0.44486,      0.4512,     0.45599,     0.46071,     0.46024,     0.46437,     0.46704,     0.47166,     0.47304,     0.47383,     0.47237,      0.4746,     0.47624,     0.47916,     0.48143,     0.48269,      0.4858,     0.49454,     0.49635,     0.49783,\n",
      "            0.50205,     0.50318,      0.5066,     0.50933,     0.51743,      0.5188,     0.52051,     0.52327,     0.52634,     0.53046,     0.53193,     0.53235,     0.53316,      0.5339,     0.53702,     0.53737,     0.53889,     0.53967,     0.53979,     0.54415,     0.54431,     0.54613,     0.54731,\n",
      "            0.54829,     0.54621,     0.54837,     0.55104,     0.55421,     0.55472,     0.55524,     0.55575,      0.5556,     0.55497,     0.55433,     0.55561,     0.55772,     0.55878,     0.56558,     0.56767,     0.56826,     0.56886,     0.56945,     0.57046,     0.57196,      0.5716,      0.5712,\n",
      "            0.57081,     0.57041,     0.57219,     0.57119,     0.57207,     0.57295,     0.57355,     0.57407,     0.57459,     0.57511,     0.57756,     0.57835,     0.57903,     0.57971,      0.5807,     0.58191,     0.58336,     0.58615,     0.58918,     0.58993,     0.59594,     0.59606,     0.60024,\n",
      "            0.60108,     0.60192,     0.60186,     0.60204,      0.6042,     0.60829,     0.60774,     0.60941,     0.61044,     0.60946,     0.61173,      0.6128,     0.61388,     0.61803,     0.61826,     0.62038,     0.62166,     0.62145,     0.62041,     0.61941,     0.61786,     0.61516,     0.61886,\n",
      "            0.62048,     0.62192,     0.62331,     0.62684,      0.6277,     0.62856,     0.62942,     0.63017,     0.63084,     0.63151,     0.63218,     0.63284,     0.63197,     0.63362,     0.63553,     0.63745,     0.63874,     0.64003,     0.64124,     0.64241,     0.64248,     0.64178,     0.64666,\n",
      "            0.64859,     0.65194,     0.65754,      0.6585,     0.65996,     0.66204,     0.66393,     0.66561,     0.66635,     0.66551,     0.66648,     0.66808,     0.66751,     0.66695,     0.66799,     0.67067,     0.67332,     0.67286,     0.67261,     0.67366,      0.6747,     0.67574,     0.67854,\n",
      "            0.67686,     0.67873,     0.67817,     0.68041,     0.68553,     0.68443,     0.68366,      0.6832,     0.68273,     0.68227,     0.68156,     0.68069,     0.67984,     0.67903,     0.67947,      0.6827,     0.68335,       0.684,     0.68466,     0.68531,     0.68596,     0.69069,      0.6918,\n",
      "            0.69292,     0.69403,     0.69958,     0.70597,     0.70881,     0.71069,     0.72237,     0.72693,      0.7293,     0.72791,      0.7324,     0.73201,     0.73162,     0.73122,     0.73083,     0.73557,     0.73675,     0.73793,     0.73911,     0.74031,      0.7427,     0.74508,      0.7508,\n",
      "            0.75195,      0.7531,     0.75424,     0.75471,     0.75401,     0.75332,     0.75286,     0.75239,     0.75192,     0.75299,     0.75579,     0.75652,     0.75616,      0.7558,     0.75544,     0.75397,     0.75177,     0.75044,     0.75121,     0.75304,     0.75486,     0.75668,      0.7585,\n",
      "            0.76033,     0.76923,     0.77129,      0.7711,     0.77091,     0.77072,     0.77052,     0.77033,     0.77014,     0.76995,      0.7699,     0.77061,     0.77133,     0.77204,     0.77276,     0.77348,     0.77419,     0.77491,     0.77521,      0.7748,     0.77438,     0.77397,     0.77348,\n",
      "            0.77288,     0.77228,     0.77186,     0.77153,      0.7712,     0.77088,     0.77055,     0.77063,     0.77123,     0.77182,     0.77242,     0.77301,      0.7736,      0.7742,     0.77479,     0.77539,     0.77598,     0.77545,     0.77457,     0.77524,      0.7762,     0.77715,      0.7781,\n",
      "            0.77905,     0.78001,     0.78596,     0.78491,     0.78438,     0.78405,     0.78371,     0.78338,     0.78305,     0.78901,     0.78867,     0.78832,     0.78798,     0.78763,     0.79263,     0.79165,     0.79121,     0.79077,     0.79033,     0.78961,     0.78888,     0.79017,     0.79258,\n",
      "            0.79499,     0.79459,     0.79407,     0.79356,     0.79821,     0.79643,     0.79565,     0.79502,     0.80163,     0.80145,     0.80126,     0.80108,      0.8009,     0.80071,     0.80053,     0.80035,     0.80017,     0.79993,     0.79923,     0.79854,      0.7988,     0.79975,      0.8007,\n",
      "            0.80165,     0.80261,     0.80356,     0.80451,     0.80585,     0.80927,      0.8133,     0.81944,     0.81875,     0.81785,     0.81683,     0.81777,     0.81872,     0.81966,     0.82061,     0.82155,     0.82249,     0.82344,     0.82324,      0.8223,     0.82211,     0.82192,     0.82173,\n",
      "            0.82154,     0.82134,     0.82115,     0.82096,     0.82077,     0.82624,     0.82838,     0.82807,     0.82776,     0.82745,     0.82714,     0.82835,     0.83323,     0.83214,      0.8334,     0.83562,     0.83784,     0.83999,      0.8397,     0.83941,     0.83912,     0.83883,     0.83854,\n",
      "            0.83736,     0.83752,     0.83863,     0.83973,     0.84083,     0.84193,     0.84304,     0.84414,     0.84524,     0.85294,     0.85622,     0.85862,     0.86102,     0.86346,      0.8662,     0.86895,      0.8717,     0.87598,     0.88074,     0.88244,     0.88334,     0.88424,     0.88514,\n",
      "            0.88604,     0.88694,     0.88785,     0.88875,     0.88965,     0.89055,     0.89129,     0.89119,     0.89109,     0.89098,     0.89088,     0.89078,     0.89068,     0.89058,     0.89048,     0.89038,     0.89028,     0.89017,     0.89001,     0.88974,     0.88947,     0.88921,     0.88894,\n",
      "            0.88757,      0.8874,     0.88723,     0.88706,     0.88689,     0.88672,     0.88655,     0.88638,     0.89653,     0.89554,     0.89919,     0.90394,     0.90581,     0.90568,     0.90555,     0.90543,      0.9053,     0.90517,     0.90504,     0.90492,     0.90479,     0.90462,     0.90444,\n",
      "            0.90425,     0.90407,     0.90388,      0.9037,     0.90352,     0.90333,     0.90315,     0.90297,     0.90278,      0.9026,     0.90123,     0.90105,     0.90088,      0.9007,     0.90053,     0.90035,     0.90018,         0.9,     0.89861,     0.89769,     0.89675,     0.89556,     0.89716,\n",
      "            0.90179,     0.90642,     0.90648,     0.90628,     0.90608,     0.90589,     0.90569,     0.90549,     0.90516,     0.90474,     0.90432,     0.90595,     0.90957,     0.91319,      0.9166,     0.92856,     0.92834,     0.92811,     0.92788,     0.92766,      0.9264,     0.92589,     0.92538,\n",
      "             0.9252,     0.92502,     0.92484,     0.92467,     0.92449,     0.92431,     0.92369,     0.92374,     0.92571,     0.92768,     0.92966,     0.93163,      0.9336,     0.93557,      0.9375,     0.93745,      0.9374,     0.93736,     0.93731,     0.93726,     0.93721,     0.93717,     0.93712,\n",
      "            0.93707,     0.93702,     0.93698,     0.93693,     0.93688,     0.93683,     0.93679,     0.93674,     0.93669,     0.93664,      0.9366,     0.93655,     0.93699,     0.94026,     0.94353,      0.9468,     0.95008,     0.95158,     0.95152,     0.95146,     0.95139,     0.95133,     0.95127,\n",
      "            0.95121,     0.95115,     0.95109,     0.95102,     0.95096,      0.9509,     0.95084,     0.95706,     0.96603,     0.96661,     0.96655,     0.96649,     0.96643,     0.96637,     0.96631,     0.96625,      0.9662,     0.96614,     0.96773,     0.97158,     0.97543,     0.97927,     0.98275,\n",
      "            0.98264,     0.98254,     0.98232,     0.98212,     0.98208,     0.98205,     0.98201,     0.98198,     0.98195,     0.98191,     0.98188,     0.98184,     0.98181,     0.98177,     0.98172,     0.98168,     0.98164,      0.9816,     0.98156,     0.98152,     0.98148,     0.98145,     0.98142,\n",
      "            0.98139,     0.98136,     0.98133,      0.9813,     0.98127,     0.98124,     0.98121,     0.98119,     0.98116,     0.98112,     0.98106,       0.981,     0.98093,     0.98087,     0.98081,     0.98075,     0.98068,     0.98061,     0.98054,     0.98047,      0.9804,     0.98033,     0.98025,\n",
      "            0.98017,     0.98009,     0.98001,     0.97956,     0.97925,     0.97904,     0.97887,     0.97872,     0.97869,     0.97867,     0.97864,     0.97861,     0.97859,     0.97856,     0.97853,     0.97851,     0.97848,     0.97846,     0.97843,      0.9784,     0.97838,     0.97835,     0.97832,\n",
      "             0.9783,     0.97827,     0.97823,     0.97819,     0.97815,     0.97811,     0.97807,     0.97803,     0.97799,     0.97794,      0.9779,     0.97786,     0.97782,     0.97778,     0.97761,     0.97742,     0.97716,     0.97664,      0.9764,     0.97657,     0.97911,     0.98165,     0.98419,\n",
      "            0.98673,     0.98927,     0.99181,     0.99435,     0.99689,     0.99943,           1,           1,           1,           1,           1,           1,           1,           1,           1,           1,           1,           1,           1,           1,           1,           1,           1,\n",
      "                  1,           1,           1,           1,           1,           1,           1,           1,           1,           1,           1,           1,           1,           1,           1,           1,           1,           1,           1,           1,           1,           1,           1,\n",
      "                  1,           1,           1,           1,           1,           1,           1,           1,           1,           1,           1,           1,           1,           1,           1,           1,           1,           1,           1,           1,           1,           1,           1,\n",
      "                  1,           1,           1,           1,           1,           1,           1,           1,           1,           1,           1,           1,           1,           1,           1,           1,           1,           1,           1,           1,           1,           1,           1,\n",
      "                  1,           1,           1,           1,           1,           1,           1,           1,           1,           1,           1,           1,           1,           1,           1,           1,           1,           1,           1,           1,           1,           1,           1,\n",
      "                  1,           1,           1,           1,           1,           1,           1,           1,           1,           1,           1,           1,           1,           1,           1,           1,           1,           1,           1,           1,           1,           1,           1,\n",
      "                  1,           1,           1,           1,           1,           1,           1,           1,           1,           1,           1,           1,           1,           1,           1,           1,           1,           1,           1,           1,           1,           1,           1,\n",
      "                  1,           1,           1,           1,           1,           1,           1,           1,           1,           1,           1,           1,           1,           1,           1,           1,           1,           1,           1,           1,           1,           1,           1,\n",
      "                  1,           1,           1,           1,           1,           1,           1,           1,           1,           1,           1,           1,           1,           1,           1,           1,           1,           1,           1,           1,           1,           1,           1,\n",
      "                  1,           1,           1,           1,           1,           1,           1,           1,           1,           1,           1,           1,           1,           1,           1,           1,           1,           1,           1,           1,           1,           1,           1,\n",
      "                  1,           1,           1,           1,           1,           1,           1,           1,           1,           1,           1,           1,           1,           1,           1,           1,           1,           1,           1,           1,           1,           1,           1,\n",
      "                  1,           1,           1,           1,           1,           1,           1,           1,           1,           1,           1,           1,           1,           1,           1,           1,           1,           1,           1,           1,           1,           1,           1,\n",
      "                  1,           1,           1,           1,           1,           1,           1,           1,           1,           1,           1,           1,           1,           1,           1,           1,           1,           1,           1,           1,           1,           1,           1,\n",
      "                  1,           1,           1,           1,           1,           1,           1,           1,           1,           1,           1]]), 'Confidence', 'Precision'], [array([          0,    0.001001,    0.002002,    0.003003,    0.004004,    0.005005,    0.006006,    0.007007,    0.008008,    0.009009,     0.01001,    0.011011,    0.012012,    0.013013,    0.014014,    0.015015,    0.016016,    0.017017,    0.018018,    0.019019,     0.02002,    0.021021,    0.022022,    0.023023,\n",
      "          0.024024,    0.025025,    0.026026,    0.027027,    0.028028,    0.029029,     0.03003,    0.031031,    0.032032,    0.033033,    0.034034,    0.035035,    0.036036,    0.037037,    0.038038,    0.039039,     0.04004,    0.041041,    0.042042,    0.043043,    0.044044,    0.045045,    0.046046,    0.047047,\n",
      "          0.048048,    0.049049,     0.05005,    0.051051,    0.052052,    0.053053,    0.054054,    0.055055,    0.056056,    0.057057,    0.058058,    0.059059,     0.06006,    0.061061,    0.062062,    0.063063,    0.064064,    0.065065,    0.066066,    0.067067,    0.068068,    0.069069,     0.07007,    0.071071,\n",
      "          0.072072,    0.073073,    0.074074,    0.075075,    0.076076,    0.077077,    0.078078,    0.079079,     0.08008,    0.081081,    0.082082,    0.083083,    0.084084,    0.085085,    0.086086,    0.087087,    0.088088,    0.089089,     0.09009,    0.091091,    0.092092,    0.093093,    0.094094,    0.095095,\n",
      "          0.096096,    0.097097,    0.098098,    0.099099,      0.1001,      0.1011,      0.1021,      0.1031,      0.1041,     0.10511,     0.10611,     0.10711,     0.10811,     0.10911,     0.11011,     0.11111,     0.11211,     0.11311,     0.11411,     0.11512,     0.11612,     0.11712,     0.11812,     0.11912,\n",
      "           0.12012,     0.12112,     0.12212,     0.12312,     0.12412,     0.12513,     0.12613,     0.12713,     0.12813,     0.12913,     0.13013,     0.13113,     0.13213,     0.13313,     0.13413,     0.13514,     0.13614,     0.13714,     0.13814,     0.13914,     0.14014,     0.14114,     0.14214,     0.14314,\n",
      "           0.14414,     0.14515,     0.14615,     0.14715,     0.14815,     0.14915,     0.15015,     0.15115,     0.15215,     0.15315,     0.15415,     0.15516,     0.15616,     0.15716,     0.15816,     0.15916,     0.16016,     0.16116,     0.16216,     0.16316,     0.16416,     0.16517,     0.16617,     0.16717,\n",
      "           0.16817,     0.16917,     0.17017,     0.17117,     0.17217,     0.17317,     0.17417,     0.17518,     0.17618,     0.17718,     0.17818,     0.17918,     0.18018,     0.18118,     0.18218,     0.18318,     0.18418,     0.18519,     0.18619,     0.18719,     0.18819,     0.18919,     0.19019,     0.19119,\n",
      "           0.19219,     0.19319,     0.19419,      0.1952,      0.1962,      0.1972,      0.1982,      0.1992,      0.2002,      0.2012,      0.2022,      0.2032,      0.2042,     0.20521,     0.20621,     0.20721,     0.20821,     0.20921,     0.21021,     0.21121,     0.21221,     0.21321,     0.21421,     0.21522,\n",
      "           0.21622,     0.21722,     0.21822,     0.21922,     0.22022,     0.22122,     0.22222,     0.22322,     0.22422,     0.22523,     0.22623,     0.22723,     0.22823,     0.22923,     0.23023,     0.23123,     0.23223,     0.23323,     0.23423,     0.23524,     0.23624,     0.23724,     0.23824,     0.23924,\n",
      "           0.24024,     0.24124,     0.24224,     0.24324,     0.24424,     0.24525,     0.24625,     0.24725,     0.24825,     0.24925,     0.25025,     0.25125,     0.25225,     0.25325,     0.25425,     0.25526,     0.25626,     0.25726,     0.25826,     0.25926,     0.26026,     0.26126,     0.26226,     0.26326,\n",
      "           0.26426,     0.26527,     0.26627,     0.26727,     0.26827,     0.26927,     0.27027,     0.27127,     0.27227,     0.27327,     0.27427,     0.27528,     0.27628,     0.27728,     0.27828,     0.27928,     0.28028,     0.28128,     0.28228,     0.28328,     0.28428,     0.28529,     0.28629,     0.28729,\n",
      "           0.28829,     0.28929,     0.29029,     0.29129,     0.29229,     0.29329,     0.29429,      0.2953,      0.2963,      0.2973,      0.2983,      0.2993,      0.3003,      0.3013,      0.3023,      0.3033,      0.3043,     0.30531,     0.30631,     0.30731,     0.30831,     0.30931,     0.31031,     0.31131,\n",
      "           0.31231,     0.31331,     0.31431,     0.31532,     0.31632,     0.31732,     0.31832,     0.31932,     0.32032,     0.32132,     0.32232,     0.32332,     0.32432,     0.32533,     0.32633,     0.32733,     0.32833,     0.32933,     0.33033,     0.33133,     0.33233,     0.33333,     0.33433,     0.33534,\n",
      "           0.33634,     0.33734,     0.33834,     0.33934,     0.34034,     0.34134,     0.34234,     0.34334,     0.34434,     0.34535,     0.34635,     0.34735,     0.34835,     0.34935,     0.35035,     0.35135,     0.35235,     0.35335,     0.35435,     0.35536,     0.35636,     0.35736,     0.35836,     0.35936,\n",
      "           0.36036,     0.36136,     0.36236,     0.36336,     0.36436,     0.36537,     0.36637,     0.36737,     0.36837,     0.36937,     0.37037,     0.37137,     0.37237,     0.37337,     0.37437,     0.37538,     0.37638,     0.37738,     0.37838,     0.37938,     0.38038,     0.38138,     0.38238,     0.38338,\n",
      "           0.38438,     0.38539,     0.38639,     0.38739,     0.38839,     0.38939,     0.39039,     0.39139,     0.39239,     0.39339,     0.39439,      0.3954,      0.3964,      0.3974,      0.3984,      0.3994,      0.4004,      0.4014,      0.4024,      0.4034,      0.4044,     0.40541,     0.40641,     0.40741,\n",
      "           0.40841,     0.40941,     0.41041,     0.41141,     0.41241,     0.41341,     0.41441,     0.41542,     0.41642,     0.41742,     0.41842,     0.41942,     0.42042,     0.42142,     0.42242,     0.42342,     0.42442,     0.42543,     0.42643,     0.42743,     0.42843,     0.42943,     0.43043,     0.43143,\n",
      "           0.43243,     0.43343,     0.43443,     0.43544,     0.43644,     0.43744,     0.43844,     0.43944,     0.44044,     0.44144,     0.44244,     0.44344,     0.44444,     0.44545,     0.44645,     0.44745,     0.44845,     0.44945,     0.45045,     0.45145,     0.45245,     0.45345,     0.45445,     0.45546,\n",
      "           0.45646,     0.45746,     0.45846,     0.45946,     0.46046,     0.46146,     0.46246,     0.46346,     0.46446,     0.46547,     0.46647,     0.46747,     0.46847,     0.46947,     0.47047,     0.47147,     0.47247,     0.47347,     0.47447,     0.47548,     0.47648,     0.47748,     0.47848,     0.47948,\n",
      "           0.48048,     0.48148,     0.48248,     0.48348,     0.48448,     0.48549,     0.48649,     0.48749,     0.48849,     0.48949,     0.49049,     0.49149,     0.49249,     0.49349,     0.49449,      0.4955,      0.4965,      0.4975,      0.4985,      0.4995,      0.5005,      0.5015,      0.5025,      0.5035,\n",
      "            0.5045,     0.50551,     0.50651,     0.50751,     0.50851,     0.50951,     0.51051,     0.51151,     0.51251,     0.51351,     0.51451,     0.51552,     0.51652,     0.51752,     0.51852,     0.51952,     0.52052,     0.52152,     0.52252,     0.52352,     0.52452,     0.52553,     0.52653,     0.52753,\n",
      "           0.52853,     0.52953,     0.53053,     0.53153,     0.53253,     0.53353,     0.53453,     0.53554,     0.53654,     0.53754,     0.53854,     0.53954,     0.54054,     0.54154,     0.54254,     0.54354,     0.54454,     0.54555,     0.54655,     0.54755,     0.54855,     0.54955,     0.55055,     0.55155,\n",
      "           0.55255,     0.55355,     0.55455,     0.55556,     0.55656,     0.55756,     0.55856,     0.55956,     0.56056,     0.56156,     0.56256,     0.56356,     0.56456,     0.56557,     0.56657,     0.56757,     0.56857,     0.56957,     0.57057,     0.57157,     0.57257,     0.57357,     0.57457,     0.57558,\n",
      "           0.57658,     0.57758,     0.57858,     0.57958,     0.58058,     0.58158,     0.58258,     0.58358,     0.58458,     0.58559,     0.58659,     0.58759,     0.58859,     0.58959,     0.59059,     0.59159,     0.59259,     0.59359,     0.59459,      0.5956,      0.5966,      0.5976,      0.5986,      0.5996,\n",
      "            0.6006,      0.6016,      0.6026,      0.6036,      0.6046,     0.60561,     0.60661,     0.60761,     0.60861,     0.60961,     0.61061,     0.61161,     0.61261,     0.61361,     0.61461,     0.61562,     0.61662,     0.61762,     0.61862,     0.61962,     0.62062,     0.62162,     0.62262,     0.62362,\n",
      "           0.62462,     0.62563,     0.62663,     0.62763,     0.62863,     0.62963,     0.63063,     0.63163,     0.63263,     0.63363,     0.63463,     0.63564,     0.63664,     0.63764,     0.63864,     0.63964,     0.64064,     0.64164,     0.64264,     0.64364,     0.64464,     0.64565,     0.64665,     0.64765,\n",
      "           0.64865,     0.64965,     0.65065,     0.65165,     0.65265,     0.65365,     0.65465,     0.65566,     0.65666,     0.65766,     0.65866,     0.65966,     0.66066,     0.66166,     0.66266,     0.66366,     0.66466,     0.66567,     0.66667,     0.66767,     0.66867,     0.66967,     0.67067,     0.67167,\n",
      "           0.67267,     0.67367,     0.67467,     0.67568,     0.67668,     0.67768,     0.67868,     0.67968,     0.68068,     0.68168,     0.68268,     0.68368,     0.68468,     0.68569,     0.68669,     0.68769,     0.68869,     0.68969,     0.69069,     0.69169,     0.69269,     0.69369,     0.69469,      0.6957,\n",
      "            0.6967,      0.6977,      0.6987,      0.6997,      0.7007,      0.7017,      0.7027,      0.7037,      0.7047,     0.70571,     0.70671,     0.70771,     0.70871,     0.70971,     0.71071,     0.71171,     0.71271,     0.71371,     0.71471,     0.71572,     0.71672,     0.71772,     0.71872,     0.71972,\n",
      "           0.72072,     0.72172,     0.72272,     0.72372,     0.72472,     0.72573,     0.72673,     0.72773,     0.72873,     0.72973,     0.73073,     0.73173,     0.73273,     0.73373,     0.73473,     0.73574,     0.73674,     0.73774,     0.73874,     0.73974,     0.74074,     0.74174,     0.74274,     0.74374,\n",
      "           0.74474,     0.74575,     0.74675,     0.74775,     0.74875,     0.74975,     0.75075,     0.75175,     0.75275,     0.75375,     0.75475,     0.75576,     0.75676,     0.75776,     0.75876,     0.75976,     0.76076,     0.76176,     0.76276,     0.76376,     0.76476,     0.76577,     0.76677,     0.76777,\n",
      "           0.76877,     0.76977,     0.77077,     0.77177,     0.77277,     0.77377,     0.77477,     0.77578,     0.77678,     0.77778,     0.77878,     0.77978,     0.78078,     0.78178,     0.78278,     0.78378,     0.78478,     0.78579,     0.78679,     0.78779,     0.78879,     0.78979,     0.79079,     0.79179,\n",
      "           0.79279,     0.79379,     0.79479,      0.7958,      0.7968,      0.7978,      0.7988,      0.7998,      0.8008,      0.8018,      0.8028,      0.8038,      0.8048,     0.80581,     0.80681,     0.80781,     0.80881,     0.80981,     0.81081,     0.81181,     0.81281,     0.81381,     0.81481,     0.81582,\n",
      "           0.81682,     0.81782,     0.81882,     0.81982,     0.82082,     0.82182,     0.82282,     0.82382,     0.82482,     0.82583,     0.82683,     0.82783,     0.82883,     0.82983,     0.83083,     0.83183,     0.83283,     0.83383,     0.83483,     0.83584,     0.83684,     0.83784,     0.83884,     0.83984,\n",
      "           0.84084,     0.84184,     0.84284,     0.84384,     0.84484,     0.84585,     0.84685,     0.84785,     0.84885,     0.84985,     0.85085,     0.85185,     0.85285,     0.85385,     0.85485,     0.85586,     0.85686,     0.85786,     0.85886,     0.85986,     0.86086,     0.86186,     0.86286,     0.86386,\n",
      "           0.86486,     0.86587,     0.86687,     0.86787,     0.86887,     0.86987,     0.87087,     0.87187,     0.87287,     0.87387,     0.87487,     0.87588,     0.87688,     0.87788,     0.87888,     0.87988,     0.88088,     0.88188,     0.88288,     0.88388,     0.88488,     0.88589,     0.88689,     0.88789,\n",
      "           0.88889,     0.88989,     0.89089,     0.89189,     0.89289,     0.89389,     0.89489,      0.8959,      0.8969,      0.8979,      0.8989,      0.8999,      0.9009,      0.9019,      0.9029,      0.9039,      0.9049,     0.90591,     0.90691,     0.90791,     0.90891,     0.90991,     0.91091,     0.91191,\n",
      "           0.91291,     0.91391,     0.91491,     0.91592,     0.91692,     0.91792,     0.91892,     0.91992,     0.92092,     0.92192,     0.92292,     0.92392,     0.92492,     0.92593,     0.92693,     0.92793,     0.92893,     0.92993,     0.93093,     0.93193,     0.93293,     0.93393,     0.93493,     0.93594,\n",
      "           0.93694,     0.93794,     0.93894,     0.93994,     0.94094,     0.94194,     0.94294,     0.94394,     0.94494,     0.94595,     0.94695,     0.94795,     0.94895,     0.94995,     0.95095,     0.95195,     0.95295,     0.95395,     0.95495,     0.95596,     0.95696,     0.95796,     0.95896,     0.95996,\n",
      "           0.96096,     0.96196,     0.96296,     0.96396,     0.96496,     0.96597,     0.96697,     0.96797,     0.96897,     0.96997,     0.97097,     0.97197,     0.97297,     0.97397,     0.97497,     0.97598,     0.97698,     0.97798,     0.97898,     0.97998,     0.98098,     0.98198,     0.98298,     0.98398,\n",
      "           0.98498,     0.98599,     0.98699,     0.98799,     0.98899,     0.98999,     0.99099,     0.99199,     0.99299,     0.99399,     0.99499,       0.996,       0.997,       0.998,       0.999,           1]), array([[    0.61078,     0.61078,      0.6018,      0.5988,      0.5988,     0.59581,     0.58683,     0.58683,     0.58683,     0.57784,     0.57485,     0.57485,     0.57485,     0.57485,     0.57186,     0.56886,     0.56587,     0.56587,     0.56587,     0.55988,     0.55389,     0.55389,      0.5479,\n",
      "             0.5479,      0.5479,     0.54491,     0.53293,     0.53293,     0.53293,     0.52957,     0.52695,     0.52395,     0.52395,     0.52395,     0.52096,     0.52096,     0.52096,     0.52096,     0.51796,     0.51497,     0.51198,     0.50599,     0.50299,     0.50299,     0.50299,         0.5,\n",
      "                0.5,         0.5,         0.5,     0.49424,     0.49401,     0.49401,     0.49401,     0.49102,     0.48802,     0.48802,     0.48802,     0.48802,     0.48802,     0.48516,     0.48411,     0.47904,     0.47904,     0.47904,     0.47904,     0.47904,     0.47904,     0.47506,     0.47305,\n",
      "            0.47305,     0.47305,     0.47305,     0.47305,     0.47305,     0.47006,     0.47006,     0.47006,     0.47006,     0.47006,     0.46955,     0.46707,     0.46707,     0.46707,     0.46707,     0.46108,     0.46108,     0.45982,     0.45808,     0.45747,     0.45509,     0.45509,     0.45509,\n",
      "            0.45509,      0.4491,      0.4491,      0.4491,     0.44611,     0.44611,     0.44611,     0.44611,     0.44544,      0.4443,     0.44316,     0.44311,     0.44174,     0.44012,     0.44012,     0.44012,     0.44012,     0.44012,     0.44012,     0.44012,     0.44012,     0.43943,     0.43872,\n",
      "            0.43801,     0.43731,     0.43713,     0.43413,     0.43413,     0.43413,     0.43413,     0.43413,     0.43413,     0.43413,     0.43413,     0.43413,     0.43413,     0.43413,     0.43413,     0.43413,     0.43413,     0.43413,     0.42814,     0.42642,     0.42515,     0.42216,     0.42216,\n",
      "            0.42216,     0.42216,     0.42091,     0.41916,     0.41916,     0.41844,     0.41617,     0.41617,     0.41287,     0.41117,     0.41018,     0.41018,     0.41018,     0.40692,     0.40419,     0.40419,     0.40419,     0.40305,     0.40126,     0.39956,     0.39695,     0.39244,     0.39222,\n",
      "            0.39222,     0.39222,     0.39222,     0.39222,     0.39222,     0.39222,     0.39222,     0.39222,     0.39222,     0.39222,     0.39222,      0.3922,     0.38922,     0.38922,     0.38922,     0.38922,     0.38922,     0.38922,     0.38922,     0.38922,     0.38739,     0.38323,     0.38323,\n",
      "            0.38323,     0.38323,     0.38323,     0.38104,     0.37725,     0.37725,     0.37725,     0.37725,     0.37672,     0.37529,     0.37425,     0.37363,     0.37268,     0.37173,     0.37126,     0.37126,     0.37126,     0.36949,     0.36826,     0.36826,     0.36826,     0.36826,     0.36826,\n",
      "            0.36374,     0.36228,     0.35928,     0.35928,     0.35897,     0.35715,     0.35589,     0.35513,     0.35436,      0.3536,     0.35245,     0.35104,     0.34967,     0.34837,     0.34731,     0.34731,     0.34731,     0.34731,     0.34731,     0.34731,     0.34731,     0.34731,     0.34731,\n",
      "            0.34731,     0.34731,     0.34731,     0.34731,     0.34731,     0.34731,     0.34731,     0.34731,     0.34731,     0.34442,     0.34416,     0.34348,      0.3428,     0.34211,     0.34143,     0.34132,     0.34132,     0.34132,     0.34132,     0.34132,     0.34132,     0.34132,     0.34132,\n",
      "            0.34132,     0.34132,     0.34132,     0.34084,     0.33957,      0.3383,     0.33746,     0.33662,     0.33578,     0.33533,     0.33533,      0.3349,     0.33425,      0.3336,     0.33295,     0.33032,     0.32643,     0.32412,     0.32335,     0.32335,     0.32335,     0.32335,     0.32335,\n",
      "            0.32335,     0.32335,     0.32311,     0.32276,     0.32241,     0.32206,     0.32171,     0.32136,     0.32101,     0.32066,     0.32036,     0.32036,     0.32036,     0.32036,     0.32036,     0.32036,     0.32036,     0.32036,     0.32008,     0.31933,     0.31857,     0.31782,     0.31693,\n",
      "            0.31585,     0.31478,     0.31401,     0.31343,     0.31286,     0.31228,      0.3117,     0.31138,     0.31138,     0.31138,     0.31138,     0.31138,     0.31138,     0.31138,     0.31138,     0.31138,     0.31138,     0.31018,     0.30862,     0.30838,     0.30838,     0.30838,     0.30838,\n",
      "            0.30838,     0.30838,     0.30784,     0.30593,     0.30496,     0.30437,     0.30377,     0.30318,     0.30258,      0.3023,     0.30168,     0.30106,     0.30044,     0.29982,     0.29756,     0.29578,       0.295,     0.29422,     0.29344,     0.29216,     0.29088,     0.29042,     0.29042,\n",
      "            0.29042,     0.28955,     0.28864,     0.28773,     0.28425,     0.28113,     0.27978,     0.27844,     0.27828,     0.27796,     0.27764,     0.27733,     0.27701,     0.27669,     0.27637,     0.27605,     0.27574,     0.27533,     0.27414,     0.27295,     0.27246,     0.27246,     0.27246,\n",
      "            0.27246,     0.27246,     0.27246,     0.27246,     0.27246,     0.27246,     0.27246,     0.27176,     0.27051,     0.26887,     0.26647,     0.26647,     0.26647,     0.26647,     0.26647,     0.26647,     0.26647,     0.26647,     0.26494,     0.26324,      0.2629,     0.26256,     0.26222,\n",
      "            0.26187,     0.26153,     0.26119,     0.26085,     0.26051,     0.26048,     0.26013,     0.25957,     0.25901,     0.25845,     0.25788,     0.25749,     0.25749,     0.25233,      0.2515,      0.2515,      0.2515,     0.25148,     0.25094,     0.25041,     0.24987,     0.24933,     0.24879,\n",
      "            0.24664,     0.24551,     0.24551,     0.24551,     0.24551,     0.24551,     0.24551,     0.24551,     0.24551,     0.24551,     0.24551,     0.24551,     0.24551,     0.24551,     0.24551,     0.24551,     0.24551,     0.24551,     0.24551,     0.24551,     0.24551,     0.24551,     0.24551,\n",
      "            0.24551,     0.24551,     0.24551,     0.24551,     0.24551,     0.24551,     0.24547,     0.24521,     0.24496,     0.24471,     0.24445,      0.2442,     0.24395,     0.24369,     0.24344,     0.24318,     0.24293,     0.24268,     0.24228,     0.24162,     0.24096,      0.2403,     0.23964,\n",
      "            0.23637,     0.23597,     0.23557,     0.23517,     0.23477,     0.23437,     0.23397,     0.23356,     0.23347,     0.23101,     0.23054,     0.23054,     0.23034,        0.23,     0.22966,     0.22932,     0.22898,     0.22864,      0.2283,     0.22796,     0.22762,     0.22717,     0.22669,\n",
      "            0.22621,     0.22573,     0.22525,     0.22477,      0.2243,     0.22383,     0.22336,      0.2229,     0.22243,     0.22196,     0.21855,     0.21813,      0.2177,     0.21728,     0.21685,     0.21643,       0.216,     0.21558,     0.21228,     0.21016,     0.20804,     0.20539,     0.20359,\n",
      "            0.20359,     0.20359,     0.20315,     0.20268,     0.20221,     0.20174,     0.20127,      0.2008,     0.20004,     0.19906,     0.19809,      0.1976,      0.1976,      0.1976,     0.19744,     0.19458,     0.19393,     0.19328,     0.19263,     0.19197,     0.18842,     0.18704,     0.18565,\n",
      "            0.18517,      0.1847,     0.18423,     0.18376,     0.18329,     0.18282,     0.18121,     0.17964,     0.17964,     0.17964,     0.17964,     0.17964,     0.17964,     0.17964,     0.17964,     0.17949,     0.17935,     0.17921,     0.17906,     0.17892,     0.17878,     0.17863,     0.17849,\n",
      "            0.17835,      0.1782,     0.17806,     0.17792,     0.17777,     0.17763,     0.17749,     0.17734,      0.1772,     0.17706,     0.17691,     0.17677,     0.17665,     0.17665,     0.17665,     0.17665,     0.17665,     0.17652,     0.17629,     0.17606,     0.17582,     0.17559,     0.17536,\n",
      "            0.17512,     0.17489,     0.17466,     0.17442,     0.17419,     0.17396,     0.17372,     0.17365,     0.17365,     0.17336,     0.17305,     0.17273,     0.17242,      0.1721,     0.17179,     0.17147,     0.17116,     0.17084,     0.17066,     0.17066,     0.17066,     0.17066,     0.17056,\n",
      "            0.16953,      0.1685,     0.16641,     0.16444,     0.16412,     0.16381,     0.16349,     0.16317,     0.16286,     0.16254,     0.16223,     0.16191,     0.16158,     0.16121,     0.16084,     0.16047,      0.1601,     0.15973,     0.15936,     0.15899,     0.15864,     0.15839,     0.15814,\n",
      "            0.15789,     0.15764,     0.15739,     0.15714,     0.15689,     0.15664,     0.15639,     0.15614,      0.1559,      0.1556,     0.15509,     0.15457,     0.15406,     0.15354,     0.15303,     0.15251,     0.15196,     0.15142,     0.15088,     0.15034,     0.14979,      0.1492,     0.14861,\n",
      "            0.14801,     0.14741,     0.14682,     0.14348,      0.1413,     0.13988,     0.13875,     0.13771,     0.13754,     0.13736,     0.13719,     0.13702,     0.13685,     0.13668,      0.1365,     0.13633,     0.13616,     0.13599,     0.13582,     0.13564,     0.13547,      0.1353,     0.13513,\n",
      "            0.13496,     0.13478,     0.13455,      0.1343,     0.13404,     0.13379,     0.13353,     0.13328,     0.13302,     0.13277,     0.13251,     0.13226,       0.132,     0.13175,     0.13072,     0.12964,     0.12809,     0.12519,     0.12387,     0.12275,     0.12275,     0.12275,     0.12275,\n",
      "            0.12275,     0.12275,     0.12275,     0.12275,     0.12275,     0.12275,     0.11859,     0.11658,     0.11579,     0.11499,     0.11419,     0.11308,     0.11161,        0.11,     0.10821,     0.10759,     0.10733,     0.10707,     0.10681,     0.10655,     0.10629,     0.10603,     0.10577,\n",
      "            0.10552,     0.10526,       0.105,     0.10179,     0.10142,     0.10105,     0.10068,     0.10031,    0.099945,    0.099576,    0.099207,    0.098838,     0.09839,    0.097934,    0.097477,    0.097021,    0.096565,    0.096109,    0.095315,    0.093871,    0.092528,    0.091458,    0.090388,\n",
      "            0.08967,    0.089351,    0.089031,    0.088711,    0.088392,    0.088072,    0.087753,    0.087433,    0.087113,    0.086779,    0.086319,    0.085859,    0.085398,    0.084938,    0.084478,    0.084017,    0.083229,     0.08222,    0.081211,    0.078758,    0.076881,    0.075549,    0.074488,\n",
      "           0.073726,    0.072964,    0.072202,    0.071543,    0.070968,    0.070394,     0.06982,    0.069246,      0.0687,    0.068209,    0.067719,    0.067229,    0.066739,    0.066249,    0.065804,    0.065515,    0.065227,    0.064938,    0.064649,    0.064361,    0.064072,    0.063784,    0.063495,\n",
      "           0.063206,    0.062918,    0.062211,    0.061431,     0.06065,    0.059867,    0.058905,    0.057942,    0.056979,    0.056742,    0.056583,    0.056424,    0.056265,    0.056106,    0.055947,    0.055788,    0.055629,     0.05547,    0.055311,    0.055152,    0.054993,    0.054833,    0.054674,\n",
      "           0.054515,    0.054356,    0.054197,    0.054038,    0.053864,    0.053531,    0.053198,    0.052864,    0.052531,    0.052198,    0.051864,    0.051531,    0.051198,    0.050881,     0.05071,     0.05054,    0.050369,    0.050199,    0.050029,    0.049858,    0.049688,    0.049517,    0.049347,\n",
      "           0.049176,    0.049006,    0.048835,    0.048665,    0.048495,    0.048324,    0.048154,    0.047983,     0.04757,    0.046947,    0.046324,    0.045701,    0.045078,    0.043873,    0.042452,     0.03891,    0.035705,    0.033102,     0.03247,    0.031974,    0.031478,    0.030982,    0.030486,\n",
      "           0.029989,    0.029798,    0.029641,    0.029484,    0.029326,    0.029169,    0.029012,    0.028854,    0.028697,     0.02854,    0.028382,    0.028225,    0.028068,     0.02791,    0.027753,    0.027596,    0.027438,    0.027281,    0.027124,    0.026966,    0.026523,    0.026038,    0.025554,\n",
      "           0.025069,    0.024584,    0.024099,    0.023689,     0.02331,    0.022932,    0.022554,    0.022176,    0.021798,    0.021419,    0.021041,    0.019637,    0.017961,    0.017734,    0.017506,    0.017278,     0.01705,    0.016823,    0.016595,    0.016367,    0.016139,    0.015912,    0.015684,\n",
      "           0.015456,    0.015229,    0.015001,    0.014696,    0.014379,    0.014063,    0.013746,    0.013429,    0.013113,    0.012796,    0.012479,    0.012163,    0.011913,     0.01176,    0.011608,    0.011455,    0.011302,    0.011149,    0.010996,    0.010843,     0.01069,    0.010538,    0.010385,\n",
      "           0.010232,    0.010079,   0.0099261,   0.0097733,   0.0096204,   0.0094675,   0.0093147,   0.0091618,    0.009009,   0.0084109,   0.0077176,   0.0070243,    0.006331,   0.0058836,   0.0056771,   0.0054705,   0.0052639,   0.0050573,   0.0048507,   0.0046441,   0.0044375,   0.0042309,   0.0040244,\n",
      "          0.0038178,   0.0036112,   0.0034046,    0.003198,           0,           0,           0,           0,           0,           0,           0,           0,           0,           0,           0,           0,           0,           0,           0,           0,           0,           0,           0,\n",
      "                  0,           0,           0,           0,           0,           0,           0,           0,           0,           0,           0,           0,           0,           0,           0,           0,           0,           0,           0,           0,           0,           0,           0,\n",
      "                  0,           0,           0,           0,           0,           0,           0,           0,           0,           0,           0]]), 'Confidence', 'Recall'], [array([          0,    0.001001,    0.002002,    0.003003,    0.004004,    0.005005,    0.006006,    0.007007,    0.008008,    0.009009,     0.01001,    0.011011,    0.012012,    0.013013,    0.014014,    0.015015,    0.016016,    0.017017,    0.018018,    0.019019,     0.02002,    0.021021,    0.022022,    0.023023,\n",
      "          0.024024,    0.025025,    0.026026,    0.027027,    0.028028,    0.029029,     0.03003,    0.031031,    0.032032,    0.033033,    0.034034,    0.035035,    0.036036,    0.037037,    0.038038,    0.039039,     0.04004,    0.041041,    0.042042,    0.043043,    0.044044,    0.045045,    0.046046,    0.047047,\n",
      "          0.048048,    0.049049,     0.05005,    0.051051,    0.052052,    0.053053,    0.054054,    0.055055,    0.056056,    0.057057,    0.058058,    0.059059,     0.06006,    0.061061,    0.062062,    0.063063,    0.064064,    0.065065,    0.066066,    0.067067,    0.068068,    0.069069,     0.07007,    0.071071,\n",
      "          0.072072,    0.073073,    0.074074,    0.075075,    0.076076,    0.077077,    0.078078,    0.079079,     0.08008,    0.081081,    0.082082,    0.083083,    0.084084,    0.085085,    0.086086,    0.087087,    0.088088,    0.089089,     0.09009,    0.091091,    0.092092,    0.093093,    0.094094,    0.095095,\n",
      "          0.096096,    0.097097,    0.098098,    0.099099,      0.1001,      0.1011,      0.1021,      0.1031,      0.1041,     0.10511,     0.10611,     0.10711,     0.10811,     0.10911,     0.11011,     0.11111,     0.11211,     0.11311,     0.11411,     0.11512,     0.11612,     0.11712,     0.11812,     0.11912,\n",
      "           0.12012,     0.12112,     0.12212,     0.12312,     0.12412,     0.12513,     0.12613,     0.12713,     0.12813,     0.12913,     0.13013,     0.13113,     0.13213,     0.13313,     0.13413,     0.13514,     0.13614,     0.13714,     0.13814,     0.13914,     0.14014,     0.14114,     0.14214,     0.14314,\n",
      "           0.14414,     0.14515,     0.14615,     0.14715,     0.14815,     0.14915,     0.15015,     0.15115,     0.15215,     0.15315,     0.15415,     0.15516,     0.15616,     0.15716,     0.15816,     0.15916,     0.16016,     0.16116,     0.16216,     0.16316,     0.16416,     0.16517,     0.16617,     0.16717,\n",
      "           0.16817,     0.16917,     0.17017,     0.17117,     0.17217,     0.17317,     0.17417,     0.17518,     0.17618,     0.17718,     0.17818,     0.17918,     0.18018,     0.18118,     0.18218,     0.18318,     0.18418,     0.18519,     0.18619,     0.18719,     0.18819,     0.18919,     0.19019,     0.19119,\n",
      "           0.19219,     0.19319,     0.19419,      0.1952,      0.1962,      0.1972,      0.1982,      0.1992,      0.2002,      0.2012,      0.2022,      0.2032,      0.2042,     0.20521,     0.20621,     0.20721,     0.20821,     0.20921,     0.21021,     0.21121,     0.21221,     0.21321,     0.21421,     0.21522,\n",
      "           0.21622,     0.21722,     0.21822,     0.21922,     0.22022,     0.22122,     0.22222,     0.22322,     0.22422,     0.22523,     0.22623,     0.22723,     0.22823,     0.22923,     0.23023,     0.23123,     0.23223,     0.23323,     0.23423,     0.23524,     0.23624,     0.23724,     0.23824,     0.23924,\n",
      "           0.24024,     0.24124,     0.24224,     0.24324,     0.24424,     0.24525,     0.24625,     0.24725,     0.24825,     0.24925,     0.25025,     0.25125,     0.25225,     0.25325,     0.25425,     0.25526,     0.25626,     0.25726,     0.25826,     0.25926,     0.26026,     0.26126,     0.26226,     0.26326,\n",
      "           0.26426,     0.26527,     0.26627,     0.26727,     0.26827,     0.26927,     0.27027,     0.27127,     0.27227,     0.27327,     0.27427,     0.27528,     0.27628,     0.27728,     0.27828,     0.27928,     0.28028,     0.28128,     0.28228,     0.28328,     0.28428,     0.28529,     0.28629,     0.28729,\n",
      "           0.28829,     0.28929,     0.29029,     0.29129,     0.29229,     0.29329,     0.29429,      0.2953,      0.2963,      0.2973,      0.2983,      0.2993,      0.3003,      0.3013,      0.3023,      0.3033,      0.3043,     0.30531,     0.30631,     0.30731,     0.30831,     0.30931,     0.31031,     0.31131,\n",
      "           0.31231,     0.31331,     0.31431,     0.31532,     0.31632,     0.31732,     0.31832,     0.31932,     0.32032,     0.32132,     0.32232,     0.32332,     0.32432,     0.32533,     0.32633,     0.32733,     0.32833,     0.32933,     0.33033,     0.33133,     0.33233,     0.33333,     0.33433,     0.33534,\n",
      "           0.33634,     0.33734,     0.33834,     0.33934,     0.34034,     0.34134,     0.34234,     0.34334,     0.34434,     0.34535,     0.34635,     0.34735,     0.34835,     0.34935,     0.35035,     0.35135,     0.35235,     0.35335,     0.35435,     0.35536,     0.35636,     0.35736,     0.35836,     0.35936,\n",
      "           0.36036,     0.36136,     0.36236,     0.36336,     0.36436,     0.36537,     0.36637,     0.36737,     0.36837,     0.36937,     0.37037,     0.37137,     0.37237,     0.37337,     0.37437,     0.37538,     0.37638,     0.37738,     0.37838,     0.37938,     0.38038,     0.38138,     0.38238,     0.38338,\n",
      "           0.38438,     0.38539,     0.38639,     0.38739,     0.38839,     0.38939,     0.39039,     0.39139,     0.39239,     0.39339,     0.39439,      0.3954,      0.3964,      0.3974,      0.3984,      0.3994,      0.4004,      0.4014,      0.4024,      0.4034,      0.4044,     0.40541,     0.40641,     0.40741,\n",
      "           0.40841,     0.40941,     0.41041,     0.41141,     0.41241,     0.41341,     0.41441,     0.41542,     0.41642,     0.41742,     0.41842,     0.41942,     0.42042,     0.42142,     0.42242,     0.42342,     0.42442,     0.42543,     0.42643,     0.42743,     0.42843,     0.42943,     0.43043,     0.43143,\n",
      "           0.43243,     0.43343,     0.43443,     0.43544,     0.43644,     0.43744,     0.43844,     0.43944,     0.44044,     0.44144,     0.44244,     0.44344,     0.44444,     0.44545,     0.44645,     0.44745,     0.44845,     0.44945,     0.45045,     0.45145,     0.45245,     0.45345,     0.45445,     0.45546,\n",
      "           0.45646,     0.45746,     0.45846,     0.45946,     0.46046,     0.46146,     0.46246,     0.46346,     0.46446,     0.46547,     0.46647,     0.46747,     0.46847,     0.46947,     0.47047,     0.47147,     0.47247,     0.47347,     0.47447,     0.47548,     0.47648,     0.47748,     0.47848,     0.47948,\n",
      "           0.48048,     0.48148,     0.48248,     0.48348,     0.48448,     0.48549,     0.48649,     0.48749,     0.48849,     0.48949,     0.49049,     0.49149,     0.49249,     0.49349,     0.49449,      0.4955,      0.4965,      0.4975,      0.4985,      0.4995,      0.5005,      0.5015,      0.5025,      0.5035,\n",
      "            0.5045,     0.50551,     0.50651,     0.50751,     0.50851,     0.50951,     0.51051,     0.51151,     0.51251,     0.51351,     0.51451,     0.51552,     0.51652,     0.51752,     0.51852,     0.51952,     0.52052,     0.52152,     0.52252,     0.52352,     0.52452,     0.52553,     0.52653,     0.52753,\n",
      "           0.52853,     0.52953,     0.53053,     0.53153,     0.53253,     0.53353,     0.53453,     0.53554,     0.53654,     0.53754,     0.53854,     0.53954,     0.54054,     0.54154,     0.54254,     0.54354,     0.54454,     0.54555,     0.54655,     0.54755,     0.54855,     0.54955,     0.55055,     0.55155,\n",
      "           0.55255,     0.55355,     0.55455,     0.55556,     0.55656,     0.55756,     0.55856,     0.55956,     0.56056,     0.56156,     0.56256,     0.56356,     0.56456,     0.56557,     0.56657,     0.56757,     0.56857,     0.56957,     0.57057,     0.57157,     0.57257,     0.57357,     0.57457,     0.57558,\n",
      "           0.57658,     0.57758,     0.57858,     0.57958,     0.58058,     0.58158,     0.58258,     0.58358,     0.58458,     0.58559,     0.58659,     0.58759,     0.58859,     0.58959,     0.59059,     0.59159,     0.59259,     0.59359,     0.59459,      0.5956,      0.5966,      0.5976,      0.5986,      0.5996,\n",
      "            0.6006,      0.6016,      0.6026,      0.6036,      0.6046,     0.60561,     0.60661,     0.60761,     0.60861,     0.60961,     0.61061,     0.61161,     0.61261,     0.61361,     0.61461,     0.61562,     0.61662,     0.61762,     0.61862,     0.61962,     0.62062,     0.62162,     0.62262,     0.62362,\n",
      "           0.62462,     0.62563,     0.62663,     0.62763,     0.62863,     0.62963,     0.63063,     0.63163,     0.63263,     0.63363,     0.63463,     0.63564,     0.63664,     0.63764,     0.63864,     0.63964,     0.64064,     0.64164,     0.64264,     0.64364,     0.64464,     0.64565,     0.64665,     0.64765,\n",
      "           0.64865,     0.64965,     0.65065,     0.65165,     0.65265,     0.65365,     0.65465,     0.65566,     0.65666,     0.65766,     0.65866,     0.65966,     0.66066,     0.66166,     0.66266,     0.66366,     0.66466,     0.66567,     0.66667,     0.66767,     0.66867,     0.66967,     0.67067,     0.67167,\n",
      "           0.67267,     0.67367,     0.67467,     0.67568,     0.67668,     0.67768,     0.67868,     0.67968,     0.68068,     0.68168,     0.68268,     0.68368,     0.68468,     0.68569,     0.68669,     0.68769,     0.68869,     0.68969,     0.69069,     0.69169,     0.69269,     0.69369,     0.69469,      0.6957,\n",
      "            0.6967,      0.6977,      0.6987,      0.6997,      0.7007,      0.7017,      0.7027,      0.7037,      0.7047,     0.70571,     0.70671,     0.70771,     0.70871,     0.70971,     0.71071,     0.71171,     0.71271,     0.71371,     0.71471,     0.71572,     0.71672,     0.71772,     0.71872,     0.71972,\n",
      "           0.72072,     0.72172,     0.72272,     0.72372,     0.72472,     0.72573,     0.72673,     0.72773,     0.72873,     0.72973,     0.73073,     0.73173,     0.73273,     0.73373,     0.73473,     0.73574,     0.73674,     0.73774,     0.73874,     0.73974,     0.74074,     0.74174,     0.74274,     0.74374,\n",
      "           0.74474,     0.74575,     0.74675,     0.74775,     0.74875,     0.74975,     0.75075,     0.75175,     0.75275,     0.75375,     0.75475,     0.75576,     0.75676,     0.75776,     0.75876,     0.75976,     0.76076,     0.76176,     0.76276,     0.76376,     0.76476,     0.76577,     0.76677,     0.76777,\n",
      "           0.76877,     0.76977,     0.77077,     0.77177,     0.77277,     0.77377,     0.77477,     0.77578,     0.77678,     0.77778,     0.77878,     0.77978,     0.78078,     0.78178,     0.78278,     0.78378,     0.78478,     0.78579,     0.78679,     0.78779,     0.78879,     0.78979,     0.79079,     0.79179,\n",
      "           0.79279,     0.79379,     0.79479,      0.7958,      0.7968,      0.7978,      0.7988,      0.7998,      0.8008,      0.8018,      0.8028,      0.8038,      0.8048,     0.80581,     0.80681,     0.80781,     0.80881,     0.80981,     0.81081,     0.81181,     0.81281,     0.81381,     0.81481,     0.81582,\n",
      "           0.81682,     0.81782,     0.81882,     0.81982,     0.82082,     0.82182,     0.82282,     0.82382,     0.82482,     0.82583,     0.82683,     0.82783,     0.82883,     0.82983,     0.83083,     0.83183,     0.83283,     0.83383,     0.83483,     0.83584,     0.83684,     0.83784,     0.83884,     0.83984,\n",
      "           0.84084,     0.84184,     0.84284,     0.84384,     0.84484,     0.84585,     0.84685,     0.84785,     0.84885,     0.84985,     0.85085,     0.85185,     0.85285,     0.85385,     0.85485,     0.85586,     0.85686,     0.85786,     0.85886,     0.85986,     0.86086,     0.86186,     0.86286,     0.86386,\n",
      "           0.86486,     0.86587,     0.86687,     0.86787,     0.86887,     0.86987,     0.87087,     0.87187,     0.87287,     0.87387,     0.87487,     0.87588,     0.87688,     0.87788,     0.87888,     0.87988,     0.88088,     0.88188,     0.88288,     0.88388,     0.88488,     0.88589,     0.88689,     0.88789,\n",
      "           0.88889,     0.88989,     0.89089,     0.89189,     0.89289,     0.89389,     0.89489,      0.8959,      0.8969,      0.8979,      0.8989,      0.8999,      0.9009,      0.9019,      0.9029,      0.9039,      0.9049,     0.90591,     0.90691,     0.90791,     0.90891,     0.90991,     0.91091,     0.91191,\n",
      "           0.91291,     0.91391,     0.91491,     0.91592,     0.91692,     0.91792,     0.91892,     0.91992,     0.92092,     0.92192,     0.92292,     0.92392,     0.92492,     0.92593,     0.92693,     0.92793,     0.92893,     0.92993,     0.93093,     0.93193,     0.93293,     0.93393,     0.93493,     0.93594,\n",
      "           0.93694,     0.93794,     0.93894,     0.93994,     0.94094,     0.94194,     0.94294,     0.94394,     0.94494,     0.94595,     0.94695,     0.94795,     0.94895,     0.94995,     0.95095,     0.95195,     0.95295,     0.95395,     0.95495,     0.95596,     0.95696,     0.95796,     0.95896,     0.95996,\n",
      "           0.96096,     0.96196,     0.96296,     0.96396,     0.96496,     0.96597,     0.96697,     0.96797,     0.96897,     0.96997,     0.97097,     0.97197,     0.97297,     0.97397,     0.97497,     0.97598,     0.97698,     0.97798,     0.97898,     0.97998,     0.98098,     0.98198,     0.98298,     0.98398,\n",
      "           0.98498,     0.98599,     0.98699,     0.98799,     0.98899,     0.98999,     0.99099,     0.99199,     0.99299,     0.99399,     0.99499,       0.996,       0.997,       0.998,       0.999,           1]), array([[          1,           1,           1,           1,           1,           1,           1,           1,           1,           1,           1,           1,           1,           1,           1,           1,           1,           1,           1,           1,           1,           1,           1,\n",
      "                  1,           1,           1,           1,        0.95,        0.95,        0.95,        0.95,        0.95,        0.95,        0.95,        0.95,        0.95,        0.95,        0.95,        0.95,        0.95,        0.95,        0.95,        0.95,        0.95,        0.95,        0.95,\n",
      "               0.95,        0.95,        0.95,        0.95,        0.95,        0.95,        0.95,        0.95,        0.95,        0.95,        0.95,     0.91667,     0.91667,     0.91667,     0.91667,     0.91667,     0.91667,     0.91667,     0.91667,     0.91667,     0.88462,     0.88462,     0.88462,\n",
      "            0.85714,     0.85714,     0.85714,     0.85366,     0.85366,     0.85366,     0.85366,     0.85366,     0.85366,     0.85366,     0.85366,     0.85366,     0.85366,     0.85366,     0.85366,     0.85366,     0.85366,     0.85366,     0.85366,     0.85366,     0.85366,     0.85366,     0.85366,\n",
      "            0.85366,     0.85366,     0.85366,     0.85366,     0.85366,     0.85366,     0.85366,     0.85366,     0.85366,     0.85366,     0.85366,     0.85366,     0.85366,     0.81818,     0.81818,     0.81818,     0.81818,     0.81818,     0.81818,     0.81818,     0.81818,     0.81818,     0.81818,\n",
      "            0.81818,     0.81818,     0.81818,     0.81818,     0.81818,     0.81818,     0.81818,     0.81818,     0.81818,     0.81818,     0.81818,     0.81818,     0.81818,     0.81818,     0.81818,     0.81818,     0.81818,     0.81818,     0.81818,     0.81818,     0.80702,     0.80702,     0.80702,\n",
      "            0.78333,     0.78333,     0.78333,     0.77778,     0.77778,     0.77778,     0.77778,     0.77778,     0.77778,     0.76923,     0.76923,     0.76923,     0.75362,     0.75362,     0.75362,     0.75362,     0.75362,     0.75362,        0.75,        0.75,        0.75,        0.75,        0.75,\n",
      "               0.75,     0.71429,     0.71429,     0.71429,     0.70886,     0.70886,     0.70886,      0.7037,      0.7037,      0.7037,     0.64444,     0.64444,     0.64444,     0.60204,     0.60204,     0.60204,     0.59223,     0.59223,     0.59223,     0.59223,     0.59223,     0.59223,     0.58333,\n",
      "            0.58333,     0.58333,     0.58333,     0.58333,     0.58333,     0.58182,     0.58182,     0.58182,     0.56489,     0.56489,     0.56489,     0.56489,     0.56489,     0.56489,     0.56489,     0.56489,     0.56489,     0.56489,     0.56489,     0.56489,     0.56489,     0.56489,     0.56489,\n",
      "            0.56489,     0.56489,     0.56489,     0.56489,     0.56489,     0.56489,     0.56489,     0.56489,     0.56489,     0.56489,     0.56489,     0.56489,     0.56489,     0.56489,     0.56489,      0.5597,      0.5597,      0.5597,     0.55882,     0.55882,     0.55882,     0.55797,     0.55797,\n",
      "            0.55797,     0.55714,     0.55714,     0.55714,      0.5411,      0.5411,      0.5411,     0.53333,     0.53333,     0.53333,     0.51266,     0.51266,     0.51266,     0.50307,     0.50307,     0.50307,     0.48571,     0.48571,     0.48571,     0.48571,     0.48571,     0.48571,     0.48571,\n",
      "            0.48571,     0.48571,     0.47778,     0.47778,     0.47778,     0.47283,     0.47283,     0.47283,     0.47059,     0.47059,     0.47059,     0.45876,     0.45876,     0.45876,     0.44118,     0.44118,     0.44118,     0.43961,     0.43961,     0.43961,      0.4381,      0.4381,      0.4381,\n",
      "            0.43458,     0.43458,     0.43458,     0.43318,     0.43318,     0.43318,     0.43243,     0.43243,     0.43243,     0.43243,     0.43243,     0.43243,      0.4292,      0.4292,      0.4292,     0.42609,     0.42609,     0.42609,     0.42128,     0.42128,     0.42128,     0.42017,     0.42017,\n",
      "            0.42017,     0.41564,     0.41564,     0.41564,     0.41463,     0.41463,     0.41463,     0.40711,     0.40711,     0.40711,         0.4,         0.4,         0.4,     0.39179,     0.39179,     0.39179,     0.38989,     0.38989,     0.38989,     0.38989,     0.38989,     0.38989,     0.38989,\n",
      "            0.38989,     0.38989,     0.38947,     0.38947,     0.38947,     0.38947,     0.38947,     0.38947,     0.38947,     0.38947,     0.38947,     0.38754,     0.38754,     0.37377,     0.37377,     0.37377,     0.37377,     0.37377,     0.37377,     0.36957,     0.36957,     0.36957,     0.36957,\n",
      "            0.36957,     0.36957,     0.36957,     0.36957,     0.36957,     0.36957,     0.36957,     0.36957,     0.36957,     0.36957,     0.36957,     0.36474,     0.36474,     0.36474,     0.35143,     0.35143,     0.35143,     0.35143,     0.35143,     0.35143,     0.35143,     0.35143,     0.35143,\n",
      "            0.35127,     0.35127,     0.35127,     0.34916,     0.34916,     0.34916,     0.34127,     0.34127,     0.34127,     0.34127,     0.34127,     0.34127,     0.34127,     0.34127,     0.34127,     0.34127,     0.34127,     0.34127,     0.33503,     0.33503,     0.33503,     0.33503,     0.33503,\n",
      "            0.33503,     0.33503,     0.33503,     0.33503,      0.3253,      0.3253,      0.3253,      0.3253,      0.3253,      0.3253,      0.3253,      0.3253,      0.3253,     0.32304,     0.32304,     0.32304,     0.32084,     0.32084,     0.32084,     0.31579,     0.31579,     0.31579,     0.30752,\n",
      "            0.30752,     0.30752,     0.30501,     0.30501,     0.30501,      0.2956,      0.2956,      0.2956,     0.28571,     0.28571,     0.28571,     0.28431,     0.28431,     0.28431,     0.28431,     0.28431,     0.28431,     0.28431,     0.28431,     0.28431,     0.28405,     0.28405,     0.28405,\n",
      "             0.2739,      0.2739,      0.2739,      0.2739,      0.2739,      0.2739,      0.2739,      0.2739,      0.2739,      0.2669,      0.2669,      0.2669,     0.26435,     0.26435,     0.26435,     0.26435,     0.26435,     0.26435,     0.24363,     0.24363,     0.24363,       0.241,       0.241,\n",
      "              0.241,      0.2378,      0.2378,      0.2378,      0.2378,      0.2378,      0.2378,     0.23328,     0.23328,     0.23328,     0.23201,     0.23201,     0.23201,     0.23144,     0.23144,     0.23144,     0.21419,     0.21419,     0.21419,     0.21296,     0.21296,     0.21296,     0.20174,\n",
      "            0.20174,     0.20174,     0.19782,     0.19782,     0.19782,     0.19294,     0.19294,     0.19294,     0.19009,     0.19009,     0.19009,     0.18907,     0.18907,     0.18907,     0.18883,     0.18883,     0.18883,     0.18883,     0.18883,     0.18883,     0.18883,     0.18883,     0.18883,\n",
      "            0.18868,     0.18868,     0.18868,     0.18534,     0.18534,     0.18534,     0.18534,     0.18534,     0.18534,     0.18449,     0.18449,     0.18449,     0.18449,     0.18449,     0.18449,     0.18449,     0.18449,     0.18449,     0.18449,     0.18449,     0.18449,     0.17897,     0.17897,\n",
      "            0.17897,     0.17589,     0.17589,     0.17589,     0.17212,     0.17212,     0.17212,     0.16965,     0.16965,     0.16965,     0.16682,     0.16682,     0.16682,     0.16207,     0.16207,     0.16207,     0.15983,     0.15983,     0.15983,     0.15397,     0.15397,     0.15397,     0.14636,\n",
      "            0.14636,     0.14636,     0.14231,     0.14231,     0.14231,       0.136,       0.136,       0.136,     0.13535,     0.13535,     0.13535,     0.12674,     0.12645,     0.12616,     0.12587,     0.12558,     0.12529,       0.125,     0.12471,     0.12442,     0.12412,     0.12383,     0.12354,\n",
      "            0.12325,     0.12296,     0.12267,     0.12238,     0.12209,      0.1218,     0.12151,     0.12122,     0.12093,     0.12064,     0.12035,     0.12006,     0.11976,     0.11947,     0.11918,     0.11889,      0.1186,     0.11831,     0.11802,     0.11773,     0.11744,     0.11715,     0.11686,\n",
      "            0.11657,     0.11628,     0.11599,     0.11569,      0.1154,     0.11511,     0.11482,     0.11453,     0.11424,     0.11395,     0.11366,     0.11337,     0.11308,     0.11279,      0.1125,     0.11221,     0.11192,     0.11163,     0.11133,     0.11104,     0.11075,     0.11046,     0.11017,\n",
      "            0.10988,     0.10959,      0.1093,     0.10901,     0.10872,     0.10843,     0.10814,     0.10785,     0.10756,     0.10726,     0.10697,     0.10668,     0.10639,      0.1061,     0.10581,     0.10552,     0.10523,     0.10494,     0.10465,     0.10436,     0.10407,     0.10378,     0.10349,\n",
      "             0.1032,      0.1029,     0.10261,     0.10232,     0.10203,     0.10174,     0.10145,     0.10116,     0.10087,     0.10058,     0.10029,    0.099998,    0.099707,    0.099416,    0.099125,    0.098835,    0.098544,    0.098253,    0.097963,    0.097672,    0.097381,    0.097091,      0.0968,\n",
      "           0.096509,    0.096219,    0.095928,    0.095637,    0.095347,    0.095056,    0.094765,    0.094474,    0.094184,    0.093893,    0.093602,    0.093312,    0.093021,     0.09273,     0.09244,    0.092149,    0.091858,    0.091568,    0.091277,    0.090986,    0.090695,    0.090405,    0.090114,\n",
      "           0.089823,    0.089533,    0.089242,    0.088951,    0.088661,     0.08837,    0.088079,    0.087789,    0.087498,    0.087207,    0.086916,    0.086626,    0.086335,    0.086044,    0.085754,    0.085463,    0.085172,    0.084882,    0.084591,      0.0843,     0.08401,    0.083719,    0.083428,\n",
      "           0.083137,    0.082847,    0.082556,    0.082265,    0.081975,    0.081684,    0.081393,    0.081103,    0.080812,    0.080521,    0.080231,     0.07994,    0.079649,    0.079359,    0.079068,    0.078777,    0.078486,    0.078196,    0.077905,    0.077614,    0.077324,    0.077033,    0.076742,\n",
      "           0.076452,    0.076161,     0.07587,     0.07558,    0.075289,    0.074998,    0.074707,    0.074417,    0.074126,    0.073835,    0.073545,    0.073254,    0.072963,    0.072673,    0.072382,    0.072091,    0.071801,     0.07151,    0.071219,    0.070928,    0.070638,    0.070347,    0.070056,\n",
      "           0.069766,    0.069475,    0.069184,    0.068894,    0.068603,    0.068312,    0.068022,    0.067731,     0.06744,     0.06715,    0.066859,    0.066568,    0.066277,    0.065987,    0.065696,    0.065405,    0.065115,    0.064824,    0.064533,    0.064243,    0.063952,    0.063661,    0.063371,\n",
      "            0.06308,    0.062789,    0.062498,    0.062208,    0.061917,    0.061626,    0.061336,    0.061045,    0.060754,    0.060464,    0.060173,    0.059882,    0.059592,    0.059301,     0.05901,    0.058719,    0.058429,    0.058138,    0.057847,    0.057557,    0.057266,    0.056975,    0.056685,\n",
      "           0.056394,    0.056103,    0.055813,    0.055522,    0.055231,    0.054941,     0.05465,    0.054359,    0.054068,    0.053778,    0.053487,    0.053196,    0.052906,    0.052615,    0.052324,    0.052034,    0.051743,    0.051452,    0.051162,    0.050871,     0.05058,    0.050289,    0.049999,\n",
      "           0.049708,    0.049417,    0.049127,    0.048836,    0.048545,    0.048255,    0.047964,    0.047673,    0.047383,    0.047092,    0.046801,     0.04651,     0.04622,    0.045929,    0.045638,    0.045348,    0.045057,    0.044766,    0.044476,    0.044185,    0.043894,    0.043604,    0.043313,\n",
      "           0.043022,    0.042732,    0.042441,     0.04215,    0.041859,    0.041569,    0.041278,    0.040987,    0.040697,    0.040406,    0.040115,    0.039825,    0.039534,    0.039243,    0.038953,    0.038662,    0.038371,     0.03808,     0.03779,    0.037499,    0.037208,    0.036918,    0.036627,\n",
      "           0.036336,    0.036046,    0.035755,    0.035464,    0.035174,    0.034883,    0.034592,    0.034301,    0.034011,     0.03372,    0.033429,    0.033139,    0.032848,    0.032557,    0.032267,    0.031976,    0.031685,    0.031395,    0.031104,    0.030813,    0.030523,    0.030232,    0.029941,\n",
      "            0.02965,     0.02936,    0.029069,    0.028778,    0.028488,    0.028197,    0.027906,    0.027616,    0.027325,    0.027034,    0.026744,    0.026453,    0.026162,    0.025871,    0.025581,     0.02529,    0.024999,    0.024709,    0.024418,    0.024127,    0.023837,    0.023546,    0.023255,\n",
      "           0.022965,    0.022674,    0.022383,    0.022092,    0.021802,    0.021511,     0.02122,     0.02093,    0.020639,    0.020348,    0.020058,    0.019767,    0.019476,    0.019186,    0.018895,    0.018604,    0.018314,    0.018023,    0.017732,    0.017441,    0.017151,     0.01686,    0.016569,\n",
      "           0.016279,    0.015988,    0.015697,    0.015407,    0.015116,    0.014825,    0.014535,    0.014244,    0.013953,    0.013662,    0.013372,    0.013081,     0.01279,      0.0125,    0.012209,    0.011918,    0.011628,    0.011337,    0.011046,    0.010756,    0.010465,    0.010174,   0.0098835,\n",
      "          0.0095928,   0.0093021,   0.0090114,   0.0087207,     0.00843,   0.0081393,   0.0078486,    0.007558,   0.0072673,   0.0069766,   0.0066859,   0.0063952,   0.0061045,   0.0058138,   0.0055231,   0.0052324,   0.0049417,    0.004651,   0.0043604,   0.0040697,    0.003779,   0.0034883,   0.0031976,\n",
      "          0.0029069,   0.0026162,   0.0023255,   0.0020348,   0.0017441,   0.0014535,   0.0011628,  0.00087207,  0.00058138,  0.00029069,           0]]), 'Recall', 'Precision'], [array([          0,    0.001001,    0.002002,    0.003003,    0.004004,    0.005005,    0.006006,    0.007007,    0.008008,    0.009009,     0.01001,    0.011011,    0.012012,    0.013013,    0.014014,    0.015015,    0.016016,    0.017017,    0.018018,    0.019019,     0.02002,    0.021021,    0.022022,    0.023023,\n",
      "          0.024024,    0.025025,    0.026026,    0.027027,    0.028028,    0.029029,     0.03003,    0.031031,    0.032032,    0.033033,    0.034034,    0.035035,    0.036036,    0.037037,    0.038038,    0.039039,     0.04004,    0.041041,    0.042042,    0.043043,    0.044044,    0.045045,    0.046046,    0.047047,\n",
      "          0.048048,    0.049049,     0.05005,    0.051051,    0.052052,    0.053053,    0.054054,    0.055055,    0.056056,    0.057057,    0.058058,    0.059059,     0.06006,    0.061061,    0.062062,    0.063063,    0.064064,    0.065065,    0.066066,    0.067067,    0.068068,    0.069069,     0.07007,    0.071071,\n",
      "          0.072072,    0.073073,    0.074074,    0.075075,    0.076076,    0.077077,    0.078078,    0.079079,     0.08008,    0.081081,    0.082082,    0.083083,    0.084084,    0.085085,    0.086086,    0.087087,    0.088088,    0.089089,     0.09009,    0.091091,    0.092092,    0.093093,    0.094094,    0.095095,\n",
      "          0.096096,    0.097097,    0.098098,    0.099099,      0.1001,      0.1011,      0.1021,      0.1031,      0.1041,     0.10511,     0.10611,     0.10711,     0.10811,     0.10911,     0.11011,     0.11111,     0.11211,     0.11311,     0.11411,     0.11512,     0.11612,     0.11712,     0.11812,     0.11912,\n",
      "           0.12012,     0.12112,     0.12212,     0.12312,     0.12412,     0.12513,     0.12613,     0.12713,     0.12813,     0.12913,     0.13013,     0.13113,     0.13213,     0.13313,     0.13413,     0.13514,     0.13614,     0.13714,     0.13814,     0.13914,     0.14014,     0.14114,     0.14214,     0.14314,\n",
      "           0.14414,     0.14515,     0.14615,     0.14715,     0.14815,     0.14915,     0.15015,     0.15115,     0.15215,     0.15315,     0.15415,     0.15516,     0.15616,     0.15716,     0.15816,     0.15916,     0.16016,     0.16116,     0.16216,     0.16316,     0.16416,     0.16517,     0.16617,     0.16717,\n",
      "           0.16817,     0.16917,     0.17017,     0.17117,     0.17217,     0.17317,     0.17417,     0.17518,     0.17618,     0.17718,     0.17818,     0.17918,     0.18018,     0.18118,     0.18218,     0.18318,     0.18418,     0.18519,     0.18619,     0.18719,     0.18819,     0.18919,     0.19019,     0.19119,\n",
      "           0.19219,     0.19319,     0.19419,      0.1952,      0.1962,      0.1972,      0.1982,      0.1992,      0.2002,      0.2012,      0.2022,      0.2032,      0.2042,     0.20521,     0.20621,     0.20721,     0.20821,     0.20921,     0.21021,     0.21121,     0.21221,     0.21321,     0.21421,     0.21522,\n",
      "           0.21622,     0.21722,     0.21822,     0.21922,     0.22022,     0.22122,     0.22222,     0.22322,     0.22422,     0.22523,     0.22623,     0.22723,     0.22823,     0.22923,     0.23023,     0.23123,     0.23223,     0.23323,     0.23423,     0.23524,     0.23624,     0.23724,     0.23824,     0.23924,\n",
      "           0.24024,     0.24124,     0.24224,     0.24324,     0.24424,     0.24525,     0.24625,     0.24725,     0.24825,     0.24925,     0.25025,     0.25125,     0.25225,     0.25325,     0.25425,     0.25526,     0.25626,     0.25726,     0.25826,     0.25926,     0.26026,     0.26126,     0.26226,     0.26326,\n",
      "           0.26426,     0.26527,     0.26627,     0.26727,     0.26827,     0.26927,     0.27027,     0.27127,     0.27227,     0.27327,     0.27427,     0.27528,     0.27628,     0.27728,     0.27828,     0.27928,     0.28028,     0.28128,     0.28228,     0.28328,     0.28428,     0.28529,     0.28629,     0.28729,\n",
      "           0.28829,     0.28929,     0.29029,     0.29129,     0.29229,     0.29329,     0.29429,      0.2953,      0.2963,      0.2973,      0.2983,      0.2993,      0.3003,      0.3013,      0.3023,      0.3033,      0.3043,     0.30531,     0.30631,     0.30731,     0.30831,     0.30931,     0.31031,     0.31131,\n",
      "           0.31231,     0.31331,     0.31431,     0.31532,     0.31632,     0.31732,     0.31832,     0.31932,     0.32032,     0.32132,     0.32232,     0.32332,     0.32432,     0.32533,     0.32633,     0.32733,     0.32833,     0.32933,     0.33033,     0.33133,     0.33233,     0.33333,     0.33433,     0.33534,\n",
      "           0.33634,     0.33734,     0.33834,     0.33934,     0.34034,     0.34134,     0.34234,     0.34334,     0.34434,     0.34535,     0.34635,     0.34735,     0.34835,     0.34935,     0.35035,     0.35135,     0.35235,     0.35335,     0.35435,     0.35536,     0.35636,     0.35736,     0.35836,     0.35936,\n",
      "           0.36036,     0.36136,     0.36236,     0.36336,     0.36436,     0.36537,     0.36637,     0.36737,     0.36837,     0.36937,     0.37037,     0.37137,     0.37237,     0.37337,     0.37437,     0.37538,     0.37638,     0.37738,     0.37838,     0.37938,     0.38038,     0.38138,     0.38238,     0.38338,\n",
      "           0.38438,     0.38539,     0.38639,     0.38739,     0.38839,     0.38939,     0.39039,     0.39139,     0.39239,     0.39339,     0.39439,      0.3954,      0.3964,      0.3974,      0.3984,      0.3994,      0.4004,      0.4014,      0.4024,      0.4034,      0.4044,     0.40541,     0.40641,     0.40741,\n",
      "           0.40841,     0.40941,     0.41041,     0.41141,     0.41241,     0.41341,     0.41441,     0.41542,     0.41642,     0.41742,     0.41842,     0.41942,     0.42042,     0.42142,     0.42242,     0.42342,     0.42442,     0.42543,     0.42643,     0.42743,     0.42843,     0.42943,     0.43043,     0.43143,\n",
      "           0.43243,     0.43343,     0.43443,     0.43544,     0.43644,     0.43744,     0.43844,     0.43944,     0.44044,     0.44144,     0.44244,     0.44344,     0.44444,     0.44545,     0.44645,     0.44745,     0.44845,     0.44945,     0.45045,     0.45145,     0.45245,     0.45345,     0.45445,     0.45546,\n",
      "           0.45646,     0.45746,     0.45846,     0.45946,     0.46046,     0.46146,     0.46246,     0.46346,     0.46446,     0.46547,     0.46647,     0.46747,     0.46847,     0.46947,     0.47047,     0.47147,     0.47247,     0.47347,     0.47447,     0.47548,     0.47648,     0.47748,     0.47848,     0.47948,\n",
      "           0.48048,     0.48148,     0.48248,     0.48348,     0.48448,     0.48549,     0.48649,     0.48749,     0.48849,     0.48949,     0.49049,     0.49149,     0.49249,     0.49349,     0.49449,      0.4955,      0.4965,      0.4975,      0.4985,      0.4995,      0.5005,      0.5015,      0.5025,      0.5035,\n",
      "            0.5045,     0.50551,     0.50651,     0.50751,     0.50851,     0.50951,     0.51051,     0.51151,     0.51251,     0.51351,     0.51451,     0.51552,     0.51652,     0.51752,     0.51852,     0.51952,     0.52052,     0.52152,     0.52252,     0.52352,     0.52452,     0.52553,     0.52653,     0.52753,\n",
      "           0.52853,     0.52953,     0.53053,     0.53153,     0.53253,     0.53353,     0.53453,     0.53554,     0.53654,     0.53754,     0.53854,     0.53954,     0.54054,     0.54154,     0.54254,     0.54354,     0.54454,     0.54555,     0.54655,     0.54755,     0.54855,     0.54955,     0.55055,     0.55155,\n",
      "           0.55255,     0.55355,     0.55455,     0.55556,     0.55656,     0.55756,     0.55856,     0.55956,     0.56056,     0.56156,     0.56256,     0.56356,     0.56456,     0.56557,     0.56657,     0.56757,     0.56857,     0.56957,     0.57057,     0.57157,     0.57257,     0.57357,     0.57457,     0.57558,\n",
      "           0.57658,     0.57758,     0.57858,     0.57958,     0.58058,     0.58158,     0.58258,     0.58358,     0.58458,     0.58559,     0.58659,     0.58759,     0.58859,     0.58959,     0.59059,     0.59159,     0.59259,     0.59359,     0.59459,      0.5956,      0.5966,      0.5976,      0.5986,      0.5996,\n",
      "            0.6006,      0.6016,      0.6026,      0.6036,      0.6046,     0.60561,     0.60661,     0.60761,     0.60861,     0.60961,     0.61061,     0.61161,     0.61261,     0.61361,     0.61461,     0.61562,     0.61662,     0.61762,     0.61862,     0.61962,     0.62062,     0.62162,     0.62262,     0.62362,\n",
      "           0.62462,     0.62563,     0.62663,     0.62763,     0.62863,     0.62963,     0.63063,     0.63163,     0.63263,     0.63363,     0.63463,     0.63564,     0.63664,     0.63764,     0.63864,     0.63964,     0.64064,     0.64164,     0.64264,     0.64364,     0.64464,     0.64565,     0.64665,     0.64765,\n",
      "           0.64865,     0.64965,     0.65065,     0.65165,     0.65265,     0.65365,     0.65465,     0.65566,     0.65666,     0.65766,     0.65866,     0.65966,     0.66066,     0.66166,     0.66266,     0.66366,     0.66466,     0.66567,     0.66667,     0.66767,     0.66867,     0.66967,     0.67067,     0.67167,\n",
      "           0.67267,     0.67367,     0.67467,     0.67568,     0.67668,     0.67768,     0.67868,     0.67968,     0.68068,     0.68168,     0.68268,     0.68368,     0.68468,     0.68569,     0.68669,     0.68769,     0.68869,     0.68969,     0.69069,     0.69169,     0.69269,     0.69369,     0.69469,      0.6957,\n",
      "            0.6967,      0.6977,      0.6987,      0.6997,      0.7007,      0.7017,      0.7027,      0.7037,      0.7047,     0.70571,     0.70671,     0.70771,     0.70871,     0.70971,     0.71071,     0.71171,     0.71271,     0.71371,     0.71471,     0.71572,     0.71672,     0.71772,     0.71872,     0.71972,\n",
      "           0.72072,     0.72172,     0.72272,     0.72372,     0.72472,     0.72573,     0.72673,     0.72773,     0.72873,     0.72973,     0.73073,     0.73173,     0.73273,     0.73373,     0.73473,     0.73574,     0.73674,     0.73774,     0.73874,     0.73974,     0.74074,     0.74174,     0.74274,     0.74374,\n",
      "           0.74474,     0.74575,     0.74675,     0.74775,     0.74875,     0.74975,     0.75075,     0.75175,     0.75275,     0.75375,     0.75475,     0.75576,     0.75676,     0.75776,     0.75876,     0.75976,     0.76076,     0.76176,     0.76276,     0.76376,     0.76476,     0.76577,     0.76677,     0.76777,\n",
      "           0.76877,     0.76977,     0.77077,     0.77177,     0.77277,     0.77377,     0.77477,     0.77578,     0.77678,     0.77778,     0.77878,     0.77978,     0.78078,     0.78178,     0.78278,     0.78378,     0.78478,     0.78579,     0.78679,     0.78779,     0.78879,     0.78979,     0.79079,     0.79179,\n",
      "           0.79279,     0.79379,     0.79479,      0.7958,      0.7968,      0.7978,      0.7988,      0.7998,      0.8008,      0.8018,      0.8028,      0.8038,      0.8048,     0.80581,     0.80681,     0.80781,     0.80881,     0.80981,     0.81081,     0.81181,     0.81281,     0.81381,     0.81481,     0.81582,\n",
      "           0.81682,     0.81782,     0.81882,     0.81982,     0.82082,     0.82182,     0.82282,     0.82382,     0.82482,     0.82583,     0.82683,     0.82783,     0.82883,     0.82983,     0.83083,     0.83183,     0.83283,     0.83383,     0.83483,     0.83584,     0.83684,     0.83784,     0.83884,     0.83984,\n",
      "           0.84084,     0.84184,     0.84284,     0.84384,     0.84484,     0.84585,     0.84685,     0.84785,     0.84885,     0.84985,     0.85085,     0.85185,     0.85285,     0.85385,     0.85485,     0.85586,     0.85686,     0.85786,     0.85886,     0.85986,     0.86086,     0.86186,     0.86286,     0.86386,\n",
      "           0.86486,     0.86587,     0.86687,     0.86787,     0.86887,     0.86987,     0.87087,     0.87187,     0.87287,     0.87387,     0.87487,     0.87588,     0.87688,     0.87788,     0.87888,     0.87988,     0.88088,     0.88188,     0.88288,     0.88388,     0.88488,     0.88589,     0.88689,     0.88789,\n",
      "           0.88889,     0.88989,     0.89089,     0.89189,     0.89289,     0.89389,     0.89489,      0.8959,      0.8969,      0.8979,      0.8989,      0.8999,      0.9009,      0.9019,      0.9029,      0.9039,      0.9049,     0.90591,     0.90691,     0.90791,     0.90891,     0.90991,     0.91091,     0.91191,\n",
      "           0.91291,     0.91391,     0.91491,     0.91592,     0.91692,     0.91792,     0.91892,     0.91992,     0.92092,     0.92192,     0.92292,     0.92392,     0.92492,     0.92593,     0.92693,     0.92793,     0.92893,     0.92993,     0.93093,     0.93193,     0.93293,     0.93393,     0.93493,     0.93594,\n",
      "           0.93694,     0.93794,     0.93894,     0.93994,     0.94094,     0.94194,     0.94294,     0.94394,     0.94494,     0.94595,     0.94695,     0.94795,     0.94895,     0.94995,     0.95095,     0.95195,     0.95295,     0.95395,     0.95495,     0.95596,     0.95696,     0.95796,     0.95896,     0.95996,\n",
      "           0.96096,     0.96196,     0.96296,     0.96396,     0.96496,     0.96597,     0.96697,     0.96797,     0.96897,     0.96997,     0.97097,     0.97197,     0.97297,     0.97397,     0.97497,     0.97598,     0.97698,     0.97798,     0.97898,     0.97998,     0.98098,     0.98198,     0.98298,     0.98398,\n",
      "           0.98498,     0.98599,     0.98699,     0.98799,     0.98899,     0.98999,     0.99099,     0.99199,     0.99299,     0.99399,     0.99499,       0.996,       0.997,       0.998,       0.999,           1]), array([[    0.20716,     0.20716,     0.21995,      0.2411,     0.25603,     0.26693,     0.27088,     0.27369,     0.28078,     0.28708,     0.29518,     0.29805,     0.30598,     0.31109,     0.31437,     0.31596,     0.31755,     0.32158,     0.32736,     0.33414,     0.33408,     0.33703,     0.33546,\n",
      "            0.33829,      0.3403,     0.34242,      0.3392,     0.33996,     0.34487,     0.34659,     0.34954,     0.35227,     0.35256,     0.35209,     0.35167,     0.35345,     0.35757,     0.35621,      0.3585,     0.35932,     0.35656,     0.35597,     0.35696,     0.35883,     0.36005,     0.35647,\n",
      "            0.35762,     0.35976,     0.36022,     0.35479,      0.3573,     0.35927,      0.3612,     0.35925,     0.35912,     0.35727,     0.35315,     0.35368,     0.35398,     0.35448,     0.35572,     0.35823,     0.35932,     0.36017,     0.36064,      0.3618,     0.36196,     0.35697,      0.3531,\n",
      "            0.35455,     0.35494,       0.353,     0.35392,     0.35661,     0.35186,     0.35241,     0.35329,     0.35427,     0.35557,     0.35622,     0.35723,     0.35749,     0.35772,     0.35869,     0.35773,     0.35819,     0.35753,     0.35451,     0.35392,     0.35222,     0.35276,      0.3531,\n",
      "            0.35339,     0.34833,     0.34895,     0.34712,     0.34834,     0.34849,     0.34863,     0.34878,     0.34823,     0.34718,     0.34614,     0.34645,     0.34751,     0.34837,     0.34992,     0.34741,     0.34757,     0.34773,     0.34789,     0.34816,     0.34855,      0.3487,     0.34884,\n",
      "            0.34898,     0.34912,     0.34965,     0.35043,     0.35066,     0.35089,     0.35041,     0.34977,     0.34912,     0.34847,     0.34868,     0.34889,     0.34906,     0.34924,     0.34949,     0.34981,     0.35018,     0.35089,     0.34926,     0.34757,     0.34948,     0.34703,      0.3477,\n",
      "            0.34675,      0.3458,     0.34532,     0.34596,     0.34647,     0.34682,     0.34476,     0.34514,     0.34613,     0.34445,     0.34411,     0.34436,      0.3446,      0.3427,     0.34036,     0.34082,      0.3411,     0.34005,     0.33824,     0.33852,     0.33906,     0.33661,      0.3372,\n",
      "            0.33754,     0.33784,     0.33813,     0.33519,     0.33536,     0.33554,     0.33571,     0.33587,       0.336,     0.33614,     0.33628,     0.33639,     0.33351,     0.33385,     0.33423,     0.33438,      0.3331,     0.33183,     0.33164,     0.33186,     0.33247,     0.33368,     0.33462,\n",
      "            0.33499,     0.33564,      0.3367,     0.33481,     0.33529,     0.33567,     0.33602,     0.33633,     0.33663,     0.33694,     0.33745,     0.33714,     0.33614,     0.33513,     0.33485,     0.33533,      0.3358,     0.33401,     0.33277,     0.33296,     0.33314,     0.33332,      0.3338,\n",
      "            0.33297,     0.33185,     0.33271,     0.33309,     0.33365,     0.33166,      0.3308,     0.33096,     0.33113,     0.33129,     0.33043,     0.32888,     0.32737,     0.32593,     0.32493,     0.32545,     0.32556,     0.32566,     0.32577,     0.32587,     0.32598,     0.32673,      0.3269,\n",
      "            0.32708,     0.32725,     0.32812,     0.32911,     0.32955,     0.32983,     0.32755,     0.32822,     0.32856,     0.32925,      0.3259,     0.32605,      0.3262,     0.32635,     0.32651,     0.32721,     0.32738,     0.32754,     0.32771,     0.32788,     0.32821,     0.32854,     0.32933,\n",
      "            0.32949,     0.32964,      0.3298,     0.33001,      0.3303,     0.33055,     0.32958,     0.32861,     0.32764,      0.3273,     0.32767,      0.3279,     0.32805,      0.3282,     0.32834,     0.32894,     0.32578,     0.32619,     0.32652,     0.32676,     0.32699,     0.32723,     0.32747,\n",
      "             0.3277,     0.32884,     0.32882,     0.32841,       0.328,     0.32759,     0.32717,     0.32676,     0.32634,     0.32593,      0.3256,     0.32568,     0.32577,     0.32586,     0.32595,     0.32604,     0.32613,     0.32622,     0.32594,     0.32505,     0.32415,     0.32325,     0.32282,\n",
      "            0.32307,     0.32331,     0.32297,     0.32228,      0.3216,     0.32091,     0.32022,     0.31986,     0.31993,        0.32,     0.32007,     0.32014,     0.32021,     0.32029,     0.32036,     0.32043,      0.3205,     0.31907,      0.3172,     0.31701,     0.31712,     0.31723,     0.31734,\n",
      "            0.31745,     0.31756,     0.31762,     0.31531,     0.31414,     0.31341,     0.31269,     0.31197,     0.31124,     0.31157,     0.31082,     0.31006,      0.3093,     0.30854,     0.30207,     0.29988,     0.29891,     0.29794,     0.29697,     0.29539,     0.29379,     0.29337,     0.29361,\n",
      "            0.29385,     0.29277,     0.29163,     0.29049,     0.28674,     0.28325,     0.28353,     0.28383,     0.28448,     0.28455,     0.28461,     0.28468,     0.28475,     0.28482,     0.28488,     0.28495,     0.28502,      0.2851,     0.28536,     0.28561,     0.28576,     0.28585,     0.28594,\n",
      "            0.28602,     0.28611,      0.2862,     0.28628,      0.2864,     0.28671,     0.28707,     0.28779,     0.28806,     0.28752,     0.28445,     0.28453,     0.28461,     0.28469,     0.28477,     0.28485,     0.28493,     0.28501,     0.28309,     0.28087,     0.28043,     0.27998,     0.27954,\n",
      "            0.27909,     0.27865,      0.2782,     0.27776,     0.27731,     0.27772,     0.27798,      0.2781,     0.27822,     0.27834,     0.27846,     0.27865,     0.27904,     0.27236,     0.27139,     0.27156,     0.27173,     0.27189,     0.27201,     0.27212,     0.27223,     0.27235,     0.27246,\n",
      "            0.27291,     0.27278,     0.27227,     0.27176,     0.27125,     0.27073,     0.27022,     0.26971,      0.2692,     0.26968,     0.26991,     0.27008,     0.27025,     0.27042,     0.27061,      0.2708,     0.27098,     0.27128,      0.2716,     0.27171,     0.27177,     0.27183,     0.27189,\n",
      "            0.27195,     0.27201,     0.27207,     0.27213,     0.27219,     0.27225,     0.27231,     0.27236,     0.27242,     0.27247,     0.27253,     0.27258,     0.27264,     0.27269,     0.27274,      0.2728,     0.27285,     0.27291,     0.27299,     0.27314,     0.27328,     0.27342,     0.27356,\n",
      "            0.26954,     0.26962,     0.26971,      0.2698,     0.26988,     0.26997,     0.27005,     0.27014,      0.2708,     0.27133,     0.27167,     0.27196,     0.27212,     0.27219,     0.27227,     0.27234,     0.27242,     0.27249,     0.27256,     0.27264,     0.27271,     0.27281,     0.27291,\n",
      "            0.27302,     0.27312,     0.27323,     0.27333,     0.27344,     0.27354,     0.27364,     0.27375,     0.27385,     0.27395,     0.27468,     0.27409,      0.2735,     0.27291,     0.27232,     0.27173,     0.27113,     0.27054,     0.27077,     0.26781,     0.26733,     0.26595,     0.26355,\n",
      "             0.2638,     0.26405,     0.26416,     0.26426,     0.26436,     0.26446,     0.26456,     0.26466,     0.26483,     0.26504,     0.26525,     0.26545,     0.26564,     0.26583,     0.26578,     0.25743,     0.25757,     0.25771,     0.25785,     0.25799,     0.25344,     0.25142,     0.24941,\n",
      "            0.24947,     0.24957,     0.24967,     0.24977,     0.24986,     0.24996,      0.2503,     0.25042,     0.24982,     0.24922,     0.24862,     0.24802,     0.24742,     0.24682,     0.24623,     0.24626,     0.24629,     0.24632,     0.24635,     0.24638,     0.24641,     0.24644,     0.24647,\n",
      "             0.2465,     0.24653,     0.24656,     0.24659,     0.24662,     0.24665,     0.24668,     0.24671,     0.24674,     0.24677,      0.2468,     0.24683,     0.24671,     0.24575,     0.24479,     0.24384,     0.24288,     0.24224,     0.24189,     0.24155,      0.2412,     0.24086,     0.24051,\n",
      "            0.24016,     0.23982,     0.23947,     0.23912,     0.23877,     0.23843,     0.23808,     0.23821,     0.23855,     0.23814,     0.23767,      0.2372,     0.23673,     0.23626,     0.23579,     0.23531,     0.23484,     0.23437,     0.23416,     0.23429,     0.23443,     0.23457,     0.23471,\n",
      "            0.23492,     0.23513,     0.23339,     0.23082,     0.23088,     0.23094,     0.23101,     0.23107,     0.23113,     0.23119,     0.23126,     0.23132,     0.23121,     0.23065,     0.23009,     0.22953,     0.22897,     0.22841,     0.22784,     0.22728,     0.22674,     0.22636,     0.22598,\n",
      "             0.2256,     0.22522,     0.22483,     0.22445,     0.22407,     0.22369,      0.2233,     0.22292,     0.22254,     0.22209,      0.2213,     0.22051,     0.21972,     0.21893,     0.21813,     0.21733,     0.21649,     0.21565,     0.21481,     0.21397,     0.21313,     0.21222,     0.21129,\n",
      "            0.21036,     0.20943,      0.2085,     0.20329,     0.19987,      0.1991,      0.1993,     0.19945,     0.19918,      0.1989,     0.19863,     0.19836,     0.19809,     0.19782,     0.19754,     0.19727,       0.197,     0.19673,     0.19646,     0.19618,     0.19591,     0.19564,     0.19537,\n",
      "            0.19509,     0.19482,     0.19446,     0.19405,     0.19365,     0.19324,     0.19284,     0.19243,     0.19202,     0.19162,     0.19121,     0.19081,      0.1904,     0.18999,     0.18835,     0.18663,     0.18529,     0.18577,     0.18599,     0.18618,     0.18623,     0.18629,     0.18634,\n",
      "            0.18639,     0.18645,      0.1865,     0.18655,      0.1866,     0.18665,     0.17991,     0.17665,     0.17534,     0.17404,     0.17273,      0.1709,     0.16848,     0.16583,     0.16287,     0.16184,     0.16141,     0.16098,     0.16054,     0.16011,     0.15968,     0.15925,     0.15882,\n",
      "            0.15839,     0.15796,     0.15753,     0.15216,     0.15154,     0.15092,      0.1503,     0.14968,     0.14906,     0.14844,     0.14782,      0.1472,     0.14644,     0.14567,      0.1449,     0.14413,     0.14336,     0.14259,     0.14124,     0.13879,      0.1365,     0.13467,     0.13284,\n",
      "            0.13189,     0.13193,     0.13197,     0.13201,     0.13204,     0.13208,     0.13212,     0.13216,      0.1322,     0.13224,     0.13229,     0.13235,     0.13241,     0.13246,     0.13252,     0.13257,     0.13156,     0.12981,     0.12807,     0.12767,      0.1261,     0.12378,     0.12261,\n",
      "            0.12269,     0.12278,     0.12287,     0.12236,     0.12135,     0.12034,     0.11933,     0.11832,     0.11736,      0.1165,     0.11563,     0.11477,      0.1139,     0.11303,     0.11225,     0.11173,     0.11122,     0.11071,      0.1102,     0.10969,     0.10917,     0.10866,     0.10815,\n",
      "            0.10763,     0.10712,     0.10711,     0.10719,     0.10727,     0.10732,      0.1056,     0.10388,     0.10215,     0.10172,     0.10144,     0.10115,     0.10087,     0.10058,     0.10029,     0.10001,    0.099722,    0.099436,    0.099149,    0.098863,    0.098576,    0.098289,    0.098002,\n",
      "           0.097715,    0.097428,    0.097141,    0.096854,    0.096541,    0.095938,    0.095336,    0.094732,    0.094129,    0.093525,    0.092921,    0.092316,    0.091711,    0.091136,    0.090827,    0.090517,    0.090207,    0.089897,    0.089587,    0.089277,    0.088967,    0.088656,    0.088346,\n",
      "           0.088035,    0.087724,    0.087414,    0.087103,    0.086792,    0.086481,     0.08617,    0.085859,    0.085104,    0.083964,    0.082823,    0.081681,    0.080538,    0.078321,    0.075701,    0.069142,    0.063166,    0.058287,    0.057098,    0.056164,    0.055229,    0.054293,    0.053356,\n",
      "           0.052419,    0.052334,    0.052342,    0.052351,    0.052359,    0.052368,    0.052376,    0.052385,    0.052393,    0.052401,    0.052409,    0.052417,    0.052425,    0.052432,     0.05244,    0.052448,    0.052455,    0.052463,     0.05247,    0.052477,    0.051676,    0.050755,    0.049834,\n",
      "           0.048911,    0.047988,    0.047064,    0.046281,    0.045559,    0.044836,    0.044113,    0.043389,    0.042665,     0.04194,    0.041215,    0.038517,    0.035289,    0.034849,    0.034409,    0.033969,    0.033529,    0.033089,    0.032648,    0.032207,    0.031766,    0.031325,    0.030884,\n",
      "           0.030442,        0.03,    0.029558,    0.028967,    0.028351,    0.027736,    0.027119,    0.026503,    0.025886,    0.025269,    0.024651,    0.024033,    0.023546,    0.023247,    0.022949,     0.02265,    0.022351,    0.022052,    0.021753,    0.021454,    0.021155,    0.020855,    0.020556,\n",
      "           0.020256,    0.019957,    0.019657,    0.019357,    0.019057,    0.018758,    0.018457,    0.018157,    0.017857,    0.016682,    0.015317,    0.013951,    0.012582,    0.011698,     0.01129,    0.010881,    0.010473,    0.010064,   0.0096546,   0.0092453,   0.0088358,   0.0084262,   0.0080164,\n",
      "          0.0076065,   0.0071964,   0.0067861,   0.0063756,           0,           0,           0,           0,           0,           0,           0,           0,           0,           0,           0,           0,           0,           0,           0,           0,           0,           0,           0,\n",
      "                  0,           0,           0,           0,           0,           0,           0,           0,           0,           0,           0,           0,           0,           0,           0,           0,           0,           0,           0,           0,           0,           0,           0,\n",
      "                  0,           0,           0,           0,           0,           0,           0,           0,           0,           0,           0]]), 'Confidence', 'F1'], [array([          0,    0.001001,    0.002002,    0.003003,    0.004004,    0.005005,    0.006006,    0.007007,    0.008008,    0.009009,     0.01001,    0.011011,    0.012012,    0.013013,    0.014014,    0.015015,    0.016016,    0.017017,    0.018018,    0.019019,     0.02002,    0.021021,    0.022022,    0.023023,\n",
      "          0.024024,    0.025025,    0.026026,    0.027027,    0.028028,    0.029029,     0.03003,    0.031031,    0.032032,    0.033033,    0.034034,    0.035035,    0.036036,    0.037037,    0.038038,    0.039039,     0.04004,    0.041041,    0.042042,    0.043043,    0.044044,    0.045045,    0.046046,    0.047047,\n",
      "          0.048048,    0.049049,     0.05005,    0.051051,    0.052052,    0.053053,    0.054054,    0.055055,    0.056056,    0.057057,    0.058058,    0.059059,     0.06006,    0.061061,    0.062062,    0.063063,    0.064064,    0.065065,    0.066066,    0.067067,    0.068068,    0.069069,     0.07007,    0.071071,\n",
      "          0.072072,    0.073073,    0.074074,    0.075075,    0.076076,    0.077077,    0.078078,    0.079079,     0.08008,    0.081081,    0.082082,    0.083083,    0.084084,    0.085085,    0.086086,    0.087087,    0.088088,    0.089089,     0.09009,    0.091091,    0.092092,    0.093093,    0.094094,    0.095095,\n",
      "          0.096096,    0.097097,    0.098098,    0.099099,      0.1001,      0.1011,      0.1021,      0.1031,      0.1041,     0.10511,     0.10611,     0.10711,     0.10811,     0.10911,     0.11011,     0.11111,     0.11211,     0.11311,     0.11411,     0.11512,     0.11612,     0.11712,     0.11812,     0.11912,\n",
      "           0.12012,     0.12112,     0.12212,     0.12312,     0.12412,     0.12513,     0.12613,     0.12713,     0.12813,     0.12913,     0.13013,     0.13113,     0.13213,     0.13313,     0.13413,     0.13514,     0.13614,     0.13714,     0.13814,     0.13914,     0.14014,     0.14114,     0.14214,     0.14314,\n",
      "           0.14414,     0.14515,     0.14615,     0.14715,     0.14815,     0.14915,     0.15015,     0.15115,     0.15215,     0.15315,     0.15415,     0.15516,     0.15616,     0.15716,     0.15816,     0.15916,     0.16016,     0.16116,     0.16216,     0.16316,     0.16416,     0.16517,     0.16617,     0.16717,\n",
      "           0.16817,     0.16917,     0.17017,     0.17117,     0.17217,     0.17317,     0.17417,     0.17518,     0.17618,     0.17718,     0.17818,     0.17918,     0.18018,     0.18118,     0.18218,     0.18318,     0.18418,     0.18519,     0.18619,     0.18719,     0.18819,     0.18919,     0.19019,     0.19119,\n",
      "           0.19219,     0.19319,     0.19419,      0.1952,      0.1962,      0.1972,      0.1982,      0.1992,      0.2002,      0.2012,      0.2022,      0.2032,      0.2042,     0.20521,     0.20621,     0.20721,     0.20821,     0.20921,     0.21021,     0.21121,     0.21221,     0.21321,     0.21421,     0.21522,\n",
      "           0.21622,     0.21722,     0.21822,     0.21922,     0.22022,     0.22122,     0.22222,     0.22322,     0.22422,     0.22523,     0.22623,     0.22723,     0.22823,     0.22923,     0.23023,     0.23123,     0.23223,     0.23323,     0.23423,     0.23524,     0.23624,     0.23724,     0.23824,     0.23924,\n",
      "           0.24024,     0.24124,     0.24224,     0.24324,     0.24424,     0.24525,     0.24625,     0.24725,     0.24825,     0.24925,     0.25025,     0.25125,     0.25225,     0.25325,     0.25425,     0.25526,     0.25626,     0.25726,     0.25826,     0.25926,     0.26026,     0.26126,     0.26226,     0.26326,\n",
      "           0.26426,     0.26527,     0.26627,     0.26727,     0.26827,     0.26927,     0.27027,     0.27127,     0.27227,     0.27327,     0.27427,     0.27528,     0.27628,     0.27728,     0.27828,     0.27928,     0.28028,     0.28128,     0.28228,     0.28328,     0.28428,     0.28529,     0.28629,     0.28729,\n",
      "           0.28829,     0.28929,     0.29029,     0.29129,     0.29229,     0.29329,     0.29429,      0.2953,      0.2963,      0.2973,      0.2983,      0.2993,      0.3003,      0.3013,      0.3023,      0.3033,      0.3043,     0.30531,     0.30631,     0.30731,     0.30831,     0.30931,     0.31031,     0.31131,\n",
      "           0.31231,     0.31331,     0.31431,     0.31532,     0.31632,     0.31732,     0.31832,     0.31932,     0.32032,     0.32132,     0.32232,     0.32332,     0.32432,     0.32533,     0.32633,     0.32733,     0.32833,     0.32933,     0.33033,     0.33133,     0.33233,     0.33333,     0.33433,     0.33534,\n",
      "           0.33634,     0.33734,     0.33834,     0.33934,     0.34034,     0.34134,     0.34234,     0.34334,     0.34434,     0.34535,     0.34635,     0.34735,     0.34835,     0.34935,     0.35035,     0.35135,     0.35235,     0.35335,     0.35435,     0.35536,     0.35636,     0.35736,     0.35836,     0.35936,\n",
      "           0.36036,     0.36136,     0.36236,     0.36336,     0.36436,     0.36537,     0.36637,     0.36737,     0.36837,     0.36937,     0.37037,     0.37137,     0.37237,     0.37337,     0.37437,     0.37538,     0.37638,     0.37738,     0.37838,     0.37938,     0.38038,     0.38138,     0.38238,     0.38338,\n",
      "           0.38438,     0.38539,     0.38639,     0.38739,     0.38839,     0.38939,     0.39039,     0.39139,     0.39239,     0.39339,     0.39439,      0.3954,      0.3964,      0.3974,      0.3984,      0.3994,      0.4004,      0.4014,      0.4024,      0.4034,      0.4044,     0.40541,     0.40641,     0.40741,\n",
      "           0.40841,     0.40941,     0.41041,     0.41141,     0.41241,     0.41341,     0.41441,     0.41542,     0.41642,     0.41742,     0.41842,     0.41942,     0.42042,     0.42142,     0.42242,     0.42342,     0.42442,     0.42543,     0.42643,     0.42743,     0.42843,     0.42943,     0.43043,     0.43143,\n",
      "           0.43243,     0.43343,     0.43443,     0.43544,     0.43644,     0.43744,     0.43844,     0.43944,     0.44044,     0.44144,     0.44244,     0.44344,     0.44444,     0.44545,     0.44645,     0.44745,     0.44845,     0.44945,     0.45045,     0.45145,     0.45245,     0.45345,     0.45445,     0.45546,\n",
      "           0.45646,     0.45746,     0.45846,     0.45946,     0.46046,     0.46146,     0.46246,     0.46346,     0.46446,     0.46547,     0.46647,     0.46747,     0.46847,     0.46947,     0.47047,     0.47147,     0.47247,     0.47347,     0.47447,     0.47548,     0.47648,     0.47748,     0.47848,     0.47948,\n",
      "           0.48048,     0.48148,     0.48248,     0.48348,     0.48448,     0.48549,     0.48649,     0.48749,     0.48849,     0.48949,     0.49049,     0.49149,     0.49249,     0.49349,     0.49449,      0.4955,      0.4965,      0.4975,      0.4985,      0.4995,      0.5005,      0.5015,      0.5025,      0.5035,\n",
      "            0.5045,     0.50551,     0.50651,     0.50751,     0.50851,     0.50951,     0.51051,     0.51151,     0.51251,     0.51351,     0.51451,     0.51552,     0.51652,     0.51752,     0.51852,     0.51952,     0.52052,     0.52152,     0.52252,     0.52352,     0.52452,     0.52553,     0.52653,     0.52753,\n",
      "           0.52853,     0.52953,     0.53053,     0.53153,     0.53253,     0.53353,     0.53453,     0.53554,     0.53654,     0.53754,     0.53854,     0.53954,     0.54054,     0.54154,     0.54254,     0.54354,     0.54454,     0.54555,     0.54655,     0.54755,     0.54855,     0.54955,     0.55055,     0.55155,\n",
      "           0.55255,     0.55355,     0.55455,     0.55556,     0.55656,     0.55756,     0.55856,     0.55956,     0.56056,     0.56156,     0.56256,     0.56356,     0.56456,     0.56557,     0.56657,     0.56757,     0.56857,     0.56957,     0.57057,     0.57157,     0.57257,     0.57357,     0.57457,     0.57558,\n",
      "           0.57658,     0.57758,     0.57858,     0.57958,     0.58058,     0.58158,     0.58258,     0.58358,     0.58458,     0.58559,     0.58659,     0.58759,     0.58859,     0.58959,     0.59059,     0.59159,     0.59259,     0.59359,     0.59459,      0.5956,      0.5966,      0.5976,      0.5986,      0.5996,\n",
      "            0.6006,      0.6016,      0.6026,      0.6036,      0.6046,     0.60561,     0.60661,     0.60761,     0.60861,     0.60961,     0.61061,     0.61161,     0.61261,     0.61361,     0.61461,     0.61562,     0.61662,     0.61762,     0.61862,     0.61962,     0.62062,     0.62162,     0.62262,     0.62362,\n",
      "           0.62462,     0.62563,     0.62663,     0.62763,     0.62863,     0.62963,     0.63063,     0.63163,     0.63263,     0.63363,     0.63463,     0.63564,     0.63664,     0.63764,     0.63864,     0.63964,     0.64064,     0.64164,     0.64264,     0.64364,     0.64464,     0.64565,     0.64665,     0.64765,\n",
      "           0.64865,     0.64965,     0.65065,     0.65165,     0.65265,     0.65365,     0.65465,     0.65566,     0.65666,     0.65766,     0.65866,     0.65966,     0.66066,     0.66166,     0.66266,     0.66366,     0.66466,     0.66567,     0.66667,     0.66767,     0.66867,     0.66967,     0.67067,     0.67167,\n",
      "           0.67267,     0.67367,     0.67467,     0.67568,     0.67668,     0.67768,     0.67868,     0.67968,     0.68068,     0.68168,     0.68268,     0.68368,     0.68468,     0.68569,     0.68669,     0.68769,     0.68869,     0.68969,     0.69069,     0.69169,     0.69269,     0.69369,     0.69469,      0.6957,\n",
      "            0.6967,      0.6977,      0.6987,      0.6997,      0.7007,      0.7017,      0.7027,      0.7037,      0.7047,     0.70571,     0.70671,     0.70771,     0.70871,     0.70971,     0.71071,     0.71171,     0.71271,     0.71371,     0.71471,     0.71572,     0.71672,     0.71772,     0.71872,     0.71972,\n",
      "           0.72072,     0.72172,     0.72272,     0.72372,     0.72472,     0.72573,     0.72673,     0.72773,     0.72873,     0.72973,     0.73073,     0.73173,     0.73273,     0.73373,     0.73473,     0.73574,     0.73674,     0.73774,     0.73874,     0.73974,     0.74074,     0.74174,     0.74274,     0.74374,\n",
      "           0.74474,     0.74575,     0.74675,     0.74775,     0.74875,     0.74975,     0.75075,     0.75175,     0.75275,     0.75375,     0.75475,     0.75576,     0.75676,     0.75776,     0.75876,     0.75976,     0.76076,     0.76176,     0.76276,     0.76376,     0.76476,     0.76577,     0.76677,     0.76777,\n",
      "           0.76877,     0.76977,     0.77077,     0.77177,     0.77277,     0.77377,     0.77477,     0.77578,     0.77678,     0.77778,     0.77878,     0.77978,     0.78078,     0.78178,     0.78278,     0.78378,     0.78478,     0.78579,     0.78679,     0.78779,     0.78879,     0.78979,     0.79079,     0.79179,\n",
      "           0.79279,     0.79379,     0.79479,      0.7958,      0.7968,      0.7978,      0.7988,      0.7998,      0.8008,      0.8018,      0.8028,      0.8038,      0.8048,     0.80581,     0.80681,     0.80781,     0.80881,     0.80981,     0.81081,     0.81181,     0.81281,     0.81381,     0.81481,     0.81582,\n",
      "           0.81682,     0.81782,     0.81882,     0.81982,     0.82082,     0.82182,     0.82282,     0.82382,     0.82482,     0.82583,     0.82683,     0.82783,     0.82883,     0.82983,     0.83083,     0.83183,     0.83283,     0.83383,     0.83483,     0.83584,     0.83684,     0.83784,     0.83884,     0.83984,\n",
      "           0.84084,     0.84184,     0.84284,     0.84384,     0.84484,     0.84585,     0.84685,     0.84785,     0.84885,     0.84985,     0.85085,     0.85185,     0.85285,     0.85385,     0.85485,     0.85586,     0.85686,     0.85786,     0.85886,     0.85986,     0.86086,     0.86186,     0.86286,     0.86386,\n",
      "           0.86486,     0.86587,     0.86687,     0.86787,     0.86887,     0.86987,     0.87087,     0.87187,     0.87287,     0.87387,     0.87487,     0.87588,     0.87688,     0.87788,     0.87888,     0.87988,     0.88088,     0.88188,     0.88288,     0.88388,     0.88488,     0.88589,     0.88689,     0.88789,\n",
      "           0.88889,     0.88989,     0.89089,     0.89189,     0.89289,     0.89389,     0.89489,      0.8959,      0.8969,      0.8979,      0.8989,      0.8999,      0.9009,      0.9019,      0.9029,      0.9039,      0.9049,     0.90591,     0.90691,     0.90791,     0.90891,     0.90991,     0.91091,     0.91191,\n",
      "           0.91291,     0.91391,     0.91491,     0.91592,     0.91692,     0.91792,     0.91892,     0.91992,     0.92092,     0.92192,     0.92292,     0.92392,     0.92492,     0.92593,     0.92693,     0.92793,     0.92893,     0.92993,     0.93093,     0.93193,     0.93293,     0.93393,     0.93493,     0.93594,\n",
      "           0.93694,     0.93794,     0.93894,     0.93994,     0.94094,     0.94194,     0.94294,     0.94394,     0.94494,     0.94595,     0.94695,     0.94795,     0.94895,     0.94995,     0.95095,     0.95195,     0.95295,     0.95395,     0.95495,     0.95596,     0.95696,     0.95796,     0.95896,     0.95996,\n",
      "           0.96096,     0.96196,     0.96296,     0.96396,     0.96496,     0.96597,     0.96697,     0.96797,     0.96897,     0.96997,     0.97097,     0.97197,     0.97297,     0.97397,     0.97497,     0.97598,     0.97698,     0.97798,     0.97898,     0.97998,     0.98098,     0.98198,     0.98298,     0.98398,\n",
      "           0.98498,     0.98599,     0.98699,     0.98799,     0.98899,     0.98999,     0.99099,     0.99199,     0.99299,     0.99399,     0.99499,       0.996,       0.997,       0.998,       0.999,           1]), array([[    0.12694,     0.12694,     0.13704,     0.15456,      0.1679,     0.17839,     0.18437,     0.18972,     0.19709,      0.2044,     0.21272,     0.21693,     0.22544,     0.23174,     0.23692,     0.24032,     0.24386,     0.24863,     0.25562,     0.26398,     0.26597,     0.27082,     0.27217,\n",
      "            0.27591,     0.27858,     0.28145,     0.28216,     0.28455,      0.2915,     0.29544,     0.29975,      0.3038,     0.30423,     0.30512,     0.30611,     0.30881,     0.31516,     0.31479,     0.31839,     0.32342,     0.32281,     0.32382,     0.32546,     0.32858,     0.33063,     0.33086,\n",
      "            0.33296,     0.33668,     0.33982,     0.33706,     0.34182,     0.34544,     0.34902,     0.34799,     0.35041,     0.34959,     0.34723,     0.34825,     0.34883,     0.34981,     0.35222,     0.35718,     0.35937,     0.36107,     0.36202,     0.36435,     0.36782,     0.36497,     0.36234,\n",
      "            0.36542,     0.36624,     0.36552,     0.36749,     0.37334,      0.3701,     0.37132,     0.37329,     0.37548,     0.37842,     0.37988,      0.3822,     0.38278,     0.38331,     0.38555,     0.38732,     0.38842,     0.38857,     0.38613,     0.38745,     0.38675,     0.38804,     0.38888,\n",
      "            0.38957,     0.38599,     0.38751,     0.38651,     0.39055,     0.39091,     0.39128,     0.39164,     0.39129,     0.39042,     0.38955,     0.39043,     0.39313,     0.39533,     0.39979,     0.39775,     0.39817,     0.39859,       0.399,     0.39971,     0.40076,     0.40114,     0.40151,\n",
      "            0.40188,     0.40225,     0.40367,     0.40574,     0.40637,       0.407,     0.40668,     0.40614,      0.4056,     0.40505,     0.40628,     0.40684,     0.40732,      0.4078,     0.40849,     0.40934,     0.41036,     0.41233,     0.41494,     0.41421,     0.41968,     0.41851,     0.42104,\n",
      "            0.42023,     0.41942,     0.41955,     0.42143,     0.42294,     0.42549,      0.4241,     0.42527,     0.42895,     0.42751,     0.42866,     0.42941,     0.43016,     0.43159,     0.43049,     0.43197,     0.43286,     0.43218,     0.43061,     0.43165,      0.4334,     0.43212,     0.43462,\n",
      "            0.43576,     0.43677,     0.43774,     0.43544,     0.43604,     0.43663,     0.43723,     0.43775,     0.43822,     0.43868,     0.43915,      0.4396,     0.43752,     0.43866,     0.43998,       0.441,     0.43987,     0.43874,       0.439,      0.4398,     0.44194,     0.44624,     0.44963,\n",
      "            0.45097,     0.45331,      0.4572,     0.45671,     0.46093,     0.46238,      0.4637,     0.46487,     0.46604,     0.46723,      0.4692,     0.46999,     0.46909,      0.4682,     0.46867,     0.47055,     0.47241,     0.47113,     0.47028,     0.47101,     0.47174,     0.47247,     0.47443,\n",
      "            0.47629,      0.4768,     0.48037,     0.48195,     0.48541,     0.48361,     0.48313,     0.48384,     0.48455,     0.48526,     0.48471,     0.48329,     0.48193,     0.48061,     0.48032,      0.4826,     0.48306,     0.48352,     0.48398,     0.48444,      0.4849,     0.48825,     0.48903,\n",
      "            0.48982,     0.49061,     0.49453,     0.49905,     0.50106,     0.50238,     0.50441,      0.5076,     0.50925,     0.51255,     0.50972,     0.51046,     0.51121,     0.51195,      0.5127,     0.51619,     0.51702,     0.51785,     0.51867,     0.51952,     0.52119,     0.52286,     0.52688,\n",
      "            0.52768,     0.52849,     0.52929,     0.53036,     0.53187,     0.53331,     0.53243,     0.53155,     0.53067,     0.53113,      0.5331,      0.5343,     0.53509,     0.53588,     0.53668,     0.53989,     0.53802,     0.54071,     0.54254,     0.54386,     0.54518,     0.54649,     0.54781,\n",
      "            0.54912,     0.55555,     0.55688,     0.55651,     0.55614,     0.55576,     0.55539,     0.55502,     0.55464,     0.55427,     0.55404,     0.55455,     0.55507,     0.55558,      0.5561,     0.55661,     0.55713,     0.55764,     0.55767,     0.55686,     0.55605,     0.55523,     0.55534,\n",
      "             0.5568,     0.55827,     0.55843,      0.5578,     0.55717,     0.55654,     0.55591,     0.55574,     0.55617,      0.5566,     0.55703,     0.55746,     0.55789,     0.55832,     0.55874,     0.55917,      0.5596,     0.55838,     0.55665,     0.55697,     0.55766,     0.55834,     0.55902,\n",
      "            0.55971,     0.56039,     0.56427,     0.56214,     0.56105,     0.56038,      0.5597,     0.55903,     0.55835,     0.56239,     0.56168,     0.56097,     0.56025,     0.55954,     0.55337,     0.55124,      0.5503,     0.54936,     0.54841,     0.54685,     0.54528,     0.54579,     0.54745,\n",
      "            0.54912,     0.54809,     0.54696,     0.54583,     0.54598,     0.54285,     0.54494,     0.54711,     0.55199,      0.5525,     0.55301,     0.55351,     0.55402,     0.55453,     0.55504,     0.55555,     0.55606,     0.55671,     0.55865,      0.5606,     0.56179,     0.56246,     0.56313,\n",
      "             0.5638,     0.56447,     0.56514,     0.56581,     0.56675,     0.56915,     0.57199,      0.5778,     0.57999,     0.58106,     0.57821,     0.57887,     0.57954,     0.58021,     0.58088,     0.58155,     0.58221,     0.58288,     0.58135,     0.57913,     0.57868,     0.57822,     0.57777,\n",
      "            0.57732,     0.57687,     0.57642,     0.57596,     0.57551,     0.57932,      0.5816,     0.58265,      0.5837,     0.58475,      0.5858,     0.58755,     0.59101,     0.58529,     0.58537,     0.58693,     0.58848,     0.59003,      0.5911,     0.59217,     0.59325,     0.59432,     0.59539,\n",
      "            0.59975,     0.60166,     0.60114,     0.60062,     0.60009,     0.59957,     0.59904,     0.59852,     0.59799,      0.6033,     0.60562,     0.60732,     0.60901,     0.61074,     0.61268,     0.61462,     0.61657,      0.6196,     0.62296,     0.62416,      0.6248,     0.62544,     0.62607,\n",
      "            0.62671,     0.62735,     0.62799,     0.62863,     0.62926,      0.6299,     0.63053,     0.63112,     0.63171,     0.63229,     0.63288,     0.63347,     0.63405,     0.63464,     0.63523,     0.63581,      0.6364,     0.63699,     0.63793,     0.63949,     0.64105,     0.64261,     0.64417,\n",
      "            0.64083,     0.64181,     0.64278,     0.64375,     0.64473,      0.6457,     0.64668,     0.64765,     0.65532,      0.6616,     0.66564,     0.66915,     0.67112,     0.67203,     0.67293,     0.67384,     0.67475,     0.67565,     0.67656,     0.67746,     0.67837,     0.67959,      0.6809,\n",
      "            0.68221,     0.68352,     0.68483,     0.68614,     0.68745,     0.68876,     0.69007,     0.69137,     0.69268,     0.69398,     0.70369,     0.70316,     0.70264,     0.70211,     0.70159,     0.70106,     0.70054,     0.70001,     0.70849,     0.70585,     0.70985,     0.71278,     0.71245,\n",
      "            0.71613,      0.7198,     0.72145,     0.72297,      0.7245,     0.72603,     0.72756,     0.72908,     0.73161,     0.73487,     0.73812,     0.74123,     0.74419,     0.74716,     0.74981,     0.74296,      0.7453,     0.74765,        0.75,     0.75234,     0.74975,     0.74802,     0.74629,\n",
      "            0.74801,     0.74978,     0.75155,     0.75333,      0.7551,     0.75687,     0.76311,     0.76906,     0.76857,     0.76808,     0.76759,     0.76709,      0.7666,     0.76611,     0.76564,     0.76622,      0.7668,     0.76738,     0.76797,     0.76855,     0.76913,     0.76971,     0.77029,\n",
      "            0.77088,     0.77146,     0.77204,     0.77262,     0.77321,     0.77379,     0.77437,     0.77495,     0.77553,     0.77612,      0.7767,     0.77728,     0.77766,     0.77689,     0.77611,     0.77533,     0.77456,     0.77404,     0.77375,     0.77346,     0.77318,     0.77289,      0.7726,\n",
      "            0.77231,     0.77202,     0.77173,     0.77144,     0.77116,     0.77087,     0.77058,     0.77555,     0.78282,     0.78297,     0.78259,      0.7822,     0.78182,     0.78143,     0.78104,     0.78066,     0.78027,     0.77988,     0.78098,     0.78408,     0.78719,     0.79029,     0.79356,\n",
      "            0.79835,     0.80314,     0.80557,     0.80471,     0.80625,     0.80779,     0.80934,     0.81088,     0.81242,     0.81396,      0.8155,     0.81705,     0.81807,     0.81766,     0.81724,     0.81683,     0.81641,       0.816,     0.81558,     0.81517,     0.81477,     0.81448,     0.81419,\n",
      "            0.81389,      0.8136,     0.81331,     0.81302,     0.81273,     0.81244,     0.81214,     0.81185,     0.81156,     0.81121,     0.81059,     0.80997,     0.80934,     0.80872,      0.8081,     0.80746,     0.80677,     0.80609,     0.80541,     0.80472,     0.80404,     0.80327,     0.80249,\n",
      "            0.80171,     0.80093,     0.80014,     0.79559,     0.79249,     0.79636,     0.80276,     0.80849,     0.80825,     0.80801,     0.80777,     0.80753,     0.80729,     0.80705,     0.80681,     0.80657,     0.80633,      0.8061,     0.80586,     0.80562,     0.80538,     0.80514,      0.8049,\n",
      "            0.80466,     0.80442,     0.80409,     0.80372,     0.80335,     0.80298,     0.80261,     0.80224,     0.80187,      0.8015,     0.80113,     0.80076,     0.80039,     0.80002,     0.79845,     0.79682,     0.79947,     0.81757,     0.82608,     0.83365,     0.83582,     0.83799,     0.84016,\n",
      "            0.84233,      0.8445,     0.84666,     0.84883,       0.851,     0.85317,      0.8485,     0.84591,     0.84483,     0.84375,     0.84267,     0.84111,     0.83902,     0.83667,     0.83398,     0.83302,     0.83261,      0.8322,     0.83178,     0.83137,     0.83096,     0.83055,     0.83014,\n",
      "            0.82973,     0.82931,      0.8289,     0.82352,     0.82286,      0.8222,     0.82154,     0.82088,     0.82022,     0.81956,      0.8189,     0.81824,      0.8174,     0.81653,     0.81567,      0.8148,     0.81394,     0.81307,      0.8115,     0.80859,     0.80583,     0.80353,     0.80122,\n",
      "            0.80138,     0.80433,     0.80727,     0.81022,     0.81316,     0.81611,     0.81905,       0.822,     0.82494,     0.82805,     0.83259,     0.83714,     0.84168,     0.84623,     0.85077,     0.85532,     0.85608,     0.85429,     0.85251,     0.87461,     0.88313,     0.88108,     0.88444,\n",
      "            0.89377,      0.9031,     0.91243,     0.91629,     0.91559,      0.9149,      0.9142,     0.91351,     0.91283,     0.91218,     0.91153,     0.91089,     0.91024,     0.90959,       0.909,     0.90858,     0.90816,     0.90775,     0.90733,     0.90691,     0.90649,     0.90608,     0.90566,\n",
      "            0.90524,     0.90482,     0.91478,     0.92657,     0.93837,     0.94999,     0.94914,      0.9483,     0.94745,     0.94723,     0.94707,     0.94692,     0.94676,     0.94661,     0.94645,      0.9463,     0.94614,     0.94599,     0.94583,     0.94567,     0.94552,     0.94536,     0.94521,\n",
      "            0.94505,      0.9449,     0.94474,     0.94459,     0.94441,     0.94405,     0.94369,     0.94332,     0.94296,     0.94259,     0.94223,     0.94187,      0.9415,     0.94116,     0.94095,     0.94074,     0.94053,     0.94032,     0.94011,      0.9399,     0.93969,     0.93948,     0.93927,\n",
      "            0.93906,     0.93885,     0.93864,     0.93843,     0.93822,     0.93802,     0.93781,      0.9376,     0.93703,     0.93617,      0.9353,     0.93443,     0.93357,     0.93168,     0.92942,     0.92305,      0.9161,     0.90952,     0.90768,     0.90618,     0.90467,     0.90316,     0.90166,\n",
      "            0.90015,     0.90473,     0.90999,     0.91524,      0.9205,     0.92575,     0.93101,     0.93626,     0.94152,     0.94677,     0.95203,     0.95728,     0.96254,      0.9678,     0.97305,     0.97831,     0.98356,     0.98882,     0.99407,     0.99933,           1,           1,           1,\n",
      "                  1,           1,           1,           1,           1,           1,           1,           1,           1,           1,           1,           1,           1,           1,           1,           1,           1,           1,           1,           1,           1,           1,           1,\n",
      "                  1,           1,           1,           1,           1,           1,           1,           1,           1,           1,           1,           1,           1,           1,           1,           1,           1,           1,           1,           1,           1,           1,           1,\n",
      "                  1,           1,           1,           1,           1,           1,           1,           1,           1,           1,           1,           1,           1,           1,           1,           1,           1,           1,           1,           1,           1,           1,           1,\n",
      "                  1,           1,           1,           1,           1,           1,           1,           1,           1,           1,           1,           1,           1,           1,           1,           1,           1,           1,           1,           1,           1,           1,           1,\n",
      "                  1,           1,           1,           1,           1,           1,           1,           1,           1,           1,           1,           1,           1,           1,           1,           1,           1,           1,           1,           1,           1,           1,           1,\n",
      "                  1,           1,           1,           1,           1,           1,           1,           1,           1,           1,           1]]), 'Confidence', 'Precision'], [array([          0,    0.001001,    0.002002,    0.003003,    0.004004,    0.005005,    0.006006,    0.007007,    0.008008,    0.009009,     0.01001,    0.011011,    0.012012,    0.013013,    0.014014,    0.015015,    0.016016,    0.017017,    0.018018,    0.019019,     0.02002,    0.021021,    0.022022,    0.023023,\n",
      "          0.024024,    0.025025,    0.026026,    0.027027,    0.028028,    0.029029,     0.03003,    0.031031,    0.032032,    0.033033,    0.034034,    0.035035,    0.036036,    0.037037,    0.038038,    0.039039,     0.04004,    0.041041,    0.042042,    0.043043,    0.044044,    0.045045,    0.046046,    0.047047,\n",
      "          0.048048,    0.049049,     0.05005,    0.051051,    0.052052,    0.053053,    0.054054,    0.055055,    0.056056,    0.057057,    0.058058,    0.059059,     0.06006,    0.061061,    0.062062,    0.063063,    0.064064,    0.065065,    0.066066,    0.067067,    0.068068,    0.069069,     0.07007,    0.071071,\n",
      "          0.072072,    0.073073,    0.074074,    0.075075,    0.076076,    0.077077,    0.078078,    0.079079,     0.08008,    0.081081,    0.082082,    0.083083,    0.084084,    0.085085,    0.086086,    0.087087,    0.088088,    0.089089,     0.09009,    0.091091,    0.092092,    0.093093,    0.094094,    0.095095,\n",
      "          0.096096,    0.097097,    0.098098,    0.099099,      0.1001,      0.1011,      0.1021,      0.1031,      0.1041,     0.10511,     0.10611,     0.10711,     0.10811,     0.10911,     0.11011,     0.11111,     0.11211,     0.11311,     0.11411,     0.11512,     0.11612,     0.11712,     0.11812,     0.11912,\n",
      "           0.12012,     0.12112,     0.12212,     0.12312,     0.12412,     0.12513,     0.12613,     0.12713,     0.12813,     0.12913,     0.13013,     0.13113,     0.13213,     0.13313,     0.13413,     0.13514,     0.13614,     0.13714,     0.13814,     0.13914,     0.14014,     0.14114,     0.14214,     0.14314,\n",
      "           0.14414,     0.14515,     0.14615,     0.14715,     0.14815,     0.14915,     0.15015,     0.15115,     0.15215,     0.15315,     0.15415,     0.15516,     0.15616,     0.15716,     0.15816,     0.15916,     0.16016,     0.16116,     0.16216,     0.16316,     0.16416,     0.16517,     0.16617,     0.16717,\n",
      "           0.16817,     0.16917,     0.17017,     0.17117,     0.17217,     0.17317,     0.17417,     0.17518,     0.17618,     0.17718,     0.17818,     0.17918,     0.18018,     0.18118,     0.18218,     0.18318,     0.18418,     0.18519,     0.18619,     0.18719,     0.18819,     0.18919,     0.19019,     0.19119,\n",
      "           0.19219,     0.19319,     0.19419,      0.1952,      0.1962,      0.1972,      0.1982,      0.1992,      0.2002,      0.2012,      0.2022,      0.2032,      0.2042,     0.20521,     0.20621,     0.20721,     0.20821,     0.20921,     0.21021,     0.21121,     0.21221,     0.21321,     0.21421,     0.21522,\n",
      "           0.21622,     0.21722,     0.21822,     0.21922,     0.22022,     0.22122,     0.22222,     0.22322,     0.22422,     0.22523,     0.22623,     0.22723,     0.22823,     0.22923,     0.23023,     0.23123,     0.23223,     0.23323,     0.23423,     0.23524,     0.23624,     0.23724,     0.23824,     0.23924,\n",
      "           0.24024,     0.24124,     0.24224,     0.24324,     0.24424,     0.24525,     0.24625,     0.24725,     0.24825,     0.24925,     0.25025,     0.25125,     0.25225,     0.25325,     0.25425,     0.25526,     0.25626,     0.25726,     0.25826,     0.25926,     0.26026,     0.26126,     0.26226,     0.26326,\n",
      "           0.26426,     0.26527,     0.26627,     0.26727,     0.26827,     0.26927,     0.27027,     0.27127,     0.27227,     0.27327,     0.27427,     0.27528,     0.27628,     0.27728,     0.27828,     0.27928,     0.28028,     0.28128,     0.28228,     0.28328,     0.28428,     0.28529,     0.28629,     0.28729,\n",
      "           0.28829,     0.28929,     0.29029,     0.29129,     0.29229,     0.29329,     0.29429,      0.2953,      0.2963,      0.2973,      0.2983,      0.2993,      0.3003,      0.3013,      0.3023,      0.3033,      0.3043,     0.30531,     0.30631,     0.30731,     0.30831,     0.30931,     0.31031,     0.31131,\n",
      "           0.31231,     0.31331,     0.31431,     0.31532,     0.31632,     0.31732,     0.31832,     0.31932,     0.32032,     0.32132,     0.32232,     0.32332,     0.32432,     0.32533,     0.32633,     0.32733,     0.32833,     0.32933,     0.33033,     0.33133,     0.33233,     0.33333,     0.33433,     0.33534,\n",
      "           0.33634,     0.33734,     0.33834,     0.33934,     0.34034,     0.34134,     0.34234,     0.34334,     0.34434,     0.34535,     0.34635,     0.34735,     0.34835,     0.34935,     0.35035,     0.35135,     0.35235,     0.35335,     0.35435,     0.35536,     0.35636,     0.35736,     0.35836,     0.35936,\n",
      "           0.36036,     0.36136,     0.36236,     0.36336,     0.36436,     0.36537,     0.36637,     0.36737,     0.36837,     0.36937,     0.37037,     0.37137,     0.37237,     0.37337,     0.37437,     0.37538,     0.37638,     0.37738,     0.37838,     0.37938,     0.38038,     0.38138,     0.38238,     0.38338,\n",
      "           0.38438,     0.38539,     0.38639,     0.38739,     0.38839,     0.38939,     0.39039,     0.39139,     0.39239,     0.39339,     0.39439,      0.3954,      0.3964,      0.3974,      0.3984,      0.3994,      0.4004,      0.4014,      0.4024,      0.4034,      0.4044,     0.40541,     0.40641,     0.40741,\n",
      "           0.40841,     0.40941,     0.41041,     0.41141,     0.41241,     0.41341,     0.41441,     0.41542,     0.41642,     0.41742,     0.41842,     0.41942,     0.42042,     0.42142,     0.42242,     0.42342,     0.42442,     0.42543,     0.42643,     0.42743,     0.42843,     0.42943,     0.43043,     0.43143,\n",
      "           0.43243,     0.43343,     0.43443,     0.43544,     0.43644,     0.43744,     0.43844,     0.43944,     0.44044,     0.44144,     0.44244,     0.44344,     0.44444,     0.44545,     0.44645,     0.44745,     0.44845,     0.44945,     0.45045,     0.45145,     0.45245,     0.45345,     0.45445,     0.45546,\n",
      "           0.45646,     0.45746,     0.45846,     0.45946,     0.46046,     0.46146,     0.46246,     0.46346,     0.46446,     0.46547,     0.46647,     0.46747,     0.46847,     0.46947,     0.47047,     0.47147,     0.47247,     0.47347,     0.47447,     0.47548,     0.47648,     0.47748,     0.47848,     0.47948,\n",
      "           0.48048,     0.48148,     0.48248,     0.48348,     0.48448,     0.48549,     0.48649,     0.48749,     0.48849,     0.48949,     0.49049,     0.49149,     0.49249,     0.49349,     0.49449,      0.4955,      0.4965,      0.4975,      0.4985,      0.4995,      0.5005,      0.5015,      0.5025,      0.5035,\n",
      "            0.5045,     0.50551,     0.50651,     0.50751,     0.50851,     0.50951,     0.51051,     0.51151,     0.51251,     0.51351,     0.51451,     0.51552,     0.51652,     0.51752,     0.51852,     0.51952,     0.52052,     0.52152,     0.52252,     0.52352,     0.52452,     0.52553,     0.52653,     0.52753,\n",
      "           0.52853,     0.52953,     0.53053,     0.53153,     0.53253,     0.53353,     0.53453,     0.53554,     0.53654,     0.53754,     0.53854,     0.53954,     0.54054,     0.54154,     0.54254,     0.54354,     0.54454,     0.54555,     0.54655,     0.54755,     0.54855,     0.54955,     0.55055,     0.55155,\n",
      "           0.55255,     0.55355,     0.55455,     0.55556,     0.55656,     0.55756,     0.55856,     0.55956,     0.56056,     0.56156,     0.56256,     0.56356,     0.56456,     0.56557,     0.56657,     0.56757,     0.56857,     0.56957,     0.57057,     0.57157,     0.57257,     0.57357,     0.57457,     0.57558,\n",
      "           0.57658,     0.57758,     0.57858,     0.57958,     0.58058,     0.58158,     0.58258,     0.58358,     0.58458,     0.58559,     0.58659,     0.58759,     0.58859,     0.58959,     0.59059,     0.59159,     0.59259,     0.59359,     0.59459,      0.5956,      0.5966,      0.5976,      0.5986,      0.5996,\n",
      "            0.6006,      0.6016,      0.6026,      0.6036,      0.6046,     0.60561,     0.60661,     0.60761,     0.60861,     0.60961,     0.61061,     0.61161,     0.61261,     0.61361,     0.61461,     0.61562,     0.61662,     0.61762,     0.61862,     0.61962,     0.62062,     0.62162,     0.62262,     0.62362,\n",
      "           0.62462,     0.62563,     0.62663,     0.62763,     0.62863,     0.62963,     0.63063,     0.63163,     0.63263,     0.63363,     0.63463,     0.63564,     0.63664,     0.63764,     0.63864,     0.63964,     0.64064,     0.64164,     0.64264,     0.64364,     0.64464,     0.64565,     0.64665,     0.64765,\n",
      "           0.64865,     0.64965,     0.65065,     0.65165,     0.65265,     0.65365,     0.65465,     0.65566,     0.65666,     0.65766,     0.65866,     0.65966,     0.66066,     0.66166,     0.66266,     0.66366,     0.66466,     0.66567,     0.66667,     0.66767,     0.66867,     0.66967,     0.67067,     0.67167,\n",
      "           0.67267,     0.67367,     0.67467,     0.67568,     0.67668,     0.67768,     0.67868,     0.67968,     0.68068,     0.68168,     0.68268,     0.68368,     0.68468,     0.68569,     0.68669,     0.68769,     0.68869,     0.68969,     0.69069,     0.69169,     0.69269,     0.69369,     0.69469,      0.6957,\n",
      "            0.6967,      0.6977,      0.6987,      0.6997,      0.7007,      0.7017,      0.7027,      0.7037,      0.7047,     0.70571,     0.70671,     0.70771,     0.70871,     0.70971,     0.71071,     0.71171,     0.71271,     0.71371,     0.71471,     0.71572,     0.71672,     0.71772,     0.71872,     0.71972,\n",
      "           0.72072,     0.72172,     0.72272,     0.72372,     0.72472,     0.72573,     0.72673,     0.72773,     0.72873,     0.72973,     0.73073,     0.73173,     0.73273,     0.73373,     0.73473,     0.73574,     0.73674,     0.73774,     0.73874,     0.73974,     0.74074,     0.74174,     0.74274,     0.74374,\n",
      "           0.74474,     0.74575,     0.74675,     0.74775,     0.74875,     0.74975,     0.75075,     0.75175,     0.75275,     0.75375,     0.75475,     0.75576,     0.75676,     0.75776,     0.75876,     0.75976,     0.76076,     0.76176,     0.76276,     0.76376,     0.76476,     0.76577,     0.76677,     0.76777,\n",
      "           0.76877,     0.76977,     0.77077,     0.77177,     0.77277,     0.77377,     0.77477,     0.77578,     0.77678,     0.77778,     0.77878,     0.77978,     0.78078,     0.78178,     0.78278,     0.78378,     0.78478,     0.78579,     0.78679,     0.78779,     0.78879,     0.78979,     0.79079,     0.79179,\n",
      "           0.79279,     0.79379,     0.79479,      0.7958,      0.7968,      0.7978,      0.7988,      0.7998,      0.8008,      0.8018,      0.8028,      0.8038,      0.8048,     0.80581,     0.80681,     0.80781,     0.80881,     0.80981,     0.81081,     0.81181,     0.81281,     0.81381,     0.81481,     0.81582,\n",
      "           0.81682,     0.81782,     0.81882,     0.81982,     0.82082,     0.82182,     0.82282,     0.82382,     0.82482,     0.82583,     0.82683,     0.82783,     0.82883,     0.82983,     0.83083,     0.83183,     0.83283,     0.83383,     0.83483,     0.83584,     0.83684,     0.83784,     0.83884,     0.83984,\n",
      "           0.84084,     0.84184,     0.84284,     0.84384,     0.84484,     0.84585,     0.84685,     0.84785,     0.84885,     0.84985,     0.85085,     0.85185,     0.85285,     0.85385,     0.85485,     0.85586,     0.85686,     0.85786,     0.85886,     0.85986,     0.86086,     0.86186,     0.86286,     0.86386,\n",
      "           0.86486,     0.86587,     0.86687,     0.86787,     0.86887,     0.86987,     0.87087,     0.87187,     0.87287,     0.87387,     0.87487,     0.87588,     0.87688,     0.87788,     0.87888,     0.87988,     0.88088,     0.88188,     0.88288,     0.88388,     0.88488,     0.88589,     0.88689,     0.88789,\n",
      "           0.88889,     0.88989,     0.89089,     0.89189,     0.89289,     0.89389,     0.89489,      0.8959,      0.8969,      0.8979,      0.8989,      0.8999,      0.9009,      0.9019,      0.9029,      0.9039,      0.9049,     0.90591,     0.90691,     0.90791,     0.90891,     0.90991,     0.91091,     0.91191,\n",
      "           0.91291,     0.91391,     0.91491,     0.91592,     0.91692,     0.91792,     0.91892,     0.91992,     0.92092,     0.92192,     0.92292,     0.92392,     0.92492,     0.92593,     0.92693,     0.92793,     0.92893,     0.92993,     0.93093,     0.93193,     0.93293,     0.93393,     0.93493,     0.93594,\n",
      "           0.93694,     0.93794,     0.93894,     0.93994,     0.94094,     0.94194,     0.94294,     0.94394,     0.94494,     0.94595,     0.94695,     0.94795,     0.94895,     0.94995,     0.95095,     0.95195,     0.95295,     0.95395,     0.95495,     0.95596,     0.95696,     0.95796,     0.95896,     0.95996,\n",
      "           0.96096,     0.96196,     0.96296,     0.96396,     0.96496,     0.96597,     0.96697,     0.96797,     0.96897,     0.96997,     0.97097,     0.97197,     0.97297,     0.97397,     0.97497,     0.97598,     0.97698,     0.97798,     0.97898,     0.97998,     0.98098,     0.98198,     0.98298,     0.98398,\n",
      "           0.98498,     0.98599,     0.98699,     0.98799,     0.98899,     0.98999,     0.99099,     0.99199,     0.99299,     0.99399,     0.99499,       0.996,       0.997,       0.998,       0.999,           1]), array([[    0.56287,     0.56287,     0.55689,      0.5479,     0.53892,     0.52994,     0.51031,     0.49102,     0.48802,     0.48204,     0.48204,     0.47605,     0.47605,     0.47305,     0.46707,     0.46108,     0.45509,     0.45509,     0.45509,     0.45509,      0.4491,     0.44611,     0.43713,\n",
      "            0.43713,     0.43713,     0.43713,     0.42515,     0.42216,     0.42216,     0.41916,     0.41916,     0.41916,     0.41916,     0.41617,     0.41317,     0.41317,     0.41317,     0.41018,     0.41018,     0.40419,      0.3982,     0.39521,     0.39521,     0.39521,     0.39521,     0.38638,\n",
      "            0.38623,     0.38623,     0.38323,     0.37448,     0.37425,     0.37425,     0.37425,     0.37126,     0.36826,     0.36529,     0.35928,     0.35928,     0.35928,     0.35928,     0.35928,     0.35928,     0.35928,     0.35928,     0.35928,     0.35928,     0.35629,     0.34931,     0.34431,\n",
      "            0.34431,     0.34431,     0.34132,     0.34132,     0.34132,     0.33533,     0.33533,     0.33533,     0.33533,     0.33533,     0.33533,     0.33533,     0.33533,     0.33533,     0.33533,     0.33234,     0.33234,     0.33108,     0.32768,     0.32573,     0.32335,     0.32335,     0.32335,\n",
      "            0.32335,     0.31737,     0.31737,     0.31502,     0.31437,     0.31437,     0.31437,     0.31437,     0.31371,     0.31257,     0.31143,     0.31138,     0.31138,     0.31138,     0.31111,     0.30838,     0.30838,     0.30838,     0.30838,     0.30838,     0.30838,     0.30838,     0.30838,\n",
      "            0.30838,     0.30838,     0.30838,     0.30838,     0.30838,     0.30838,     0.30783,     0.30714,     0.30645,     0.30576,     0.30539,     0.30539,     0.30539,     0.30539,     0.30539,     0.30539,     0.30539,     0.30539,     0.30153,      0.2994,      0.2994,     0.29641,     0.29612,\n",
      "            0.29514,     0.29416,     0.29341,     0.29341,     0.29341,      0.2927,     0.29042,     0.29042,     0.29012,     0.28842,     0.28743,     0.28743,     0.28743,     0.28417,     0.28144,     0.28144,     0.28144,     0.28029,      0.2785,     0.27844,     0.27844,     0.27567,     0.27545,\n",
      "            0.27545,     0.27545,     0.27545,     0.27246,     0.27246,     0.27246,     0.27246,     0.27246,     0.27246,     0.27246,     0.27246,     0.27244,     0.26946,     0.26946,     0.26946,     0.26927,     0.26804,     0.26681,     0.26647,     0.26647,     0.26647,     0.26647,     0.26647,\n",
      "            0.26647,     0.26647,     0.26647,     0.26427,     0.26347,     0.26347,     0.26347,     0.26347,     0.26347,     0.26347,     0.26347,     0.26285,      0.2619,     0.26096,     0.26048,     0.26048,     0.26048,     0.25871,     0.25749,     0.25749,     0.25749,     0.25749,     0.25749,\n",
      "            0.25595,     0.25449,     0.25449,     0.25449,     0.25418,     0.25236,      0.2515,      0.2515,      0.2515,      0.2515,     0.25065,     0.24924,     0.24788,     0.24657,     0.24551,     0.24551,     0.24551,     0.24551,     0.24551,     0.24551,     0.24551,     0.24551,     0.24551,\n",
      "            0.24551,     0.24551,     0.24551,     0.24551,     0.24551,     0.24551,     0.24251,     0.24251,     0.24251,     0.24251,     0.23952,     0.23952,     0.23952,     0.23952,     0.23952,     0.23952,     0.23952,     0.23952,     0.23952,     0.23952,     0.23952,     0.23952,     0.23952,\n",
      "            0.23952,     0.23952,     0.23952,     0.23952,     0.23952,      0.2395,     0.23866,     0.23781,     0.23697,     0.23653,     0.23653,     0.23653,     0.23653,     0.23653,     0.23653,     0.23653,     0.23362,     0.23353,     0.23353,     0.23353,     0.23353,     0.23353,     0.23353,\n",
      "            0.23353,     0.23353,     0.23329,     0.23294,     0.23259,     0.23224,     0.23189,     0.23154,     0.23119,     0.23083,     0.23054,     0.23054,     0.23054,     0.23054,     0.23054,     0.23054,     0.23054,     0.23054,     0.23026,     0.22951,     0.22875,       0.228,     0.22754,\n",
      "            0.22754,     0.22754,     0.22718,     0.22661,     0.22603,     0.22545,     0.22487,     0.22455,     0.22455,     0.22455,     0.22455,     0.22455,     0.22455,     0.22455,     0.22455,     0.22455,     0.22455,     0.22335,     0.22179,     0.22156,     0.22156,     0.22156,     0.22156,\n",
      "            0.22156,     0.22156,     0.22101,      0.2191,     0.21814,     0.21754,     0.21695,     0.21635,     0.21576,     0.21548,     0.21486,     0.21424,     0.21361,     0.21299,     0.20774,     0.20596,     0.20518,      0.2044,     0.20361,     0.20234,     0.20106,      0.2006,      0.2006,\n",
      "             0.2006,     0.19972,     0.19882,     0.19791,     0.19443,     0.19162,     0.19162,     0.19162,     0.19162,     0.19162,     0.19162,     0.19162,     0.19162,     0.19162,     0.19162,     0.19162,     0.19162,     0.19162,     0.19162,     0.19162,     0.19162,     0.19162,     0.19162,\n",
      "            0.19162,     0.19162,     0.19162,     0.19162,     0.19162,     0.19162,     0.19162,     0.19162,     0.19162,     0.19102,     0.18862,     0.18862,     0.18862,     0.18862,     0.18862,     0.18862,     0.18862,     0.18862,      0.1871,     0.18539,     0.18505,     0.18471,     0.18437,\n",
      "            0.18403,     0.18369,     0.18335,     0.18301,     0.18267,     0.18263,     0.18263,     0.18263,     0.18263,     0.18263,     0.18263,     0.18263,     0.18263,     0.17748,     0.17665,     0.17665,     0.17665,     0.17665,     0.17665,     0.17665,     0.17665,     0.17665,     0.17665,\n",
      "            0.17665,     0.17637,     0.17599,     0.17561,     0.17522,     0.17484,     0.17446,     0.17408,     0.17369,     0.17365,     0.17365,     0.17365,     0.17365,     0.17365,     0.17365,     0.17365,     0.17365,     0.17365,     0.17365,     0.17365,     0.17365,     0.17365,     0.17365,\n",
      "            0.17365,     0.17365,     0.17365,     0.17365,     0.17365,     0.17365,     0.17365,     0.17365,     0.17365,     0.17365,     0.17365,     0.17365,     0.17365,     0.17365,     0.17365,     0.17365,     0.17365,     0.17365,     0.17365,     0.17365,     0.17365,     0.17365,     0.17365,\n",
      "            0.17066,     0.17066,     0.17066,     0.17066,     0.17066,     0.17066,     0.17066,     0.17066,     0.17066,     0.17066,     0.17066,     0.17066,     0.17066,     0.17066,     0.17066,     0.17066,     0.17066,     0.17066,     0.17066,     0.17066,     0.17066,     0.17066,     0.17066,\n",
      "            0.17066,     0.17066,     0.17066,     0.17066,     0.17066,     0.17066,     0.17066,     0.17066,     0.17066,     0.17066,     0.17065,     0.17022,      0.1698,     0.16937,     0.16895,     0.16852,      0.1681,     0.16767,     0.16737,     0.16525,     0.16467,     0.16347,     0.16168,\n",
      "            0.16168,     0.16168,     0.16168,     0.16168,     0.16168,     0.16168,     0.16168,     0.16168,     0.16168,     0.16168,     0.16168,     0.16168,     0.16168,     0.16168,     0.16152,     0.15569,     0.15569,     0.15569,     0.15569,     0.15569,     0.15249,     0.15111,     0.14972,\n",
      "             0.1497,      0.1497,      0.1497,      0.1497,      0.1497,      0.1497,      0.1497,     0.14956,     0.14915,     0.14874,     0.14833,     0.14793,     0.14752,     0.14711,     0.14671,     0.14671,     0.14671,     0.14671,     0.14671,     0.14671,     0.14671,     0.14671,     0.14671,\n",
      "            0.14671,     0.14671,     0.14671,     0.14671,     0.14671,     0.14671,     0.14671,     0.14671,     0.14671,     0.14671,     0.14671,     0.14671,     0.14661,     0.14596,     0.14531,     0.14467,     0.14402,     0.14359,     0.14336,     0.14312,     0.14289,     0.14266,     0.14242,\n",
      "            0.14219,     0.14196,     0.14172,     0.14149,     0.14126,     0.14102,     0.14079,     0.14072,     0.14072,     0.14043,     0.14011,      0.1398,     0.13948,     0.13917,     0.13885,     0.13854,     0.13822,     0.13791,     0.13772,     0.13772,     0.13772,     0.13772,     0.13772,\n",
      "            0.13772,     0.13772,     0.13647,     0.13473,     0.13473,     0.13473,     0.13473,     0.13473,     0.13473,     0.13473,     0.13473,     0.13473,     0.13463,     0.13426,     0.13389,     0.13353,     0.13316,     0.13279,     0.13242,     0.13205,      0.1317,     0.13145,      0.1312,\n",
      "            0.13095,      0.1307,     0.13045,      0.1302,     0.12995,      0.1297,     0.12945,      0.1292,     0.12895,     0.12865,     0.12814,     0.12763,     0.12711,      0.1266,     0.12608,     0.12556,     0.12502,     0.12448,     0.12393,     0.12339,     0.12285,     0.12226,     0.12166,\n",
      "            0.12106,     0.12047,     0.11987,     0.11654,     0.11435,     0.11377,     0.11377,     0.11375,     0.11358,     0.11341,     0.11324,     0.11307,      0.1129,     0.11272,     0.11255,     0.11238,     0.11221,     0.11204,     0.11186,     0.11169,     0.11152,     0.11135,     0.11118,\n",
      "              0.111,     0.11083,      0.1106,     0.11035,     0.11009,     0.10984,     0.10958,     0.10933,     0.10907,     0.10882,     0.10856,     0.10831,     0.10805,      0.1078,     0.10677,     0.10569,     0.10479,     0.10479,     0.10479,     0.10479,     0.10479,     0.10479,     0.10479,\n",
      "            0.10479,     0.10479,     0.10479,     0.10479,     0.10479,     0.10479,     0.10063,    0.098621,    0.097823,    0.097025,    0.096227,    0.095111,    0.093643,    0.092035,    0.090248,    0.089623,    0.089364,    0.089106,    0.088847,    0.088588,    0.088329,     0.08807,    0.087811,\n",
      "           0.087552,    0.087293,    0.087034,    0.083826,    0.083457,    0.083088,    0.082719,     0.08235,    0.081981,    0.081612,    0.081243,    0.080874,    0.080426,     0.07997,    0.079513,    0.079057,    0.078601,    0.078145,    0.077351,    0.075907,    0.074564,    0.073494,    0.072424,\n",
      "           0.071856,    0.071856,    0.071856,    0.071856,    0.071856,    0.071856,    0.071856,    0.071856,    0.071856,    0.071856,    0.071856,    0.071856,    0.071856,    0.071856,    0.071856,    0.071856,    0.071253,    0.070244,    0.069235,    0.068862,    0.067899,    0.066567,    0.065868,\n",
      "           0.065868,    0.065868,    0.065868,    0.065555,     0.06498,    0.064406,    0.063832,    0.063258,    0.062712,    0.062221,    0.061731,    0.061241,    0.060751,    0.060261,    0.059816,    0.059527,    0.059238,     0.05895,    0.058661,    0.058373,    0.058084,    0.057795,    0.057507,\n",
      "           0.057218,     0.05693,    0.056886,    0.056886,    0.056886,    0.056873,     0.05591,    0.054948,    0.053985,    0.053748,    0.053589,     0.05343,    0.053271,    0.053112,    0.052953,    0.052794,    0.052635,    0.052476,    0.052317,    0.052158,    0.051999,    0.051839,     0.05168,\n",
      "           0.051521,    0.051362,    0.051203,    0.051044,     0.05087,    0.050537,    0.050204,     0.04987,    0.049537,    0.049204,     0.04887,    0.048537,    0.048203,    0.047887,    0.047716,    0.047546,    0.047375,    0.047205,    0.047035,    0.046864,    0.046694,    0.046523,    0.046353,\n",
      "           0.046182,    0.046012,    0.045841,    0.045671,    0.045501,     0.04533,     0.04516,    0.044989,    0.044576,    0.043953,     0.04333,    0.042707,    0.042084,    0.040879,    0.039457,    0.035916,    0.032711,    0.030108,    0.029476,     0.02898,    0.028484,    0.027988,    0.027492,\n",
      "           0.026995,    0.026946,    0.026946,    0.026946,    0.026946,    0.026946,    0.026946,    0.026946,    0.026946,    0.026946,    0.026946,    0.026946,    0.026946,    0.026946,    0.026946,    0.026946,    0.026946,    0.026946,    0.026946,    0.026946,    0.026523,    0.026038,    0.025554,\n",
      "           0.025069,    0.024584,    0.024099,    0.023689,     0.02331,    0.022932,    0.022554,    0.022176,    0.021798,    0.021419,    0.021041,    0.019637,    0.017961,    0.017734,    0.017506,    0.017278,     0.01705,    0.016823,    0.016595,    0.016367,    0.016139,    0.015912,    0.015684,\n",
      "           0.015456,    0.015229,    0.015001,    0.014696,    0.014379,    0.014063,    0.013746,    0.013429,    0.013113,    0.012796,    0.012479,    0.012163,    0.011913,     0.01176,    0.011608,    0.011455,    0.011302,    0.011149,    0.010996,    0.010843,     0.01069,    0.010538,    0.010385,\n",
      "           0.010232,    0.010079,   0.0099261,   0.0097733,   0.0096204,   0.0094675,   0.0093147,   0.0091618,    0.009009,   0.0084109,   0.0077176,   0.0070243,    0.006331,   0.0058836,   0.0056771,   0.0054705,   0.0052639,   0.0050573,   0.0048507,   0.0046441,   0.0044375,   0.0042309,   0.0040244,\n",
      "          0.0038178,   0.0036112,   0.0034046,    0.003198,           0,           0,           0,           0,           0,           0,           0,           0,           0,           0,           0,           0,           0,           0,           0,           0,           0,           0,           0,\n",
      "                  0,           0,           0,           0,           0,           0,           0,           0,           0,           0,           0,           0,           0,           0,           0,           0,           0,           0,           0,           0,           0,           0,           0,\n",
      "                  0,           0,           0,           0,           0,           0,           0,           0,           0,           0,           0]]), 'Confidence', 'Recall']]\n",
      "fitness: 0.3543358822451884\n",
      "keys: ['metrics/precision(B)', 'metrics/recall(B)', 'metrics/mAP50(B)', 'metrics/mAP50-95(B)', 'metrics/precision(M)', 'metrics/recall(M)', 'metrics/mAP50(M)', 'metrics/mAP50-95(M)']\n",
      "maps: array([    0.30642])\n",
      "names: {0: 'Satellite'}\n",
      "plot: True\n",
      "results_dict: {'metrics/precision(B)': 0.5704148539470089, 'metrics/recall(B)': 0.4373090384017858, 'metrics/mAP50(B)': 0.4692746174769949, 'metrics/mAP50-95(B)': 0.21671873571961076, 'metrics/precision(M)': 0.38278146949348857, 'metrics/recall(M)': 0.33532934131736525, 'metrics/mAP50(M)': 0.31629566687197047, 'metrics/mAP50-95(M)': 0.08970221295849132, 'fitness': 0.3543358822451884}\n",
      "save_dir: PosixPath('models/train42')\n",
      "seg: ultralytics.utils.metrics.Metric object\n",
      "speed: {'preprocess': 1.2013912200927734, 'inference': 169.8495864868164, 'loss': 0.00019073486328125, 'postprocess': 1.490020751953125}\n",
      "task: 'segment'\n"
     ]
    }
   ],
   "source": [
    "\n",
    "# Initialize the model for segmentation\n",
    "# Replace 'yolov8n-seg.pt' with the specific model you intend to use, e.g., 'yolov8s-seg.pt', 'yolov8m-seg.pt', etc.\n",
    "model = YOLO('yolov8s-seg.pt')  \n",
    "\n",
    "model.train(data='demo3-1/data.yaml', epochs=50, project='models')  \n",
    "\n",
    "# Evaluate the model's performance on the validation set\n",
    "metrics = model.val()  \n",
    "print(metrics)\n"
   ]
  },
  {
   "cell_type": "code",
   "execution_count": 28,
   "metadata": {},
   "outputs": [
    {
     "name": "stdout",
     "output_type": "stream",
     "text": [
      "\n",
      "0: 480x640 23 Satellites, 156.0ms\n",
      "Speed: 2.3ms preprocess, 156.0ms inference, 5.0ms postprocess per image at shape (1, 3, 480, 640)\n"
     ]
    }
   ],
   "source": [
    "import matplotlib.pyplot as plt  # Import matplotlib for plotting\n",
    "from PIL import Image  # For loading images\n",
    "\n",
    "# Load the trained model (replace 'yolov8n-seg.pt' with your model's weight file)\n",
    "# model = YOLO('models/yolov8s_trained_weights.pt')  # Use the path to your trained weights\n",
    "model = YOLO('/Users/sprice/Documents/GitHub/satellite_v2/conferenceDemoTest/models/train4/weights/best.pt') \n",
    "# Load the first image from your validation dataset\n",
    "# Replace 'path/to/first/validation/image.jpg' with the path to the actual image\n",
    "image_path = '/Users/sprice/Documents/GitHub/satellite_v2/conferenceDemoTest/demo3-1/test/images/S08_02_SE1_1000X99_png.rf.053590ae637b3f347e0398ef6f654718.jpg'\n",
    "image2_path = '/Users/sprice/Documents/GitHub/satellite_v2/conferenceDemoTest/demo3-1/train/images/S04_03_SE1_1000X53_png.rf.2f2a18cf111b493923e35151663798b4.jpg'\n",
    "\n",
    "image = Image.open(image_path)\n",
    "image2 = Image.open(image2_path)\n",
    "\n",
    "# Perform prediction (detection)\n",
    "results = model(image2)\n",
    "\n",
    "annotated_image = results[0].plot()\n",
    "\n",
    "if not isinstance(annotated_image, Image.Image):\n",
    "    annotated_image = Image.fromarray(annotated_image)\n",
    "    \n",
    "\n",
    "# Display the annotated image\n",
    "plt.figure(figsize=(26, 20))  # Adjust the figure size as needed\n",
    "plt.imshow(annotated_image)\n",
    "plt.axis('off')  # Hide axes ticks\n",
    "plt.savefig(f'output.png')\n",
    "\n",
    "\n"
   ]
  },
  {
   "cell_type": "code",
   "execution_count": 140,
   "metadata": {},
   "outputs": [
    {
     "name": "stdout",
     "output_type": "stream",
     "text": [
      "Area: 9401.0\n",
      "Perimeter: 411.5807358037436\n",
      "Eccentricity: 0.8161431438322478\n",
      "Roundness: 0.5476774318059879\n",
      "Equivalent Diameter: 109.40623821361953\n",
      "Feret Diameter: 153.37861650177967\n",
      "Centroid Location: (361.7716200404212, 334.2726305712158)\n",
      "Major Axis: 147.83581607611782\n",
      "Minor Axis: 85.42689386344671\n",
      "Elongation: 0.5778497804582216\n",
      "Crofton Perimeter: 392.88452265348957\n",
      "Solidity: 0.9481593545133636\n",
      "Convex Area: 9915.0\n",
      "Extent: 0.7852489141329769\n",
      "Convexity: 0.021892592329986364\n",
      "Aspect Ratio: 1.7305535691421792\n",
      "Fractal Dimension: 1.0058658002289285\n",
      "Form Factor: 0.6973869852112937\n",
      "Rectangularity: 0.7852489141329769\n",
      "Compactness: 1.4339240926571362\n",
      "Shape Factor: 0.235576511928006\n",
      "Convex Area Ratio: 0.9481593545133636\n",
      "Centroid To Center: 6.463476004781073\n",
      "------------------------------\n",
      "Area: 7836.0\n",
      "Perimeter: 356.06601717798213\n",
      "Eccentricity: 0.6557172149265622\n",
      "Roundness: 0.7290534242434824\n",
      "Equivalent Diameter: 99.88545976539696\n",
      "Feret Diameter: 125.60254774486066\n",
      "Centroid Location: (294.93415007656967, 551.0809086268505)\n",
      "Major Axis: 116.98295727301542\n",
      "Minor Axis: 88.32290234997502\n",
      "Elongation: 0.7550065788117032\n",
      "Crofton Perimeter: 340.2532691035078\n",
      "Solidity: 0.9501636958894143\n",
      "Convex Area: 8247.0\n",
      "Extent: 0.7681599843152632\n",
      "Convexity: 0.02271988368925358\n",
      "Aspect Ratio: 1.324491770090122\n",
      "Fractal Dimension: 1.1320911329040302\n",
      "Form Factor: 0.7766819957186984\n",
      "Rectangularity: 0.7681599843152632\n",
      "Compactness: 1.2875282361536595\n",
      "Shape Factor: 0.2486089085583109\n",
      "Convex Area Ratio: 0.9501636958894143\n",
      "Centroid To Center: 7.768219659657735\n",
      "------------------------------\n",
      "Area: 9150.0\n",
      "Perimeter: 377.9655121145938\n",
      "Eccentricity: 0.7190180642014568\n",
      "Roundness: 0.6866297067207481\n",
      "Equivalent Diameter: 107.93582275744573\n",
      "Feret Diameter: 135.07405376311175\n",
      "Centroid Location: (348.4807650273224, 956.9245901639345)\n",
      "Major Axis: 130.2579718534399\n",
      "Minor Axis: 90.52816809026307\n",
      "Elongation: 0.6949913836530563\n",
      "Crofton Perimeter: 361.01529220580073\n",
      "Solidity: 0.9662090813093981\n",
      "Convex Area: 9470.0\n",
      "Extent: 0.8187186828919112\n",
      "Convexity: 0.020649339604162688\n",
      "Aspect Ratio: 1.4388667593887836\n",
      "Fractal Dimension: 1.033656854589122\n",
      "Form Factor: 0.8048716123143907\n",
      "Rectangularity: 0.8187186828919112\n",
      "Compactness: 1.242434177948607\n",
      "Shape Factor: 0.2530803189248217\n",
      "Convex Area Ratio: 0.9662090813093981\n",
      "Centroid To Center: 4.360934603570711\n",
      "------------------------------\n",
      "Area: 22564.0\n",
      "Perimeter: 665.0853531617383\n",
      "Eccentricity: 0.3899661538950953\n",
      "Roundness: 0.8800851898111125\n",
      "Equivalent Diameter: 169.4974250170315\n",
      "Feret Diameter: 197.80040444852483\n",
      "Centroid Location: (399.7507090941322, 128.55929799680908)\n",
      "Major Axis: 180.67611706133687\n",
      "Minor Axis: 166.3718426888112\n",
      "Elongation: 0.9208291909014761\n",
      "Crofton Perimeter: 633.2219704968855\n",
      "Solidity: 0.8806838140587799\n",
      "Convex Area: 25621.0\n",
      "Extent: 0.6488382792730619\n",
      "Convexity: 0.014740366869719378\n",
      "Aspect Ratio: 1.0859777360240037\n",
      "Fractal Dimension: 1.1340308203944773\n",
      "Form Factor: 0.641019421192391\n",
      "Rectangularity: 0.6488382792730619\n",
      "Compactness: 1.5600151367330684\n",
      "Shape Factor: 0.22585549528478896\n",
      "Convex Area Ratio: 0.8806838140587799\n",
      "Centroid To Center: 8.877164569374532\n",
      "------------------------------\n",
      "Area: 5189.0\n",
      "Perimeter: 340.492424049175\n",
      "Eccentricity: 0.9232685146093019\n",
      "Roundness: 0.3546312218066611\n",
      "Equivalent Diameter: 81.28247042032346\n",
      "Feret Diameter: 131.65485179058157\n",
      "Centroid Location: (442.97436885719793, 811.4183850452881)\n",
      "Major Axis: 136.49238123622519\n",
      "Minor Axis: 52.43426374052672\n",
      "Elongation: 0.38415524196753204\n",
      "Crofton Perimeter: 325.4885769833509\n",
      "Solidity: 0.8595328805698195\n",
      "Convex Area: 6037.0\n",
      "Extent: 0.5057504873294347\n",
      "Convexity: 0.03281538396773082\n",
      "Aspect Ratio: 2.6031142901455393\n",
      "Fractal Dimension: 1.0702749878828304\n",
      "Form Factor: 0.5624431451110739\n",
      "Rectangularity: 0.5057504873294347\n",
      "Compactness: 1.7779574854672917\n",
      "Shape Factor: 0.21156040124817735\n",
      "Convex Area Ratio: 0.8595328805698195\n",
      "Centroid To Center: 9.003906700918337\n",
      "------------------------------\n",
      "Area: 3533.0\n",
      "Perimeter: 233.9827560572969\n",
      "Eccentricity: 0.6997990319797168\n",
      "Roundness: 0.6977564937665882\n",
      "Equivalent Diameter: 67.06977942075946\n",
      "Feret Diameter: 81.93900170248598\n",
      "Centroid Location: (302.10359467874326, 829.1191621851118)\n",
      "Major Axis: 80.292491522528\n",
      "Minor Axis: 57.35612036735027\n",
      "Elongation: 0.7143397754852037\n",
      "Crofton Perimeter: 224.511079837151\n",
      "Solidity: 0.9566747901435148\n",
      "Convex Area: 3693.0\n",
      "Extent: 0.8411904761904762\n",
      "Convexity: 0.033123266712527875\n",
      "Aspect Ratio: 1.3998940480680446\n",
      "Fractal Dimension: 0.9559568289922755\n",
      "Form Factor: 0.8109345371295489\n",
      "Rectangularity: 0.8411904761904762\n",
      "Compactness: 1.233145160569536\n",
      "Shape Factor: 0.2540317304079412\n",
      "Convex Area Ratio: 0.9566747901435148\n",
      "Centroid To Center: 3.043803844417781\n",
      "------------------------------\n",
      "Area: 2146.0\n",
      "Perimeter: 199.43860018001263\n",
      "Eccentricity: 0.8606209142731033\n",
      "Roundness: 0.48453426335682526\n",
      "Equivalent Diameter: 52.272096409094395\n",
      "Feret Diameter: 78.00640999302557\n",
      "Centroid Location: (397.8355079217148, 762.8732525629077)\n",
      "Major Axis: 75.09442073048439\n",
      "Minor Axis: 38.24154468962797\n",
      "Elongation: 0.5092461506145411\n",
      "Crofton Perimeter: 191.7611664510502\n",
      "Solidity: 0.9338555265448216\n",
      "Convex Area: 2298.0\n",
      "Extent: 0.6082766439909297\n",
      "Convexity: 0.04646752101118654\n",
      "Aspect Ratio: 1.96368691013812\n",
      "Fractal Dimension: 1.1101916502022227\n",
      "Form Factor: 0.6779866573117905\n",
      "Rectangularity: 0.6082766439909297\n",
      "Compactness: 1.474955280041924\n",
      "Shape Factor: 0.23227669691719227\n",
      "Convex Area Ratio: 0.9338555265448216\n",
      "Centroid To Center: 5.108015055146102\n",
      "------------------------------\n",
      "Area: 1698.0\n",
      "Perimeter: 161.88225099390857\n",
      "Eccentricity: 0.6383060381168699\n",
      "Roundness: 0.758117945269383\n",
      "Equivalent Diameter: 46.49688964823676\n",
      "Feret Diameter: 56.04462507680822\n",
      "Centroid Location: (414.7997644287397, 891.1118963486455)\n",
      "Major Axis: 53.401753018195464\n",
      "Minor Axis: 41.10774550113164\n",
      "Elongation: 0.7697826977164043\n",
      "Crofton Perimeter: 156.15551473640306\n",
      "Solidity: 0.9475446428571429\n",
      "Convex Area: 1792.0\n",
      "Extent: 0.7312661498708011\n",
      "Convexity: 0.047668507359808175\n",
      "Aspect Ratio: 1.2990679096406634\n",
      "Fractal Dimension: 1.1601090171072894\n",
      "Form Factor: 0.8142337136937023\n",
      "Rectangularity: 0.7312661498708011\n",
      "Compactness: 1.2281486054705162\n",
      "Shape Factor: 0.2545479526203499\n",
      "Convex Area Ratio: 0.9475446428571429\n",
      "Centroid To Center: 3.4883147017526195\n",
      "------------------------------\n",
      "Area: 548.0\n",
      "Perimeter: 98.38477631085024\n",
      "Eccentricity: 0.8725658725960507\n",
      "Roundness: 0.4583819243118104\n",
      "Equivalent Diameter: 26.414679072721462\n",
      "Feret Diameter: 39.92492955535426\n",
      "Centroid Location: (252.42700729927006, 1014.4981751824818)\n",
      "Major Axis: 39.01499870411074\n",
      "Minor Axis: 19.05868901535536\n",
      "Elongation: 0.4884964667023628\n",
      "Crofton Perimeter: 95.95613387749026\n",
      "Solidity: 0.9733570159857904\n",
      "Convex Area: 563.0\n",
      "Extent: 0.8228228228228228\n",
      "Convexity: 0.0897671316704838\n",
      "Aspect Ratio: 2.0470977134196806\n",
      "Fractal Dimension: 0.7924812503605767\n",
      "Form Factor: 0.7114340013099223\n",
      "Rectangularity: 0.8228228228228228\n",
      "Compactness: 1.4056117618201516\n",
      "Shape Factor: 0.23793721650061397\n",
      "Convex Area Ratio: 0.9733570159857904\n",
      "Centroid To Center: 3.113111410017353\n",
      "------------------------------\n"
     ]
    }
   ],
   "source": [
    "import numpy as np\n",
    "from skimage.draw import polygon\n",
    "from skimage.measure import regionprops\n",
    "from skimage.morphology import convex_hull_image\n",
    "import math\n",
    "\n",
    "def fractal_dimension(Z, threshold=0.9):\n",
    "    # Only for 2d image, Z is binary image\n",
    "    assert(len(Z.shape) == 2)\n",
    "    def boxcount(Z, k):\n",
    "        S = np.add.reduceat(\n",
    "            np.add.reduceat(Z, np.arange(0, Z.shape[0], k), axis=0),\n",
    "                           np.arange(0, Z.shape[1], k), axis=1)\n",
    "        return len(np.where((S > 0) & (S < k*k))[0])\n",
    "    # Transform Z into a binary array\n",
    "    Z = (Z < threshold)\n",
    "    p = min(Z.shape)\n",
    "    n = 2**np.floor(np.log(p)/np.log(2))\n",
    "    n = int(np.log(n)/np.log(2))\n",
    "    sizes = 2**np.arange(n, 1, -1)\n",
    "    counts = []\n",
    "    for size in sizes:\n",
    "        counts.append(boxcount(Z, size))\n",
    "    coeffs = np.polyfit(np.log(sizes), np.log(counts), 1)\n",
    "    return -coeffs[0]\n",
    "\n",
    "\n",
    "masks = [mask.xy for idx, mask in enumerate(results[0].masks)]\n",
    "for mask in masks:\n",
    "    x_coords = mask[0][:, 0]\n",
    "    y_coords = mask[0][:, 1]\n",
    "\n",
    "    polygon_mask = np.zeros((int(max(y_coords)) + 1, int(max(x_coords)) + 1), dtype=np.uint8)\n",
    "    rr, cc = polygon(y_coords, x_coords)\n",
    "    polygon_mask[rr, cc] = 1\n",
    "    props = regionprops(polygon_mask)\n",
    "\n",
    "    for prop in props:\n",
    "        print(\"Area:\", prop.area)\n",
    "        print(\"Perimeter:\", prop.perimeter)\n",
    "        print(\"Eccentricity:\", prop.eccentricity)\n",
    "        print('Roundness:', (4 * prop.area) / (np.pi * (prop.major_axis_length ** 2)))\n",
    "        print(\"Equivalent Diameter:\", prop.equivalent_diameter)\n",
    "        print('Feret Diameter:', prop.feret_diameter_max)\n",
    "        print(\"Centroid Location:\", prop.centroid)\n",
    "        print(\"Major Axis:\", prop.axis_major_length)\n",
    "        print(\"Minor Axis:\", prop.axis_minor_length)\n",
    "        print('Elongation:', prop.minor_axis_length / prop.major_axis_length)\n",
    "        print('Crofton Perimeter:', prop.perimeter_crofton)\n",
    "        print('Solidity:', prop.solidity)\n",
    "        print('Convex Area:',prop.area_convex)\n",
    "        print('Extent:', prop.extent)\n",
    "        print('Convexity:', prop.perimeter / np.sum(np.sqrt(convex_hull_image(prop.coords))))\n",
    "        print('Aspect Ratio:', prop.major_axis_length / prop.minor_axis_length)\n",
    "        print('Fractal Dimension:', fractal_dimension(prop.image))\n",
    "        print('Form Factor:', 4 * math.pi * prop.area / (prop.perimeter ** 2))\n",
    "        print('Rectangularity:', prop.area / prop.area_bbox)\n",
    "        print('Compactness:', (prop.perimeter ** 2) / (4 * math.pi * prop.area))\n",
    "        print('Shape Factor:', math.sqrt(prop.area) / prop.perimeter)\n",
    "        print(\"Convex Area Ratio:\", prop.area / prop.convex_area)\n",
    "        x_center, y_center = (prop.bbox[0] + prop.bbox[2]) / 2.0, (prop.bbox[1] + prop.bbox[3]) / 2.0\n",
    "        centroidToCenter = math.sqrt((prop.centroid[0] - x_center) ** 2 + (prop.centroid[1] - y_center) ** 2)\n",
    "        print(\"Centroid To Center:\", centroidToCenter)\n",
    "        print('-'*30)\n",
    "\n",
    "\n",
    "\n",
    "\n",
    "\n",
    "\n",
    "\n",
    "\n",
    "# # Display the polygon mask\n",
    "# plt.imshow(polygon_mask, cmap='gray')\n",
    "# plt.title(\"Polygon Mask\")\n",
    "# plt.savefig('test.png')\n"
   ]
  },
  {
   "cell_type": "code",
   "execution_count": 49,
   "metadata": {},
   "outputs": [
    {
     "name": "stdout",
     "output_type": "stream",
     "text": [
      "\n"
     ]
    },
    {
     "name": "stdout",
     "output_type": "stream",
     "text": [
      "0: 640x640 7 Powders, 1: 640x640 146 Powders, 220.2ms\n",
      "Speed: 3.1ms preprocess, 110.1ms inference, 20.0ms postprocess per image at shape (1, 3, 640, 640)\n"
     ]
    }
   ],
   "source": [
    "import cv2\n",
    "image_paths = [image_path, image2_path]\n",
    "images = [cv2.cvtColor(cv2.imread(path), cv2.COLOR_BGR2RGB) for path in image_paths]  # Convert images to RGB format\n",
    "\n",
    "# Process the batch of images\n",
    "results = model(images)\n",
    "\n",
    "# results.xyxy contains bounding box coordinates, confidences and class labels\n",
    "# results.render() will draw the predictions on the images\n",
    "# Note: Each entry in results.xyxy corresponds to one input image\n",
    "for i, (img, pred) in enumerate(zip(images, results)):\n",
    "    # Convert bounding boxes from tensor to numpy array and render them on the image\n",
    "    annotated_image = results[i].plot()  # Rendered image with detections\n",
    "    if not isinstance(annotated_image, Image.Image):\n",
    "        annotated_image = Image.fromarray(annotated_image)\n",
    "        \n",
    "    # Display the annotated image\n",
    "    plt.figure()  # Adjust the figure size as needed\n",
    "    plt.imshow(annotated_image)\n",
    "    plt.axis('off')  # Hide axes ticks\n",
    "    plt.savefig(f'output_{i}.png')\n"
   ]
  }
 ],
 "metadata": {
  "kernelspec": {
   "display_name": "yoloVenv",
   "language": "python",
   "name": "python3"
  },
  "language_info": {
   "codemirror_mode": {
    "name": "ipython",
    "version": 3
   },
   "file_extension": ".py",
   "mimetype": "text/x-python",
   "name": "python",
   "nbconvert_exporter": "python",
   "pygments_lexer": "ipython3",
   "version": "3.11.7"
  }
 },
 "nbformat": 4,
 "nbformat_minor": 2
}
